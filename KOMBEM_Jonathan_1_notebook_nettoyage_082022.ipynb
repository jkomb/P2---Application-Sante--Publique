{
 "cells": [
  {
   "cell_type": "markdown",
   "id": "287b8ba2",
   "metadata": {},
   "source": [
    "# Préparation des données"
   ]
  },
  {
   "cell_type": "markdown",
   "id": "9e49c6e6",
   "metadata": {},
   "source": [
    "### Données obenues auprès de https://world.openfoodfacts.org\n",
    "\n",
    "\n",
    "### Objectif du présent document\n",
    "\n",
    "Préparer le jeu de données en en vue de la réalisation d'une analyse univariée, bivariée et exploratoire des variables pertinentes au regard de notre proposition d'application dans le cadre d'un appel d'offre de \"Santé Publique\".\n",
    "\n",
    "\n",
    "### Contexte de réalisation de l'étude\n",
    "\n",
    "Notre étude du jeu de données devra être simple à comprendre pour un public néophyte. \n",
    "Nous devrons donc être particulièrement attentifs à la lisibilité et aux choix des graphiques pour illustrer notre propos.\n",
    "    \n",
    "### Direction de l'étude\n",
    "\n",
    "Après une analyse univariée et bivariée du jeu de données, nous pourrons réaliser une ACP afin de comprendre les caractéristiques les plus discriminantes de notre ensemble de produits, ainsi qu'un partitionnement afin de plus simplement \n",
    "catégoriser les produits (beaucoups de catégories présentes dans le jeu).\n",
    "\n",
    "Aussi nous pourrons effectuer quelques régressions pour étudier par exemple la correspondance entre nutriscore et nombre d'ingrédients dans un produit, la présence d'additifs ou d'allergènes.\n",
    "\n",
    "Enfin, nous proposerons une métrique rendant compte de la qualité intrinsèque des produits, ainsi que de leur impact sur l'environnement, une métrique qui se voudra plus transparente envers le consommateur sur le bien fondé de la proposition de valeur qu'ils représentent.\n",
    "\n",
    "### Idée d'application\n",
    "\n",
    "Nous proposons un outil permettant au consommateur de mieux apprécier la qualité des produits qu'il consomme, et qui sera principalement basé sur l'appréciation des critères suivants :\n",
    "- Le nustricore (valeur numérique)\n",
    "- Le critère NOVA qui range en 4 catégories les produits en fonction de leur taux de transformation industrielle\n",
    "- La présence d'addifits, d'allergènes, d'ingrédidents issus de l'huile de palme\n",
    "- La disparité entre l'origine du produit, son lieu de transformation et la FRANCE\n",
    "- L'appartenance du produit à un label BIO ou qui s'engage à prendre mieux soin des consommateurs\n",
    "- Le type de packaging utilisé pour conditionner le produit"
   ]
  },
  {
   "cell_type": "markdown",
   "id": "816e0cbe",
   "metadata": {},
   "source": [
    "## Récupération des données"
   ]
  },
  {
   "cell_type": "code",
   "execution_count": 1,
   "id": "c8b74c00",
   "metadata": {},
   "outputs": [],
   "source": [
    "import numpy as np\n",
    "import pandas as pd\n",
    "\n",
    "import matplotlib.pyplot as plt\n",
    "import seaborn as sns\n",
    "%matplotlib inline\n",
    "\n",
    "import missingno as msno\n",
    "import FETCH_LOAD_DATAS"
   ]
  },
  {
   "cell_type": "code",
   "execution_count": 2,
   "id": "3535af77",
   "metadata": {},
   "outputs": [
    {
     "name": "stdout",
     "output_type": "stream",
     "text": [
      "Help on module FETCH_LOAD_DATAS:\n",
      "\n",
      "NAME\n",
      "    FETCH_LOAD_DATAS\n",
      "\n",
      "DESCRIPTION\n",
      "    Ce module contient la définition des variables de chemins de destination ainsi que l'importation des librairies nécessaires à la définition des 2 fonctions suivantes:\n",
      "    - fetch_food_data() : qui sert à télécharger dans un sous-dossier du dossier de travail, 'datasets', le fichier .csv contenant  le jeu de données complet issu de https://fr.openfoodfacts.org/data\n",
      "    - load_food_data() : qui sert à charger ce jeu de données dans un DataFrame\n",
      "\n",
      "FUNCTIONS\n",
      "    fetch_food_data(food_path='datasets', dwnld_url='https://s3-eu-west-1.amazonaws.com/static.oc-static.com/prod/courses/files/parcours-data-scientist/P2/fr.openfoodfacts.org.products.csv.zip', zip_path='datasets\\\\fr.openfoodfacts.org.products.csv.zip', file_name='fr.openfoodfacts.org.products.csv')\n",
      "        fonction d'extraction des données depuis https://world.openfoodfacts.org/data\n",
      "    \n",
      "    load_food_data(file_path='datasets\\\\fr.openfoodfacts.org.products.csv')\n",
      "        fonction de chargement des données extraites dans un dataframe\n",
      "\n",
      "DATA\n",
      "    DOWNLOAD_URL = 'https://s3-eu-west-1.amazonaws.com/static.oc-sta...cie...\n",
      "    FILE_NAME = 'fr.openfoodfacts.org.products.csv'\n",
      "    FILE_PATH = r'datasets\\fr.openfoodfacts.org.products.csv'\n",
      "    FOOD_PATH = 'datasets'\n",
      "    ZIP_NAME = 'fr.openfoodfacts.org.products.csv.zip'\n",
      "    ZIP_PATH = r'datasets\\fr.openfoodfacts.org.products.csv.zip'\n",
      "\n",
      "FILE\n",
      "    c:\\users\\jkomb\\desktop\\notebooks ia\\+2. projet application santé publique\\fetch_load_datas.py\n",
      "\n",
      "\n"
     ]
    }
   ],
   "source": [
    "help(FETCH_LOAD_DATAS)"
   ]
  },
  {
   "cell_type": "markdown",
   "id": "76481b57",
   "metadata": {},
   "source": [
    "## Découverte du jeu de données"
   ]
  },
  {
   "cell_type": "code",
   "execution_count": 3,
   "id": "aff5a592",
   "metadata": {},
   "outputs": [
    {
     "name": "stderr",
     "output_type": "stream",
     "text": [
      "C:\\Users\\jkomb\\Desktop\\Notebooks IA\\+2. Projet Application Santé Publique\\FETCH_LOAD_DATAS.py:36: DtypeWarning: Columns (0,3,5,19,20,24,25,26,27,28,35,36,37,38,39,48) have mixed types. Specify dtype option on import or set low_memory=False.\n",
      "  return pd.read_csv(file_path, delimiter =\"\\t\", on_bad_lines='skip')\n"
     ]
    }
   ],
   "source": [
    "df_food = FETCH_LOAD_DATAS.load_food_data()"
   ]
  },
  {
   "cell_type": "code",
   "execution_count": 4,
   "id": "3390887f",
   "metadata": {},
   "outputs": [],
   "source": [
    "df = df_food.copy()"
   ]
  },
  {
   "cell_type": "code",
   "execution_count": 5,
   "id": "5eb653ca",
   "metadata": {},
   "outputs": [
    {
     "data": {
      "text/plain": [
       "(320772, 162)"
      ]
     },
     "execution_count": 5,
     "metadata": {},
     "output_type": "execute_result"
    }
   ],
   "source": [
    "df.shape"
   ]
  },
  {
   "cell_type": "code",
   "execution_count": 6,
   "id": "b3e28271",
   "metadata": {},
   "outputs": [
    {
     "data": {
      "text/html": [
       "<div>\n",
       "<style scoped>\n",
       "    .dataframe tbody tr th:only-of-type {\n",
       "        vertical-align: middle;\n",
       "    }\n",
       "\n",
       "    .dataframe tbody tr th {\n",
       "        vertical-align: top;\n",
       "    }\n",
       "\n",
       "    .dataframe thead th {\n",
       "        text-align: right;\n",
       "    }\n",
       "</style>\n",
       "<table border=\"1\" class=\"dataframe\">\n",
       "  <thead>\n",
       "    <tr style=\"text-align: right;\">\n",
       "      <th></th>\n",
       "      <th>code</th>\n",
       "      <th>url</th>\n",
       "      <th>creator</th>\n",
       "      <th>created_t</th>\n",
       "      <th>created_datetime</th>\n",
       "      <th>last_modified_t</th>\n",
       "      <th>last_modified_datetime</th>\n",
       "      <th>product_name</th>\n",
       "      <th>generic_name</th>\n",
       "      <th>quantity</th>\n",
       "      <th>...</th>\n",
       "      <th>ph_100g</th>\n",
       "      <th>fruits-vegetables-nuts_100g</th>\n",
       "      <th>collagen-meat-protein-ratio_100g</th>\n",
       "      <th>cocoa_100g</th>\n",
       "      <th>chlorophyl_100g</th>\n",
       "      <th>carbon-footprint_100g</th>\n",
       "      <th>nutrition-score-fr_100g</th>\n",
       "      <th>nutrition-score-uk_100g</th>\n",
       "      <th>glycemic-index_100g</th>\n",
       "      <th>water-hardness_100g</th>\n",
       "    </tr>\n",
       "  </thead>\n",
       "  <tbody>\n",
       "    <tr>\n",
       "      <th>0</th>\n",
       "      <td>3087</td>\n",
       "      <td>http://world-fr.openfoodfacts.org/produit/0000...</td>\n",
       "      <td>openfoodfacts-contributors</td>\n",
       "      <td>1474103866</td>\n",
       "      <td>2016-09-17T09:17:46Z</td>\n",
       "      <td>1474103893</td>\n",
       "      <td>2016-09-17T09:18:13Z</td>\n",
       "      <td>Farine de blé noir</td>\n",
       "      <td>NaN</td>\n",
       "      <td>1kg</td>\n",
       "      <td>...</td>\n",
       "      <td>NaN</td>\n",
       "      <td>NaN</td>\n",
       "      <td>NaN</td>\n",
       "      <td>NaN</td>\n",
       "      <td>NaN</td>\n",
       "      <td>NaN</td>\n",
       "      <td>NaN</td>\n",
       "      <td>NaN</td>\n",
       "      <td>NaN</td>\n",
       "      <td>NaN</td>\n",
       "    </tr>\n",
       "    <tr>\n",
       "      <th>1</th>\n",
       "      <td>4530</td>\n",
       "      <td>http://world-fr.openfoodfacts.org/produit/0000...</td>\n",
       "      <td>usda-ndb-import</td>\n",
       "      <td>1489069957</td>\n",
       "      <td>2017-03-09T14:32:37Z</td>\n",
       "      <td>1489069957</td>\n",
       "      <td>2017-03-09T14:32:37Z</td>\n",
       "      <td>Banana Chips Sweetened (Whole)</td>\n",
       "      <td>NaN</td>\n",
       "      <td>NaN</td>\n",
       "      <td>...</td>\n",
       "      <td>NaN</td>\n",
       "      <td>NaN</td>\n",
       "      <td>NaN</td>\n",
       "      <td>NaN</td>\n",
       "      <td>NaN</td>\n",
       "      <td>NaN</td>\n",
       "      <td>14.0</td>\n",
       "      <td>14.0</td>\n",
       "      <td>NaN</td>\n",
       "      <td>NaN</td>\n",
       "    </tr>\n",
       "    <tr>\n",
       "      <th>2</th>\n",
       "      <td>4559</td>\n",
       "      <td>http://world-fr.openfoodfacts.org/produit/0000...</td>\n",
       "      <td>usda-ndb-import</td>\n",
       "      <td>1489069957</td>\n",
       "      <td>2017-03-09T14:32:37Z</td>\n",
       "      <td>1489069957</td>\n",
       "      <td>2017-03-09T14:32:37Z</td>\n",
       "      <td>Peanuts</td>\n",
       "      <td>NaN</td>\n",
       "      <td>NaN</td>\n",
       "      <td>...</td>\n",
       "      <td>NaN</td>\n",
       "      <td>NaN</td>\n",
       "      <td>NaN</td>\n",
       "      <td>NaN</td>\n",
       "      <td>NaN</td>\n",
       "      <td>NaN</td>\n",
       "      <td>0.0</td>\n",
       "      <td>0.0</td>\n",
       "      <td>NaN</td>\n",
       "      <td>NaN</td>\n",
       "    </tr>\n",
       "    <tr>\n",
       "      <th>3</th>\n",
       "      <td>16087</td>\n",
       "      <td>http://world-fr.openfoodfacts.org/produit/0000...</td>\n",
       "      <td>usda-ndb-import</td>\n",
       "      <td>1489055731</td>\n",
       "      <td>2017-03-09T10:35:31Z</td>\n",
       "      <td>1489055731</td>\n",
       "      <td>2017-03-09T10:35:31Z</td>\n",
       "      <td>Organic Salted Nut Mix</td>\n",
       "      <td>NaN</td>\n",
       "      <td>NaN</td>\n",
       "      <td>...</td>\n",
       "      <td>NaN</td>\n",
       "      <td>NaN</td>\n",
       "      <td>NaN</td>\n",
       "      <td>NaN</td>\n",
       "      <td>NaN</td>\n",
       "      <td>NaN</td>\n",
       "      <td>12.0</td>\n",
       "      <td>12.0</td>\n",
       "      <td>NaN</td>\n",
       "      <td>NaN</td>\n",
       "    </tr>\n",
       "    <tr>\n",
       "      <th>4</th>\n",
       "      <td>16094</td>\n",
       "      <td>http://world-fr.openfoodfacts.org/produit/0000...</td>\n",
       "      <td>usda-ndb-import</td>\n",
       "      <td>1489055653</td>\n",
       "      <td>2017-03-09T10:34:13Z</td>\n",
       "      <td>1489055653</td>\n",
       "      <td>2017-03-09T10:34:13Z</td>\n",
       "      <td>Organic Polenta</td>\n",
       "      <td>NaN</td>\n",
       "      <td>NaN</td>\n",
       "      <td>...</td>\n",
       "      <td>NaN</td>\n",
       "      <td>NaN</td>\n",
       "      <td>NaN</td>\n",
       "      <td>NaN</td>\n",
       "      <td>NaN</td>\n",
       "      <td>NaN</td>\n",
       "      <td>NaN</td>\n",
       "      <td>NaN</td>\n",
       "      <td>NaN</td>\n",
       "      <td>NaN</td>\n",
       "    </tr>\n",
       "  </tbody>\n",
       "</table>\n",
       "<p>5 rows × 162 columns</p>\n",
       "</div>"
      ],
      "text/plain": [
       "    code                                                url  \\\n",
       "0   3087  http://world-fr.openfoodfacts.org/produit/0000...   \n",
       "1   4530  http://world-fr.openfoodfacts.org/produit/0000...   \n",
       "2   4559  http://world-fr.openfoodfacts.org/produit/0000...   \n",
       "3  16087  http://world-fr.openfoodfacts.org/produit/0000...   \n",
       "4  16094  http://world-fr.openfoodfacts.org/produit/0000...   \n",
       "\n",
       "                      creator   created_t      created_datetime  \\\n",
       "0  openfoodfacts-contributors  1474103866  2016-09-17T09:17:46Z   \n",
       "1             usda-ndb-import  1489069957  2017-03-09T14:32:37Z   \n",
       "2             usda-ndb-import  1489069957  2017-03-09T14:32:37Z   \n",
       "3             usda-ndb-import  1489055731  2017-03-09T10:35:31Z   \n",
       "4             usda-ndb-import  1489055653  2017-03-09T10:34:13Z   \n",
       "\n",
       "  last_modified_t last_modified_datetime                    product_name  \\\n",
       "0      1474103893   2016-09-17T09:18:13Z              Farine de blé noir   \n",
       "1      1489069957   2017-03-09T14:32:37Z  Banana Chips Sweetened (Whole)   \n",
       "2      1489069957   2017-03-09T14:32:37Z                         Peanuts   \n",
       "3      1489055731   2017-03-09T10:35:31Z          Organic Salted Nut Mix   \n",
       "4      1489055653   2017-03-09T10:34:13Z                 Organic Polenta   \n",
       "\n",
       "  generic_name quantity  ... ph_100g fruits-vegetables-nuts_100g  \\\n",
       "0          NaN      1kg  ...     NaN                         NaN   \n",
       "1          NaN      NaN  ...     NaN                         NaN   \n",
       "2          NaN      NaN  ...     NaN                         NaN   \n",
       "3          NaN      NaN  ...     NaN                         NaN   \n",
       "4          NaN      NaN  ...     NaN                         NaN   \n",
       "\n",
       "  collagen-meat-protein-ratio_100g cocoa_100g chlorophyl_100g  \\\n",
       "0                              NaN        NaN             NaN   \n",
       "1                              NaN        NaN             NaN   \n",
       "2                              NaN        NaN             NaN   \n",
       "3                              NaN        NaN             NaN   \n",
       "4                              NaN        NaN             NaN   \n",
       "\n",
       "  carbon-footprint_100g nutrition-score-fr_100g nutrition-score-uk_100g  \\\n",
       "0                   NaN                     NaN                     NaN   \n",
       "1                   NaN                    14.0                    14.0   \n",
       "2                   NaN                     0.0                     0.0   \n",
       "3                   NaN                    12.0                    12.0   \n",
       "4                   NaN                     NaN                     NaN   \n",
       "\n",
       "  glycemic-index_100g water-hardness_100g  \n",
       "0                 NaN                 NaN  \n",
       "1                 NaN                 NaN  \n",
       "2                 NaN                 NaN  \n",
       "3                 NaN                 NaN  \n",
       "4                 NaN                 NaN  \n",
       "\n",
       "[5 rows x 162 columns]"
      ]
     },
     "execution_count": 6,
     "metadata": {},
     "output_type": "execute_result"
    }
   ],
   "source": [
    "df.head()"
   ]
  },
  {
   "cell_type": "code",
   "execution_count": 7,
   "id": "2cd845d2",
   "metadata": {},
   "outputs": [
    {
     "data": {
      "text/plain": [
       "0.7622157263195134"
      ]
     },
     "execution_count": 7,
     "metadata": {},
     "output_type": "execute_result"
    }
   ],
   "source": [
    "df.isna().mean().mean()"
   ]
  },
  {
   "cell_type": "code",
   "execution_count": 8,
   "id": "e9b29e60",
   "metadata": {
    "scrolled": true
   },
   "outputs": [
    {
     "data": {
      "text/plain": [
       "<AxesSubplot:>"
      ]
     },
     "execution_count": 8,
     "metadata": {},
     "output_type": "execute_result"
    },
    {
     "data": {
      "image/png": "[encoded data removed]",
      "text/plain": [
       "<Figure size 1800x4932 with 3 Axes>"
      ]
     },
     "metadata": {
      "needs_background": "light"
     },
     "output_type": "display_data"
    }
   ],
   "source": [
    "#trier par valeur de taux de remplissage\n",
    "msno.bar(df, sort='ascending')"
   ]
  },
  {
   "cell_type": "code",
   "execution_count": 9,
   "id": "0c255d97",
   "metadata": {
    "scrolled": false
   },
   "outputs": [
    {
     "data": {
      "text/plain": [
       "en:gluten,en:milk                                                      184\n",
       "en:celery,en:mustard                                                   181\n",
       "en:eggs,en:gluten,en:nuts                                              180\n",
       "en:nuts,en:peanuts,en:sesame-seeds,en:soybeans                         177\n",
       "en:milk,en:nuts,en:peanuts                                             171\n",
       "                                                                      ... \n",
       "en:celery,en:gluten,en:sesame-seeds,en:soybeans,fr:fruitqs-a-coques      1\n",
       "fr:brisures-de-noyaux                                                    1\n",
       "en:gluten,en:soybeans,fr:produits-laitiers                               1\n",
       "en:celery,en:gluten,en:milk,fr:produits-laitiers                         1\n",
       "en:fish,en:gluten,en:molluscs,en:soybeans                                1\n",
       "Name: traces_tags, Length: 3558, dtype: int64"
      ]
     },
     "execution_count": 9,
     "metadata": {},
     "output_type": "execute_result"
    }
   ],
   "source": [
    "#cellule utilisée pour naviguer à traver les colonnes pour se faire une idée des valeurs qu'elles contiennent\n",
    "df['traces_tags'].value_counts()[20:]"
   ]
  },
  {
   "cell_type": "code",
   "execution_count": 10,
   "id": "cb9cd81e",
   "metadata": {
    "scrolled": false
   },
   "outputs": [
    {
     "data": {
      "text/plain": [
       "<AxesSubplot:>"
      ]
     },
     "execution_count": 10,
     "metadata": {},
     "output_type": "execute_result"
    },
    {
     "data": {
      "image/png": "[encoded data removed]",
      "text/plain": [
       "<Figure size 1800x720 with 2 Axes>"
      ]
     },
     "metadata": {
      "needs_background": "light"
     },
     "output_type": "display_data"
    }
   ],
   "source": [
    "#cellule utilisée pour naviguer dans le jeu de données pour observer les taux de remplissage par bloc\n",
    "msno.matrix(df.iloc[:1000,58:])"
   ]
  },
  {
   "cell_type": "code",
   "execution_count": 11,
   "id": "caed7733",
   "metadata": {},
   "outputs": [
    {
     "data": {
      "text/plain": [
       "<AxesSubplot:>"
      ]
     },
     "execution_count": 11,
     "metadata": {},
     "output_type": "execute_result"
    },
    {
     "data": {
      "image/png": "[encoded data removed]",
      "text/plain": [
       "<Figure size 432x288 with 1 Axes>"
      ]
     },
     "metadata": {
      "needs_background": "light"
     },
     "output_type": "display_data"
    }
   ],
   "source": [
    "df.isna().mean(axis=1).hist(bins=100)"
   ]
  },
  {
   "cell_type": "code",
   "execution_count": 12,
   "id": "99367ecd",
   "metadata": {},
   "outputs": [
    {
     "data": {
      "text/plain": [
       "0         0.895062\n",
       "1         0.765432\n",
       "2         0.753086\n",
       "3         0.777778\n",
       "4         0.833333\n",
       "            ...   \n",
       "320766    0.864198\n",
       "320767    0.882716\n",
       "320769    0.820988\n",
       "320770    0.895062\n",
       "320771    0.796296\n",
       "Length: 157343, dtype: float64"
      ]
     },
     "execution_count": 12,
     "metadata": {},
     "output_type": "execute_result"
    }
   ],
   "source": [
    "df.isna().mean(axis=1)[df.isna().mean(axis=1) > 0.75]"
   ]
  },
  {
   "cell_type": "code",
   "execution_count": 13,
   "id": "b85a9a0a",
   "metadata": {
    "scrolled": true
   },
   "outputs": [
    {
     "data": {
      "text/plain": [
       "<AxesSubplot:>"
      ]
     },
     "execution_count": 13,
     "metadata": {},
     "output_type": "execute_result"
    },
    {
     "data": {
      "image/png": "[encoded data removed]",
      "text/plain": [
       "<Figure size 432x288 with 1 Axes>"
      ]
     },
     "metadata": {
      "needs_background": "light"
     },
     "output_type": "display_data"
    }
   ],
   "source": [
    "df.isna().mean().hist(bins=100)"
   ]
  },
  {
   "cell_type": "code",
   "execution_count": 14,
   "id": "b258afce",
   "metadata": {},
   "outputs": [
    {
     "data": {
      "text/plain": [
       "origins                     0.930823\n",
       "origins_tags                0.930938\n",
       "emb_codes                   0.908639\n",
       "emb_codes_tags              0.908649\n",
       "first_packaging_code_geo    0.941382\n",
       "                              ...   \n",
       "cocoa_100g                  0.997045\n",
       "chlorophyl_100g             1.000000\n",
       "carbon-footprint_100g       0.999165\n",
       "glycemic-index_100g         1.000000\n",
       "water-hardness_100g         1.000000\n",
       "Length: 100, dtype: float64"
      ]
     },
     "execution_count": 14,
     "metadata": {},
     "output_type": "execute_result"
    }
   ],
   "source": [
    "df.isna().mean()[df.isna().mean() > 0.90]"
   ]
  },
  {
   "cell_type": "markdown",
   "id": "1ef8baa8",
   "metadata": {},
   "source": [
    "### Description du jeu de données\n",
    "\n",
    "Le jeu de données est un ensemble de 320772 lignes et 160 colonnes qui présente un certain nombre de caractéristiques de produits alimentaires : \n",
    "- <b>générales</b> (origine, site de transformation, packaging, ingrédients, etc.)\n",
    "- <b>particulières</b> (présence d'additifs, présence d'allergènes, appartenance à un label bio ou autre, etc.)\n",
    "- <b>nutritionnelles</b> (taux de protéines, fibres, graisses monosaturées, vitamine b6, etc.)\n",
    "\n",
    "Les caractéristiques de chaque produit sont réparties en <u>5 parties significatives</u> :\n",
    "1. Une partie générale relative à la base de données du site https://world.openfoodfacts.org/data\n",
    "2. Une partie informative contenant des métadonnées du produit (packaging, origine, lieu de transformation, etc.)\n",
    "3. Une partie 'constitution du produit' avec les ingrédients, allergènes et traces d'autres produits qu'il peut contenir\n",
    "4. Une partie présentant des informations diverses telles que la présence d'additifs, d'huile de palme et notamment sur le NUTRISCORE** du produit\n",
    "5. Une partie nutritionnelle où l'on retrouve toutes les informations typiques d'énergie pour 100g de produit consommé, la teneur en 96 nutriments différents pour 100 g de produits ainsi que le nutriscore** du produit.\n",
    "\n",
    "** On fait ici la différence entre le NUTRISCORE (A,B,C,D,E) et le nutriscore qui est la valeur numérique avant transformation en catégorie (A,B,C,D,E). Cette distinction sera faite dans toute la suite de notre étude.\n",
    "\n",
    "Le jeu de données présente un taux de valeurs manquantes de <b>76%</b> :\n",
    "- Près de la moitié des colonnes présentent un taux de valeurs manquantes supérieur à <b>99%</b>, mode de la distribution des  taux de valeurs manquantes des colonnes (74 colonnes)\n",
    "- Plus de 60% des colonnes présentent un taux de valeurs manquantes supérieur à <b>90%</b> (100 colonnes)\n",
    "- Plus de 2/3 des lignes (71%) présentent un taux de valeurs manquantes supérieur à <b>75%</b>, mode de la distribution des taux de valeurs manquantes des lignes (229030 lignes)"
   ]
  },
  {
   "cell_type": "markdown",
   "id": "26608da2",
   "metadata": {},
   "source": [
    "### Sélection des variables utiles\n",
    "\n",
    "Pour la suite de notre étude du jeu de données, nous allons, partie par partie décortiquer les variables que nous allons garder, et selon ces colonnes, les individus dont nous allons nous séparer.\n",
    "\n",
    "Comme il y a significativement plus valeurs pour les colonnes du début du tableau, que pour les colonnes du milieu vers la fin du tableau (à l'exception du nutriscore), nous considérons que nous pourrons épurer celui-ci de gauche à droite, de partie en partie, à quelques exceptions près de variables peut-être."
   ]
  },
  {
   "cell_type": "markdown",
   "id": "705ba50e",
   "metadata": {},
   "source": [
    "#### 1. Partie générale relative à la base de données des produits"
   ]
  },
  {
   "cell_type": "code",
   "execution_count": 15,
   "id": "9374f6f9",
   "metadata": {},
   "outputs": [
    {
     "data": {
      "text/plain": [
       "['code',\n",
       " 'url',\n",
       " 'creator',\n",
       " 'created_t',\n",
       " 'created_datetime',\n",
       " 'last_modified_t',\n",
       " 'last_modified_datetime',\n",
       " 'product_name',\n",
       " 'generic_name',\n",
       " 'quantity']"
      ]
     },
     "execution_count": 15,
     "metadata": {},
     "output_type": "execute_result"
    }
   ],
   "source": [
    "col1 = list(df.columns[:df.columns.get_loc('packaging')])\n",
    "col1"
   ]
  },
  {
   "cell_type": "markdown",
   "id": "d0156807",
   "metadata": {},
   "source": [
    "Nous n'allons conserver que les colonnes 'code', 'url', 'last_modified_datetime' et 'product_name'.\n",
    "- Nous espérons à ce stade utiliser la colonne 'code' comme identifiant unique pour chaque produit.\n",
    "- La colonne 'url' renvoie à la page produit sur le site \"openfoodfacts\"\n",
    "- La colonne 'last_modified_datetime' pourra nous prévenir de l'ajout d'information sur un produit que nous pourrons alors peut être mieux analyser\n",
    "- La colonne 'product_name' pour permettre à l'utilisateur de notre application de réaliser une recherche textuelle simple\n"
   ]
  },
  {
   "cell_type": "code",
   "execution_count": 16,
   "id": "406a25ee",
   "metadata": {},
   "outputs": [],
   "source": [
    "col_part1_to_drop = [x for x in col1 if x not in ['code','url','last_modified_datetime','product_name' ]]\n",
    "df.drop(columns=col_part1_to_drop, inplace=True)"
   ]
  },
  {
   "cell_type": "code",
   "execution_count": 17,
   "id": "4beec99b",
   "metadata": {},
   "outputs": [],
   "source": [
    "df.dropna(subset=['code'],inplace=True, axis=0)"
   ]
  },
  {
   "cell_type": "code",
   "execution_count": 18,
   "id": "abaeaf45",
   "metadata": {},
   "outputs": [
    {
     "data": {
      "text/html": [
       "<div>\n",
       "<style scoped>\n",
       "    .dataframe tbody tr th:only-of-type {\n",
       "        vertical-align: middle;\n",
       "    }\n",
       "\n",
       "    .dataframe tbody tr th {\n",
       "        vertical-align: top;\n",
       "    }\n",
       "\n",
       "    .dataframe thead th {\n",
       "        text-align: right;\n",
       "    }\n",
       "</style>\n",
       "<table border=\"1\" class=\"dataframe\">\n",
       "  <thead>\n",
       "    <tr style=\"text-align: right;\">\n",
       "      <th></th>\n",
       "      <th>code</th>\n",
       "      <th>url</th>\n",
       "      <th>last_modified_datetime</th>\n",
       "      <th>product_name</th>\n",
       "      <th>packaging</th>\n",
       "      <th>packaging_tags</th>\n",
       "      <th>brands</th>\n",
       "      <th>brands_tags</th>\n",
       "      <th>categories</th>\n",
       "      <th>categories_tags</th>\n",
       "      <th>...</th>\n",
       "      <th>ph_100g</th>\n",
       "      <th>fruits-vegetables-nuts_100g</th>\n",
       "      <th>collagen-meat-protein-ratio_100g</th>\n",
       "      <th>cocoa_100g</th>\n",
       "      <th>chlorophyl_100g</th>\n",
       "      <th>carbon-footprint_100g</th>\n",
       "      <th>nutrition-score-fr_100g</th>\n",
       "      <th>nutrition-score-uk_100g</th>\n",
       "      <th>glycemic-index_100g</th>\n",
       "      <th>water-hardness_100g</th>\n",
       "    </tr>\n",
       "  </thead>\n",
       "  <tbody>\n",
       "    <tr>\n",
       "      <th>9892</th>\n",
       "      <td>11778</td>\n",
       "      <td>http://world-fr.openfoodfacts.org/produit/0011...</td>\n",
       "      <td>2017-04-02T14:13:05Z</td>\n",
       "      <td>All Butter Reduced Fat Stem Ginger Cookies</td>\n",
       "      <td>Plastique,Sachet</td>\n",
       "      <td>plastique,sachet</td>\n",
       "      <td>Marks &amp; Spencer</td>\n",
       "      <td>marks-spencer</td>\n",
       "      <td>Snacks sucrés,Biscuits et gâteaux,Biscuits,Coo...</td>\n",
       "      <td>en:sugary-snacks,en:biscuits-and-cakes,en:bisc...</td>\n",
       "      <td>...</td>\n",
       "      <td>NaN</td>\n",
       "      <td>NaN</td>\n",
       "      <td>NaN</td>\n",
       "      <td>NaN</td>\n",
       "      <td>NaN</td>\n",
       "      <td>NaN</td>\n",
       "      <td>18.0</td>\n",
       "      <td>18.0</td>\n",
       "      <td>NaN</td>\n",
       "      <td>NaN</td>\n",
       "    </tr>\n",
       "    <tr>\n",
       "      <th>458</th>\n",
       "      <td>11778</td>\n",
       "      <td>http://world-fr.openfoodfacts.org/produit/0001...</td>\n",
       "      <td>2017-03-31T16:12:52Z</td>\n",
       "      <td>Stem Ginger Cookies</td>\n",
       "      <td>plastique</td>\n",
       "      <td>plastique</td>\n",
       "      <td>Marks &amp; Spencer</td>\n",
       "      <td>marks-spencer</td>\n",
       "      <td>Cookies</td>\n",
       "      <td>en:sugary-snacks,en:biscuits-and-cakes,en:bisc...</td>\n",
       "      <td>...</td>\n",
       "      <td>NaN</td>\n",
       "      <td>NaN</td>\n",
       "      <td>NaN</td>\n",
       "      <td>NaN</td>\n",
       "      <td>NaN</td>\n",
       "      <td>NaN</td>\n",
       "      <td>18.0</td>\n",
       "      <td>18.0</td>\n",
       "      <td>NaN</td>\n",
       "      <td>NaN</td>\n",
       "    </tr>\n",
       "    <tr>\n",
       "      <th>6</th>\n",
       "      <td>16117</td>\n",
       "      <td>http://world-fr.openfoodfacts.org/produit/0000...</td>\n",
       "      <td>2017-03-09T10:35:30Z</td>\n",
       "      <td>Organic Long Grain White Rice</td>\n",
       "      <td>NaN</td>\n",
       "      <td>NaN</td>\n",
       "      <td>Lundberg</td>\n",
       "      <td>lundberg</td>\n",
       "      <td>NaN</td>\n",
       "      <td>NaN</td>\n",
       "      <td>...</td>\n",
       "      <td>NaN</td>\n",
       "      <td>NaN</td>\n",
       "      <td>NaN</td>\n",
       "      <td>NaN</td>\n",
       "      <td>NaN</td>\n",
       "      <td>NaN</td>\n",
       "      <td>NaN</td>\n",
       "      <td>NaN</td>\n",
       "      <td>NaN</td>\n",
       "      <td>NaN</td>\n",
       "    </tr>\n",
       "    <tr>\n",
       "      <th>481</th>\n",
       "      <td>16117</td>\n",
       "      <td>http://world-fr.openfoodfacts.org/produit/0001...</td>\n",
       "      <td>2017-03-09T13:14:18Z</td>\n",
       "      <td>Colossal Olives With Jalapeno Peppers</td>\n",
       "      <td>NaN</td>\n",
       "      <td>NaN</td>\n",
       "      <td>Trader Joe's</td>\n",
       "      <td>trader-joe-s</td>\n",
       "      <td>NaN</td>\n",
       "      <td>NaN</td>\n",
       "      <td>...</td>\n",
       "      <td>NaN</td>\n",
       "      <td>NaN</td>\n",
       "      <td>NaN</td>\n",
       "      <td>NaN</td>\n",
       "      <td>NaN</td>\n",
       "      <td>NaN</td>\n",
       "      <td>NaN</td>\n",
       "      <td>NaN</td>\n",
       "      <td>NaN</td>\n",
       "      <td>NaN</td>\n",
       "    </tr>\n",
       "    <tr>\n",
       "      <th>519</th>\n",
       "      <td>24600</td>\n",
       "      <td>http://world-fr.openfoodfacts.org/produit/0002...</td>\n",
       "      <td>2015-06-27T12:03:12Z</td>\n",
       "      <td>NaN</td>\n",
       "      <td>NaN</td>\n",
       "      <td>NaN</td>\n",
       "      <td>NaN</td>\n",
       "      <td>NaN</td>\n",
       "      <td>NaN</td>\n",
       "      <td>NaN</td>\n",
       "      <td>...</td>\n",
       "      <td>NaN</td>\n",
       "      <td>NaN</td>\n",
       "      <td>NaN</td>\n",
       "      <td>NaN</td>\n",
       "      <td>NaN</td>\n",
       "      <td>NaN</td>\n",
       "      <td>NaN</td>\n",
       "      <td>NaN</td>\n",
       "      <td>NaN</td>\n",
       "      <td>NaN</td>\n",
       "    </tr>\n",
       "  </tbody>\n",
       "</table>\n",
       "<p>5 rows × 156 columns</p>\n",
       "</div>"
      ],
      "text/plain": [
       "       code                                                url  \\\n",
       "9892  11778  http://world-fr.openfoodfacts.org/produit/0011...   \n",
       "458   11778  http://world-fr.openfoodfacts.org/produit/0001...   \n",
       "6     16117  http://world-fr.openfoodfacts.org/produit/0000...   \n",
       "481   16117  http://world-fr.openfoodfacts.org/produit/0001...   \n",
       "519   24600  http://world-fr.openfoodfacts.org/produit/0002...   \n",
       "\n",
       "     last_modified_datetime                                product_name  \\\n",
       "9892   2017-04-02T14:13:05Z  All Butter Reduced Fat Stem Ginger Cookies   \n",
       "458    2017-03-31T16:12:52Z                         Stem Ginger Cookies   \n",
       "6      2017-03-09T10:35:30Z               Organic Long Grain White Rice   \n",
       "481    2017-03-09T13:14:18Z       Colossal Olives With Jalapeno Peppers   \n",
       "519    2015-06-27T12:03:12Z                                         NaN   \n",
       "\n",
       "             packaging    packaging_tags           brands    brands_tags  \\\n",
       "9892  Plastique,Sachet  plastique,sachet  Marks & Spencer  marks-spencer   \n",
       "458          plastique         plastique  Marks & Spencer  marks-spencer   \n",
       "6                  NaN               NaN         Lundberg       lundberg   \n",
       "481                NaN               NaN     Trader Joe's   trader-joe-s   \n",
       "519                NaN               NaN              NaN            NaN   \n",
       "\n",
       "                                             categories  \\\n",
       "9892  Snacks sucrés,Biscuits et gâteaux,Biscuits,Coo...   \n",
       "458                                             Cookies   \n",
       "6                                                   NaN   \n",
       "481                                                 NaN   \n",
       "519                                                 NaN   \n",
       "\n",
       "                                        categories_tags  ... ph_100g  \\\n",
       "9892  en:sugary-snacks,en:biscuits-and-cakes,en:bisc...  ...     NaN   \n",
       "458   en:sugary-snacks,en:biscuits-and-cakes,en:bisc...  ...     NaN   \n",
       "6                                                   NaN  ...     NaN   \n",
       "481                                                 NaN  ...     NaN   \n",
       "519                                                 NaN  ...     NaN   \n",
       "\n",
       "     fruits-vegetables-nuts_100g collagen-meat-protein-ratio_100g cocoa_100g  \\\n",
       "9892                         NaN                              NaN        NaN   \n",
       "458                          NaN                              NaN        NaN   \n",
       "6                            NaN                              NaN        NaN   \n",
       "481                          NaN                              NaN        NaN   \n",
       "519                          NaN                              NaN        NaN   \n",
       "\n",
       "     chlorophyl_100g carbon-footprint_100g nutrition-score-fr_100g  \\\n",
       "9892             NaN                   NaN                    18.0   \n",
       "458              NaN                   NaN                    18.0   \n",
       "6                NaN                   NaN                     NaN   \n",
       "481              NaN                   NaN                     NaN   \n",
       "519              NaN                   NaN                     NaN   \n",
       "\n",
       "     nutrition-score-uk_100g glycemic-index_100g water-hardness_100g  \n",
       "9892                    18.0                 NaN                 NaN  \n",
       "458                     18.0                 NaN                 NaN  \n",
       "6                        NaN                 NaN                 NaN  \n",
       "481                      NaN                 NaN                 NaN  \n",
       "519                      NaN                 NaN                 NaN  \n",
       "\n",
       "[5 rows x 156 columns]"
      ]
     },
     "execution_count": 18,
     "metadata": {},
     "output_type": "execute_result"
    }
   ],
   "source": [
    "df[df['code'].duplicated(keep=False)].sort_values('code', ascending=True).head()"
   ]
  },
  {
   "cell_type": "markdown",
   "id": "2659b398",
   "metadata": {},
   "source": [
    "Pour les doublons, à ce stade, nous n'allons garder que l'occurence présentant le plus faible taux de valeurs manquantes."
   ]
  },
  {
   "cell_type": "code",
   "execution_count": 19,
   "id": "799d8686",
   "metadata": {},
   "outputs": [],
   "source": [
    "df['taux_Nan'] = df.isna().mean(axis=1)\n",
    "df.sort_values('taux_Nan', ascending=False, inplace=True)\n",
    "df.drop_duplicates(subset=['code'], keep='first', inplace=True)\n",
    "df.drop('taux_Nan', axis=1, inplace=True)"
   ]
  },
  {
   "cell_type": "code",
   "execution_count": 20,
   "id": "35543093",
   "metadata": {},
   "outputs": [
    {
     "data": {
      "text/plain": [
       "(320638, 156)"
      ]
     },
     "execution_count": 20,
     "metadata": {},
     "output_type": "execute_result"
    }
   ],
   "source": [
    "df.shape"
   ]
  },
  {
   "cell_type": "code",
   "execution_count": 21,
   "id": "f67b93d3",
   "metadata": {},
   "outputs": [
    {
     "data": {
      "text/plain": [
       "0.0"
      ]
     },
     "execution_count": 21,
     "metadata": {},
     "output_type": "execute_result"
    }
   ],
   "source": [
    "df['code'].isna().mean()"
   ]
  },
  {
   "cell_type": "code",
   "execution_count": 22,
   "id": "4235e4ad",
   "metadata": {},
   "outputs": [
    {
     "data": {
      "text/plain": [
       "1.0"
      ]
     },
     "execution_count": 22,
     "metadata": {},
     "output_type": "execute_result"
    }
   ],
   "source": [
    "df['code'].nunique()/df['code'].shape[0]"
   ]
  },
  {
   "cell_type": "code",
   "execution_count": 23,
   "id": "eeadb1c8",
   "metadata": {},
   "outputs": [],
   "source": [
    "df_1 = df.copy()"
   ]
  },
  {
   "cell_type": "code",
   "execution_count": 24,
   "id": "ec916002",
   "metadata": {},
   "outputs": [
    {
     "data": {
      "text/plain": [
       "320638"
      ]
     },
     "execution_count": 24,
     "metadata": {},
     "output_type": "execute_result"
    }
   ],
   "source": [
    "df['url'].str.startswith('http').sum()"
   ]
  },
  {
   "cell_type": "markdown",
   "id": "8bf263c8",
   "metadata": {},
   "source": [
    "La colonne 'code' peut désormais être considérée comme notre colonne identifiante pour nos données.\n",
    "Le travail sur le jeu de données vis-à-vis de la partie 1 est terminée."
   ]
  },
  {
   "cell_type": "markdown",
   "id": "9f290715",
   "metadata": {},
   "source": [
    "### RAF partie 1 :\n",
    "- vérifier la validité des 'url' (https://www.moonbooks.org/Articles/Vérifier-si-une-adresse-url-existe-avec-python/)\n",
    "- vérifier la validité des dates de la colonne 'last_modified_datetime'"
   ]
  },
  {
   "cell_type": "markdown",
   "id": "43c06bc0",
   "metadata": {},
   "source": [
    "#### 2. Partie informative contenant des métadonnées du produit"
   ]
  },
  {
   "cell_type": "code",
   "execution_count": 25,
   "id": "906d8723",
   "metadata": {},
   "outputs": [],
   "source": [
    "col2 = list(df.columns[df.columns.get_loc('packaging'):(df.columns.get_loc('countries_fr')+1)])"
   ]
  },
  {
   "cell_type": "code",
   "execution_count": 26,
   "id": "3c794db9",
   "metadata": {},
   "outputs": [
    {
     "data": {
      "text/plain": [
       "packaging                    0.753794\n",
       "packaging_tags               0.753791\n",
       "brands                       0.088533\n",
       "brands_tags                  0.088558\n",
       "categories                   0.736871\n",
       "categories_tags              0.736871\n",
       "categories_fr                0.736871\n",
       "origins                      0.930872\n",
       "origins_tags                 0.930988\n",
       "manufacturing_places         0.886252\n",
       "manufacturing_places_tags    0.886270\n",
       "labels                       0.854814\n",
       "labels_tags                  0.854549\n",
       "labels_fr                    0.854549\n",
       "emb_codes                    0.908604\n",
       "emb_codes_tags               0.908617\n",
       "first_packaging_code_geo     0.941358\n",
       "cities                       1.000000\n",
       "cities_tags                  0.936698\n",
       "purchase_places              0.818627\n",
       "stores                       0.838800\n",
       "countries                    0.000873\n",
       "countries_tags               0.000873\n",
       "countries_fr                 0.000873\n",
       "dtype: float64"
      ]
     },
     "execution_count": 26,
     "metadata": {},
     "output_type": "execute_result"
    }
   ],
   "source": [
    "df[col2].isna().mean()"
   ]
  },
  {
   "cell_type": "code",
   "execution_count": 27,
   "id": "7308f7d1",
   "metadata": {
    "scrolled": true
   },
   "outputs": [
    {
     "data": {
      "text/plain": [
       "Snacks sucrés,Biscuits et gâteaux,Biscuits                                                                                                                          802\n",
       "Snacks sucrés,Chocolats,Chocolats noirs                                                                                                                             609\n",
       "Snacks sucrés,Confiseries,Bonbons                                                                                                                                   526\n",
       "Aliments et boissons à base de végétaux,Aliments d'origine végétale,Petit-déjeuners,Céréales et pommes de terre,Céréales et dérivés,Céréales pour petit-déjeuner    522\n",
       "Snacks sucrés,Biscuits et gâteaux,Biscuits,Biscuits au chocolat                                                                                                     465\n",
       "                                                                                                                                                                   ... \n",
       "Boissons,Boissons alcoolisées,Vins,Vins français,Vins blancs,Côtes Catalanes,Roussillon                                                                               1\n",
       "Boissons,Boissons chaudes,Produits déshydratés,Produits lyophilisés à reconstituer,Cafés,Boissons lyophilisées,Boissons sucrées                                       1\n",
       "Snacks sucrés,Barres,en:Raw-bar                                                                                                                                       1\n",
       "Conserves,Produits de la mer,Poissons,Poissons en conserve,Anchois,Anchois-en-conserve                                                                                1\n",
       "Aliments pour bébé,Laits pour bébé,Laits 1er âge,Preparations-pour-nourissons                                                                                         1\n",
       "Name: categories_fr, Length: 21135, dtype: int64"
      ]
     },
     "execution_count": 27,
     "metadata": {},
     "output_type": "execute_result"
    }
   ],
   "source": [
    "# cellule utilisée pour explorer les différents nombres de valeurs uniques\n",
    "df['categories_fr'].value_counts()"
   ]
  },
  {
   "cell_type": "markdown",
   "id": "c989a683",
   "metadata": {},
   "source": [
    "- Dans un premier temps, nous n'allons garder que les produits distribués en France en effectuant un tri sur la colonne 'countries_fr', puis nous allons supprimer toutes les colonnes 'countries_x'\n",
    "\n",
    "\n",
    "- Ensuite, nous allons supprimer toutes les colonnes \"_tags\" car elles comportent les mêmes données que les colonnes auxquelles elles sont associées, mais avec une mise en forme qui les rend plus difficilement lisibles.\n",
    "    \n",
    "\n",
    "- Nous allons également supprimer les colonnes 'cities', 'cities_tags' ainsi que 'purchase_places' car nous considérons que les produits sont disponibles partout en France, ainsi que la colonne 'categories' qui est redondante avec la colonne 'categories_fr' et moins synthétique (moins de valeurs uniques pour un taux de remplissage identique).\n",
    "\n"
   ]
  },
  {
   "cell_type": "code",
   "execution_count": 28,
   "id": "6dfd9602",
   "metadata": {},
   "outputs": [],
   "source": [
    "#df = df_1.copy()"
   ]
  },
  {
   "cell_type": "code",
   "execution_count": 29,
   "id": "131ad514",
   "metadata": {
    "scrolled": false
   },
   "outputs": [],
   "source": [
    "df = df[df['countries_fr'].str.contains('France', regex=False).fillna(False)]"
   ]
  },
  {
   "cell_type": "code",
   "execution_count": 30,
   "id": "66356a6b",
   "metadata": {},
   "outputs": [],
   "source": [
    "L_split = [col.split('_') for col in col2]\n",
    "L_tags = ['tags' in x for x in L_split]\n",
    "col_part2_to_drop = [x for x,y in zip(col2, L_tags) if y]\n",
    "col_part2_to_drop.append('countries')\n",
    "col_part2_to_drop.append('countries_fr')\n",
    "col_part2_to_drop.append('purchase_places')\n",
    "col_part2_to_drop.append('cities')\n",
    "col_part2_to_drop.append('categories')\n",
    "df.drop(columns=col_part2_to_drop, inplace=True)"
   ]
  },
  {
   "cell_type": "markdown",
   "id": "bc7f1d32",
   "metadata": {},
   "source": [
    "Analysons la colonne 'packaging' :"
   ]
  },
  {
   "cell_type": "code",
   "execution_count": 31,
   "id": "c777f9a9",
   "metadata": {},
   "outputs": [],
   "source": [
    "# pour faciliter le travail sur les chaînes de caractères, on les passe toutes en minuscule\n",
    "df['packaging'] = df['packaging'].str.lower()"
   ]
  },
  {
   "cell_type": "code",
   "execution_count": 32,
   "id": "34feed50",
   "metadata": {},
   "outputs": [
    {
     "data": {
      "text/plain": [
       "sachet,plastique                                                                                         3872\n",
       "carton                                                                                                   2599\n",
       "plastique                                                                                                2561\n",
       "barquette,plastique                                                                                      2120\n",
       "bouteille,verre                                                                                          1630\n",
       "                                                                                                         ... \n",
       "pot verre,verre,bocal                                                                                       1\n",
       "plastique,boite en carton                                                                                   1\n",
       "plastique,papier,aluminium                                                                                  1\n",
       "barquette plastique,barquette,plastique,carton                                                              1\n",
       "bouteille et bouchon plastique - opercule métal à recycler,film plastique,sous atmosphère protectrice       1\n",
       "Name: packaging, Length: 9328, dtype: int64"
      ]
     },
     "execution_count": 32,
     "metadata": {},
     "output_type": "execute_result"
    }
   ],
   "source": [
    "df['packaging'].value_counts()"
   ]
  },
  {
   "cell_type": "code",
   "execution_count": 33,
   "id": "53a1edc7",
   "metadata": {
    "scrolled": false
   },
   "outputs": [
    {
     "data": {
      "text/plain": [
       "bouteille verre                             156\n",
       "sachet,plastique,etui,carton                155\n",
       "bocal,verre,couvercle,métal,conserve        154\n",
       "boîte                                       151\n",
       "frais,pot,plastique,opercule,etui,carton    150\n",
       "pot                                         148\n",
       "brique,carton,bouchon,plastique             140\n",
       "verre,bocal                                 137\n",
       "boîte,carton,plastique                      133\n",
       "barquette                                   131\n",
       "barquette,film,plastique                    130\n",
       "carton,sachet plastique                     124\n",
       "stück                                       124\n",
       "verre,bouteille                             123\n",
       "boite,carton                                121\n",
       "bouteille,bouchon,plastique                 120\n",
       "carton,barquette,plastique                  117\n",
       "surgelé,carton                              116\n",
       "glas                                        111\n",
       "carton,carton                               109\n",
       "Name: packaging, dtype: int64"
      ]
     },
     "execution_count": 33,
     "metadata": {},
     "output_type": "execute_result"
    }
   ],
   "source": [
    "#cellule utilisée pour naviguer à traver les diffférentes valeurs uniques d'emballage\n",
    "df['packaging'].value_counts()[50:70]"
   ]
  },
  {
   "cell_type": "code",
   "execution_count": 34,
   "id": "ecc69191",
   "metadata": {},
   "outputs": [],
   "source": [
    "#fonction retournant la liste contenant pour chaque valeur unique d'une colonne, la liste des sous-éléments qui la composent\n",
    "def get_list_splits_str(col_name):\n",
    "    return df[col_name].value_counts().index.str.split(',').tolist()\n",
    "\n",
    "# fonction permettant de retourner la liste des sous-éléments uniques contenue dans une colonne\n",
    "def get_list_uniques_splits_str(col_name):\n",
    "    list_tmp = []\n",
    "    list_splits = get_list_splits_str(col_name)\n",
    "    for i in range(len(list_splits)):\n",
    "        element = list_splits[i]\n",
    "        for j in range(len(element)):\n",
    "            if element[j] not in list_tmp:\n",
    "                list_tmp.append(element[j])\n",
    "    return list_tmp"
   ]
  },
  {
   "cell_type": "code",
   "execution_count": 35,
   "id": "35681a70",
   "metadata": {},
   "outputs": [
    {
     "data": {
      "text/plain": [
       "3251"
      ]
     },
     "execution_count": 35,
     "metadata": {},
     "output_type": "execute_result"
    }
   ],
   "source": [
    "L_pack_uniques = get_list_uniques_splits_str('packaging')\n",
    "len(L_pack_uniques)"
   ]
  },
  {
   "cell_type": "code",
   "execution_count": 36,
   "id": "60ae8969",
   "metadata": {},
   "outputs": [
    {
     "data": {
      "text/plain": [
       "['sachet',\n",
       " 'plastique',\n",
       " 'carton',\n",
       " 'barquette',\n",
       " 'bouteille',\n",
       " 'verre',\n",
       " 'conserve',\n",
       " 'bocal',\n",
       " 'sachet plastique',\n",
       " 'brique',\n",
       " 'couvercle',\n",
       " 'métal',\n",
       " 'surgelé',\n",
       " 'frais',\n",
       " 'boîte',\n",
       " 'pot',\n",
       " 'flacon',\n",
       " 'papier',\n",
       " 'artikel',\n",
       " 'film',\n",
       " 'sous atmosphère protectrice',\n",
       " 'produit',\n",
       " 'opercule',\n",
       " 'film plastique',\n",
       " 'sous-vide',\n",
       " 'aluminium',\n",
       " 'canette',\n",
       " 'bouteille plastique',\n",
       " 'bouteille verre',\n",
       " 'etui',\n",
       " 'bouchon',\n",
       " 'stück',\n",
       " 'boite',\n",
       " 'glas',\n",
       " 'bocal verre',\n",
       " 'couvercle métal',\n",
       " 'boite carton',\n",
       " 'pots',\n",
       " 'sachets',\n",
       " 'barquette plastique',\n",
       " 'barquette et film plastique à jeter',\n",
       " 'bouteille en verre',\n",
       " 'kunststoff',\n",
       " 'atmosphère protectrice',\n",
       " 'flasche',\n",
       " 'couvercle ouverture facile',\n",
       " 'dose',\n",
       " 'packung',\n",
       " 'capsule',\n",
       " 'alu recyclable',\n",
       " 'plastic',\n",
       " 'bois',\n",
       " 'boîte métal à recycler',\n",
       " 'filet',\n",
       " 'tetra pak',\n",
       " 'sous vide',\n",
       " 'bocal en verre',\n",
       " 'clip souple métal plastique',\n",
       " 'karton',\n",
       " 'pot plastique et opercule à jeter',\n",
       " 'etui carton à recycler',\n",
       " 'sachet plastique à jeter',\n",
       " 'boite plastique',\n",
       " 'acier recyclable',\n",
       " 'emballage',\n",
       " 'gourde',\n",
       " 'acier',\n",
       " 'pot en verre',\n",
       " 'bouchon plastique',\n",
       " 'agrafe',\n",
       " 'tube',\n",
       " 'film plastique à jeter',\n",
       " 'tablette',\n",
       " 'pot en plastique',\n",
       " 'packung(en)',\n",
       " 'sac plastique',\n",
       " 'pot plastique',\n",
       " 'boite en carton',\n",
       " 'papier aluminium',\n",
       " 'boite de conserve',\n",
       " 'box',\n",
       " 'bib',\n",
       " 'can',\n",
       " 'brique carton',\n",
       " 'sachet papier',\n",
       " 'paquet',\n",
       " 'boite métal',\n",
       " 'bouchon métal',\n",
       " 'barquette et opercule plastique à jeter',\n",
       " 'brique carton et son bouchon à recycler',\n",
       " 'décongelé',\n",
       " 'feuille',\n",
       " 'bottle',\n",
       " 'filet plastique',\n",
       " 'gourdes',\n",
       " 'konserve',\n",
       " 'boîte carton',\n",
       " 'verpackv-pp',\n",
       " 'bidon',\n",
       " 'doypack',\n",
       " 'dose(n)',\n",
       " '05 pp',\n",
       " 'bouteille plastique et son bouchon à recycler',\n",
       " 'tüte',\n",
       " 'tetra brik',\n",
       " 'brique en carton',\n",
       " 'flasche(n)',\n",
       " 'pièce',\n",
       " '',\n",
       " 'tüte(n)',\n",
       " 'glass',\n",
       " 'assiette',\n",
       " 'sac',\n",
       " 'bouteille:verre brune',\n",
       " 'papier plastifié',\n",
       " 'boîte plastique',\n",
       " 'poche',\n",
       " 'cannette',\n",
       " 'pack',\n",
       " 'boîte en plastique',\n",
       " 'point vert',\n",
       " 'barquette et films en plastique à jeter',\n",
       " 'pot plastique à jeter',\n",
       " 'opercule métal et étui carton à recycler',\n",
       " 'metal',\n",
       " 'sachet plastique individuel',\n",
       " 'bouteille & bouchon plastique',\n",
       " 'etiquette film plastique',\n",
       " 'sachet individuel',\n",
       " 'sachet en plastique',\n",
       " 'boîte métal',\n",
       " 'boîte de conserve',\n",
       " 'becher',\n",
       " 'plastique 05 (pp)',\n",
       " 'sachets individuels',\n",
       " 'opercule et pot plastique à jeter',\n",
       " 'bouteille champenoise',\n",
       " 'bouchon de champagne',\n",
       " 'liège',\n",
       " 'muselet',\n",
       " 'stk.',\n",
       " 'boîte en carton',\n",
       " 'seau',\n",
       " 'sticks',\n",
       " 'pot et opercule plastique à jeter',\n",
       " 'plastic bag',\n",
       " 'opercule papier et pot plastique à jeter',\n",
       " 'sachet papier/plastique',\n",
       " 'conditionné sous atmosphère protectrice',\n",
       " 'pasteurisé',\n",
       " 'boîte métallique',\n",
       " 'bac',\n",
       " 'sac papier',\n",
       " 'barquette individuelle',\n",
       " 'item',\n",
       " 'aucun',\n",
       " 'tetra pack',\n",
       " 'sachet refermable',\n",
       " 'pot individuel',\n",
       " 'boîte et couvercle métal à recycler',\n",
       " 'beutel',\n",
       " 'sachets fraicheur',\n",
       " 'capsules',\n",
       " 'sans bisphénol a',\n",
       " 'sans phtalates',\n",
       " 'ds.',\n",
       " 'canettes',\n",
       " 'pot plastique & opercule papier à jeter',\n",
       " 'packet',\n",
       " 'boîte en métal',\n",
       " 'tetrapak',\n",
       " 'boite en plastique',\n",
       " 'capsule métal',\n",
       " 'canned',\n",
       " 'bouteille - verre',\n",
       " 'sachet plastique et fermoir à jeter',\n",
       " 'appertisé',\n",
       " 'papier alu',\n",
       " 'producto',\n",
       " 'pot verre',\n",
       " 'bolsa de plástico',\n",
       " 'refrigerado',\n",
       " 'briquette',\n",
       " 'gobelet',\n",
       " 'bouteille de verre',\n",
       " 'barquettes détachables',\n",
       " 'pet',\n",
       " 'flacon plastique',\n",
       " 'boîte alu',\n",
       " 'sans conditionnement',\n",
       " 'dose/büchse',\n",
       " 'sachet cellophane',\n",
       " 'flash pasteurisé',\n",
       " '1 personne',\n",
       " 'dosettes',\n",
       " 'papier aluminisé',\n",
       " 'barquette en plastique',\n",
       " 'ถุง',\n",
       " 'bouteille:verre verte',\n",
       " 'capsule:twist off',\n",
       " 'stick',\n",
       " 'glas/gläser',\n",
       " 'papier sulfurisé',\n",
       " 'plastic bottle',\n",
       " 'semi-conserve',\n",
       " 'feuille aluminium',\n",
       " 'bouteille en verre brune',\n",
       " 'capsule en métal',\n",
       " 'uht',\n",
       " 'distributeur',\n",
       " 'glaß',\n",
       " 'bocal plastique',\n",
       " 'plástico',\n",
       " 'blister en plastique',\n",
       " 'barquette et opercule à jeter',\n",
       " 'blister',\n",
       " 'flacon en plastique',\n",
       " 'gourde plastique',\n",
       " 'bote de vidrio',\n",
       " 'plastic film',\n",
       " 'bouteille en plastique',\n",
       " 'film plastique soudé',\n",
       " 'bocal verre et couvercle métal à recycler',\n",
       " 'bouchon champagne',\n",
       " 'armature métal',\n",
       " 'bouteilles',\n",
       " 'emballage plastique',\n",
       " 'brique cartonnée',\n",
       " 'bac plastique',\n",
       " 'brique tetra pak',\n",
       " 'briquettes',\n",
       " 'sachet papier et plastique',\n",
       " 'etiquette papier',\n",
       " 'étui carton à recycler',\n",
       " 'film aluminium',\n",
       " 'coupelles',\n",
       " 'sachet et lien plastique à jeter',\n",
       " 'fourreau carton à recycler',\n",
       " 'bouteille:verre brun',\n",
       " 'capsule:metal',\n",
       " 'fr:sachet plastique à jeter',\n",
       " 'en:green dot',\n",
       " 'fr:pensez au tri!',\n",
       " 'conserves',\n",
       " 'bol',\n",
       " 'couvercle métallique',\n",
       " 'tissu',\n",
       " 'bouteille pet',\n",
       " 'fer',\n",
       " 'poche souple et bouchon à jeter',\n",
       " 'gourde et bouchon plastique',\n",
       " 'botella de vidrio',\n",
       " 'clip plastique',\n",
       " 'bag',\n",
       " 'sachets fraîcheur',\n",
       " 'sachet de cuisson',\n",
       " 'emballage en carton recyclé',\n",
       " 'étui carton',\n",
       " 'plastikbecher',\n",
       " 'surgelés',\n",
       " 'boite carton à recycler',\n",
       " 'plastique 1 (pet)',\n",
       " 'pensez au tri!',\n",
       " 'canette alu',\n",
       " 'opercule alu',\n",
       " 'coupelle',\n",
       " 'sachet et fermoir plastique à jeter',\n",
       " 'pots plastiques',\n",
       " 'sachets plastique',\n",
       " 'glass bottle',\n",
       " 'barquette & couvercle plastique',\n",
       " 'büchse',\n",
       " 'fr:sachet',\n",
       " 'fr:plastique',\n",
       " 'congelé',\n",
       " 'bocale',\n",
       " 'feuille papier à recycler',\n",
       " 'plaquette',\n",
       " 'papier traité',\n",
       " 'bouteille plastique et son bouchon - opercule métal à recycler',\n",
       " 'barquette polystyrène',\n",
       " 'sans',\n",
       " 'coupelle plastique',\n",
       " 'boite métallique',\n",
       " 'sachet sous vide',\n",
       " 'sachet aluminium',\n",
       " 'paquet plastique',\n",
       " 'hebdopack',\n",
       " 'ouverture facile',\n",
       " 'sachet fraîcheur refermable',\n",
       " 'boîte carton à recycler',\n",
       " 'pots plastique',\n",
       " 'recycle',\n",
       " 'plaque',\n",
       " 'couvercle metal',\n",
       " 'vrac',\n",
       " 'brique carton à recycler',\n",
       " 'tetrapack',\n",
       " '5',\n",
       " 'plastique carton',\n",
       " 'boîte à œufs',\n",
       " 'barquettes plastique pp5',\n",
       " 'film de fermeture others 7',\n",
       " 'emballage carton pap 21',\n",
       " 'pochette plastique',\n",
       " 'bouteille en verre verte',\n",
       " 'emballage individuel',\n",
       " '6 sachets fraîcheur',\n",
       " 'sachet papier aluminé',\n",
       " 'alvéole plastique',\n",
       " 'scheiben',\n",
       " 'caja de cartón',\n",
       " 'green dot',\n",
       " '8 sachets fraîcheur',\n",
       " 'sachet plastifié',\n",
       " 'sachets plastiques',\n",
       " 'riegel',\n",
       " 'produkt',\n",
       " 'pots plastique et opercules à jeter',\n",
       " 'flacon en verre',\n",
       " 'polystyrène',\n",
       " 'bouteille - bouchon et opercule à recycler',\n",
       " 'boîte métal et couvercle métal à recycler',\n",
       " 'etui carton et bouteille plastique à recycler',\n",
       " 'plsatique',\n",
       " 'clip',\n",
       " 'tranche',\n",
       " '70 gl',\n",
       " '10 capsules',\n",
       " 'cartonnette',\n",
       " 'paille plastique',\n",
       " 'emballage carton',\n",
       " 'fourchette',\n",
       " '21 pap',\n",
       " 'boîte carton et enveloppes papier à recycler',\n",
       " 'dosen',\n",
       " 'couvercle plastique',\n",
       " 'pot verre - opercule métal et étui carton à recycler',\n",
       " 'tarrina de plástico',\n",
       " 'dosette',\n",
       " \"feuille d'aluminium\",\n",
       " 'bols',\n",
       " 'barquette et couvercle plastique - opercule à jeter',\n",
       " 'consigne',\n",
       " 'flasque',\n",
       " 'pot - plastic',\n",
       " 'aluminium recyclable',\n",
       " '2 portions',\n",
       " ' carton',\n",
       " 'sachet à jeter',\n",
       " 'pot de verre',\n",
       " 'ramequins',\n",
       " 'poche plastique',\n",
       " 'pot - opercule et couvercle plastique à jeter',\n",
       " 'capsule en metal',\n",
       " 'tub',\n",
       " 'briques',\n",
       " 'emballage non-recyclable',\n",
       " 'étui:carton',\n",
       " 'sachet:plastique',\n",
       " '2 sachets fraîcheur',\n",
       " 'sachet hermétique',\n",
       " 'conserve métal',\n",
       " 'tétra pak',\n",
       " 'cubi',\n",
       " 'fruit',\n",
       " 'etiquettes papier',\n",
       " 'pots en plastique',\n",
       " 'bidon métal',\n",
       " 'boite cartonnée',\n",
       " 'sachet plastique refermable',\n",
       " 'sachets plastique à jeter',\n",
       " 'paille',\n",
       " 'couvercle en métal',\n",
       " 'jar - glass',\n",
       " 'lid - metal',\n",
       " 'plastique 07',\n",
       " 'sous atmopshère protectrice',\n",
       " 'sig',\n",
       " 'bouteille en verre transparante',\n",
       " 'bouchon en liège',\n",
       " 'bouteille et bouchon plastique à recycler',\n",
       " 'alu',\n",
       " 'cellulose',\n",
       " 'lien plastique',\n",
       " 'sachet plastique/papier',\n",
       " 'cale papier à recycler',\n",
       " 'tin',\n",
       " 'mehrwegpfand',\n",
       " 'sachets plastique à jeter avec les déchets',\n",
       " 'card carton',\n",
       " 'produkte',\n",
       " 'opercule film plastique',\n",
       " 'papier plastique',\n",
       " 'pot - plastique',\n",
       " 'bowl',\n",
       " 'barre',\n",
       " 'sachet papier alu',\n",
       " 'sachet fraicheur',\n",
       " 'feuille plastique',\n",
       " 'pot et couvercle plastique à jeter',\n",
       " 'opercule métal et étiquette carton détachée à recycler',\n",
       " '2 sachets',\n",
       " '3 sachets de 5 biscuits',\n",
       " 'concerve',\n",
       " 'bocal de verre',\n",
       " 'refermable',\n",
       " 'feuille métal',\n",
       " 'sans emballage',\n",
       " 'cartón',\n",
       " 'boîte cartonnée',\n",
       " 'tube plastique',\n",
       " 'plastiques',\n",
       " 'blister plastique',\n",
       " 'sachet spécial micro-ondes',\n",
       " ' plastique',\n",
       " ' sous atmosphère protectrice',\n",
       " 'emballage papier',\n",
       " 'canette en aluminium',\n",
       " 'pratique refermable',\n",
       " 'fermeture facile',\n",
       " 'brick',\n",
       " 'fût',\n",
       " '2 emballages individuels',\n",
       " 'bottle - glass',\n",
       " 'poche souple',\n",
       " 'étui',\n",
       " 'bouteille métallique',\n",
       " 'boite aluminium',\n",
       " 'etui carton',\n",
       " 'barquette refermable',\n",
       " 'boïte métal',\n",
       " 'pot en verre recyclable',\n",
       " 'plastique 6 (ps)',\n",
       " 'métallique',\n",
       " 'pot individuel en plastique',\n",
       " 'cannette alu',\n",
       " 'boite - plastique',\n",
       " 'étui - carton',\n",
       " 'bouteille:verre transparante',\n",
       " 'film plastique autour du bouchon',\n",
       " 'triman',\n",
       " 'atmosphère protéctrice',\n",
       " 'en:plastic',\n",
       " 'sac papier et plastique',\n",
       " 'a recycler',\n",
       " 'pots et opercules à jeter',\n",
       " 'combibloc',\n",
       " 'plastique transparent',\n",
       " 'bouteille et bouchon plastique - opercule métal à recycler',\n",
       " 'couvercle et pot plastique à jeter',\n",
       " 'etui carton et opercule métal à recycler',\n",
       " 'etui plastique',\n",
       " 'pochon plastique',\n",
       " 'fr:verre',\n",
       " 'fr:bocal',\n",
       " 'opercule aluminium',\n",
       " '3 sachets fraîcheur',\n",
       " 'barquettes sécables',\n",
       " 'poche papier',\n",
       " 'braguette',\n",
       " '05',\n",
       " 'pp',\n",
       " 'emballage plastique à jeter',\n",
       " 'boîte acier à recycler',\n",
       " 'boîte carton et feuille papier à recycler',\n",
       " 'plastique recyclable',\n",
       " 'tüten',\n",
       " 'carton 21 (pap)',\n",
       " 'brique carton et bouchon à recycler',\n",
       " 'bouchon plastique 02',\n",
       " 'bouteille acier',\n",
       " 'borcan',\n",
       " 'flacon (dit bombe) sous pression',\n",
       " 'barquette plastique à jeter',\n",
       " 'pp5',\n",
       " '21',\n",
       " 'pap',\n",
       " 'barquette - film et couvercle plastique à jeter',\n",
       " 'papier indéchirable',\n",
       " 'carton et plastique',\n",
       " 'etiquette plastique',\n",
       " 'cellophane',\n",
       " 'coque en cire alimentaire',\n",
       " 'pot carton',\n",
       " 'opercule plastique',\n",
       " 'gélules',\n",
       " 'boite bois',\n",
       " 'pot en carton',\n",
       " 'produit décongelé',\n",
       " 'ficelle',\n",
       " 'fresh',\n",
       " 'carton box',\n",
       " 'opercule métal à ouverture rapide',\n",
       " 'forme hexagonale',\n",
       " 'barquette et film plastique',\n",
       " 'carton 100 % recyclable',\n",
       " 'tidyman wastebasket',\n",
       " 'sachets fraicheurs',\n",
       " 'bocale verre transparante',\n",
       " 'sec',\n",
       " '8 sachets de 4 biscuits',\n",
       " 'barquette et emballage à jeter',\n",
       " 'bol plastique',\n",
       " 'polypropylene',\n",
       " 'stérilisé',\n",
       " 'lot',\n",
       " 'plateau',\n",
       " 'bandeja de plástico',\n",
       " 'fr:barquette et film plastique à jeter',\n",
       " '4 sachets fraîcheur',\n",
       " 'jar',\n",
       " 'ks',\n",
       " 'sous-atmosphere-protectrice',\n",
       " 'cup',\n",
       " 'sous plastique',\n",
       " 'sachet papier à jeter',\n",
       " 'platique',\n",
       " 'boîtes de conserve',\n",
       " 'plasitque',\n",
       " 'bouteille et capuchon plastique',\n",
       " 'bouteille-bouchon-étiquette plastique',\n",
       " 'feuille papier à jeter',\n",
       " 'opércule aluminium',\n",
       " 'card',\n",
       " '100 % recyclable',\n",
       " 'ramequin',\n",
       " 'pot - glass',\n",
       " 'opercule en métal à recycler',\n",
       " 'film plastique et fermoir à jeter',\n",
       " 'sachets cuisson',\n",
       " 'poudre',\n",
       " 'boite métallique 1/2',\n",
       " 'tetra',\n",
       " 'пластиковый стаканчик',\n",
       " 'cocotte',\n",
       " 'serviette',\n",
       " 'bolsa de aluminio',\n",
       " 'suremballage',\n",
       " 'yaourt',\n",
       " 'etiquette carton',\n",
       " 'sceau',\n",
       " 'emballage biodégradable',\n",
       " 'recyclable',\n",
       " 'impression encre végétale',\n",
       " '07',\n",
       " 'envasado en atmósfera protectora',\n",
       " 'opercule métal',\n",
       " 'flaschen',\n",
       " 'verre recyclable',\n",
       " 'sachet zip refermable',\n",
       " 'verrre',\n",
       " 'cuillère plastique',\n",
       " ' barquette individuelle',\n",
       " 'sachet film plastique',\n",
       " 'boïte',\n",
       " 'suremballage carton',\n",
       " 'verres',\n",
       " 'blister & opercule plastique',\n",
       " 'barquette vapeur',\n",
       " 'roll',\n",
       " 'cartons',\n",
       " 'poches souples et bouchons plastique à jeter',\n",
       " 'bouteille verre et son bouchon à recycler',\n",
       " 'bouteile',\n",
       " 'sterilisé',\n",
       " 'adhésif',\n",
       " 'faisselle',\n",
       " 'cartão',\n",
       " 'sachets à jeter',\n",
       " 'pot plastique - opercule ',\n",
       " 'bouteille en métal',\n",
       " 'coque & plateau plastique',\n",
       " 'bocal verre et capsule métal à recycler',\n",
       " 'sachet fraîcheur',\n",
       " 'bouteille métal',\n",
       " 'barquette - film - couvercle plastique à jeter',\n",
       " 'etui carton - bouteille et bouchon plastique à recycler',\n",
       " 'carton/plastique',\n",
       " 'botella de plástico',\n",
       " 'bouchon & collerette plastique',\n",
       " 'sous atmosphère  protectrice',\n",
       " 'légumes cuisinés',\n",
       " 'einwegpfand',\n",
       " 'conserves appérisées',\n",
       " 'bottle - plastic',\n",
       " 'boite & couvercle plastique',\n",
       " 'opercule feuille alu',\n",
       " 'opercules et pots plastique à jeter',\n",
       " 'chapelet de 3 sachets',\n",
       " 'etiquette',\n",
       " 'feuille papier - boîte et couvercle carton à recycler',\n",
       " 'malla de plástico',\n",
       " ' pot',\n",
       " ' opercule',\n",
       " ' aluminium',\n",
       " 'pot et couvercle en plastique à jeter',\n",
       " 'film en plastique',\n",
       " 'boîtes',\n",
       " 'barquette à base de pulpe de canne à sucre',\n",
       " 'barquette biodégrable et compostable',\n",
       " 'sous atmophère protectrice',\n",
       " 'sachets papier',\n",
       " 'plastic box',\n",
       " '2 sachets individuels',\n",
       " 'barquette & opercule plastique',\n",
       " 'barquette carton vidée et son opercule à recycler',\n",
       " 'barquette carton vidée et étui carton à recycler',\n",
       " 'barquette plastique et son opercule à jeter',\n",
       " 'cardboard',\n",
       " 'barquette sous célophane',\n",
       " 'bourriche',\n",
       " 'pack carton',\n",
       " 'plastique 01 (pet)',\n",
       " 'plastique 01',\n",
       " 'individuel',\n",
       " 'plastikbeutel',\n",
       " 'pp 05',\n",
       " 'feuille de plastique',\n",
       " 'barquette micro-ondable',\n",
       " 'briquette carton',\n",
       " 'barquette et étui carton à recycler',\n",
       " 'fer blanc',\n",
       " 'opercule métal ouverture rapide',\n",
       " 'boite plastique et carton',\n",
       " 'sac en plastique',\n",
       " 'jerrican',\n",
       " 'sachets ouverture facile',\n",
       " 'sachet plastique et son attache à jeter',\n",
       " 'boîte métalique',\n",
       " '4 sachets de 4 biscuits',\n",
       " 'capuchon en plastique',\n",
       " 'pot de yaourt',\n",
       " 'cagette',\n",
       " 'pack 20',\n",
       " 'sachet - boîte et opercule plastique à jeter',\n",
       " 'ampoules',\n",
       " 'plastique 06 (ps)',\n",
       " 'emballage individuel papier',\n",
       " '2 personnes',\n",
       " 'boîte & couvercle métal à recycler',\n",
       " 'brown glass bottle',\n",
       " 'metal cap',\n",
       " 'boite en métal',\n",
       " 'barquette - opercule et couvercle plastique à jeter',\n",
       " 'baquette',\n",
       " 'bouteille:relief',\n",
       " 'sachet papier-plastique',\n",
       " 'emballage sous vide',\n",
       " 'bouchon liège',\n",
       " 'muselet métal',\n",
       " 'boite métalique',\n",
       " 'cartouche',\n",
       " 'étiquette',\n",
       " 'barquettes individuelles',\n",
       " 'boîte et couvercle plastique à jeter',\n",
       " 'bombe',\n",
       " '2 sachets fraicheur',\n",
       " 'squeezer',\n",
       " 'bouteille carton',\n",
       " 'bouteille avec reliefs',\n",
       " ' verre',\n",
       " 'bouteilles en verre',\n",
       " 'coque',\n",
       " 'glasflasche',\n",
       " 'tetra brick',\n",
       " '10 sachets individuels',\n",
       " 'moulin',\n",
       " 'papier glacé',\n",
       " 'poche en plastique',\n",
       " 'feuille carton à recycler',\n",
       " 'sachet plastique et lien à jeter',\n",
       " 'écolo',\n",
       " 'opercules film plastique',\n",
       " 'surgelé carton',\n",
       " 'emballage 100 % recyclable',\n",
       " 'barquette film et sachet plastique à jeter',\n",
       " 'sous atmosphère protectrice sans bpa ni phtalates',\n",
       " 'sac en papier',\n",
       " 'barquette vidée et étui carton à recycler',\n",
       " 'barquette & sachet plastique',\n",
       " 'bouteille en aluminium',\n",
       " 'étiquette plastique',\n",
       " 'sans suremballage',\n",
       " 'fr:boite et couvercle plastique à jeter',\n",
       " 'rolle(n)',\n",
       " 'boites',\n",
       " 'brique et bouchon à recycler',\n",
       " 'tube en carton',\n",
       " 'oeuf',\n",
       " 'boite en fer',\n",
       " 'sleeve - card',\n",
       " 'wrap - metal',\n",
       " 'sachet plastiques',\n",
       " 'cuillière',\n",
       " '\\x90étui carton à recycler',\n",
       " 'sous atmposphère protectrice',\n",
       " 'coque alvéolé en papier maché',\n",
       " 'a jeter',\n",
       " 'film fraîcheur plastique à jeter',\n",
       " 'boîte et opercule métal à recycler',\n",
       " 'cassolette',\n",
       " 'boîte plastique à jeter',\n",
       " 'sachets film plastique',\n",
       " 'opercules',\n",
       " '4 sachets individuels',\n",
       " 'ravier',\n",
       " 'ouverture rapide',\n",
       " 'tube métal',\n",
       " 'papier alimentaire',\n",
       " 'barquettes',\n",
       " 'surgelé.carton et bearquette plastique.',\n",
       " 'plastique 2 (hdpe)',\n",
       " 'plastique 04 (pe)',\n",
       " 'fr:frais',\n",
       " 'fr:atmosphère protectrice',\n",
       " 'fr:barquette plastique',\n",
       " 'fr:film plastique',\n",
       " 'boite métal à recycler',\n",
       " 'papiers',\n",
       " 'étuis',\n",
       " 'support carton à recycler',\n",
       " 'film papier',\n",
       " 'carton papier ondulé',\n",
       " 'tetra brik aseptic',\n",
       " 'fsc mix',\n",
       " 'jetez les emballages carton et aluminium dans le bac de tri',\n",
       " 'fsc mixte',\n",
       " 'fsc c095159',\n",
       " 'pap 21',\n",
       " 'ecoponto azul',\n",
       " 'étui en carton',\n",
       " '2 barquettes individuelles',\n",
       " '4 cookies emballés individuellement',\n",
       " 'sélophane',\n",
       " 'sachets paier alu dans boite carton',\n",
       " '(3 sachets fraîcheur de 3 biscuits de 25g)',\n",
       " 'film et barquette plastique',\n",
       " 'fr:sachet alu plastifié',\n",
       " 'en:o 07',\n",
       " '01',\n",
       " 'papier cellophane',\n",
       " 'barquette et couvercle plastique',\n",
       " 'carte',\n",
       " 'barquette et couvercle plastique à jeter',\n",
       " 'opercule métal à recycler',\n",
       " 'bouchon verseur',\n",
       " 'etuis plastique individuels',\n",
       " 'boîte carton feuille papier à recycler',\n",
       " 'conserves appertisées',\n",
       " 'boite métal à ouverture rapide',\n",
       " 'knick-pack',\n",
       " 'pt:sachet',\n",
       " 'pt:plastique',\n",
       " 'en:food safe',\n",
       " 'pt:ecoponto amarelo',\n",
       " 'en:recycle',\n",
       " 'moule',\n",
       " 'étuit carton à recycler',\n",
       " 'barquette carton',\n",
       " 'film à jeter',\n",
       " 'sachet individuel plastique',\n",
       " 'etiquette papier cartonné',\n",
       " '4 pots',\n",
       " 'frais sous blister plastique',\n",
       " 'bouteille + bouchon plastique à recycler',\n",
       " 'conserver',\n",
       " 'opercules papier alu',\n",
       " 'pastique',\n",
       " '12 sachets de 4 biscuits',\n",
       " 'tetra brik asceptic',\n",
       " 'plastique 02 (pehd)',\n",
       " 'enveloppe en carton',\n",
       " 'plastqieu',\n",
       " 'tablettes',\n",
       " 'plastique 7',\n",
       " 'feuille factice',\n",
       " 'u.h.t.',\n",
       " 'opercule papier alu',\n",
       " 'écolo pass',\n",
       " 'oper cule film plastique',\n",
       " 'papier épais',\n",
       " 'pot métal',\n",
       " 'emballages individuels',\n",
       " 'boite à recycler',\n",
       " 'étui à recycler',\n",
       " 'pot et couvercle à jeter',\n",
       " 'boîte et couvercle carton - feuille de papier à recycler',\n",
       " 'opercule en métal',\n",
       " 'bouteille:verre transparant',\n",
       " 'bouchon:plastique',\n",
       " 'brique carton et son bouchon',\n",
       " 'flacon - doseur & bouchon plastique',\n",
       " 'hdpe',\n",
       " 'eléments plastique à jeter',\n",
       " 'box plastique',\n",
       " 'barquette metal et étui carton à recycler',\n",
       " 'emballage avec déchets ménagers',\n",
       " '40 fe',\n",
       " 'étui en carton à recycler',\n",
       " 'pot couvercle et opercule à jeter',\n",
       " 'pots en verre à recycler',\n",
       " 'enveloppe non comestible',\n",
       " 'carton + sachet plastique',\n",
       " 'emballage indéchirable',\n",
       " 'verrines',\n",
       " 'pure-pak®',\n",
       " 'micro-ondable',\n",
       " 'barquette pvc',\n",
       " 'bidon acier',\n",
       " 'bol - couvercle et opercule plastique à jeter',\n",
       " 'bouteille. plastique bouchon. opercule metal à recycler',\n",
       " 'couvercle plasticle',\n",
       " 'emballage recyclable',\n",
       " 'polyéthylène',\n",
       " 'fr:fourreaux carton à recycler',\n",
       " 'carton alvéolé',\n",
       " 'etui:carton',\n",
       " 'film:metal',\n",
       " 'plastique 05',\n",
       " 'fr:boite carton',\n",
       " 'fr:sachet plastique',\n",
       " 'fr:papier sulférisé',\n",
       " 'en:triman',\n",
       " 'fr:plaque papier à recycler',\n",
       " 'fr:papier cuisson et film plastique à jeter',\n",
       " 'dosettes papier',\n",
       " 'sachets individuels papier plastifié',\n",
       " 'sous athmospère protectrice',\n",
       " 'pot carton - opercule métal - étui carton à recycler',\n",
       " 'canette 330 ml',\n",
       " 'sachet général et individuels en plastique',\n",
       " 'sache',\n",
       " 'baquette plastique',\n",
       " 'pot et couvercle plastique opercule métal à jeter',\n",
       " 'cartonette à recycler',\n",
       " 'fr:pot carton -opercule metal et étui carton à recycler',\n",
       " 'sachet individuel film plastique',\n",
       " 'coque et plateau plastique rigide',\n",
       " 'contre-coque plastique souple',\n",
       " 'papier cuisson et film plastique à jeter',\n",
       " 'ultracongelado',\n",
       " 'wooden box',\n",
       " 'couvrecle métal',\n",
       " 'surgele',\n",
       " 'pot & étiquette plastique',\n",
       " 'en:sachet à jeter',\n",
       " 'en:étui à recycler',\n",
       " 'cartonnette à recycler',\n",
       " 'babybio',\n",
       " 'feuille alu',\n",
       " 'liures métal plastifié',\n",
       " 'liner pour biscuits',\n",
       " 'fr:bocal verre',\n",
       " 'fr:bocal et couvercle à recycler',\n",
       " 'emballage avec des matériaux recyclés.',\n",
       " 'barquette:plastique',\n",
       " 'coque et plateau plastique',\n",
       " 'support carton aluminé',\n",
       " 'étui et barquette à recycler',\n",
       " 'sous athmosphère protectrice',\n",
       " 'fresh pack',\n",
       " 'sachet film plastique aluminé',\n",
       " 'bocal à confiture',\n",
       " 'etiquettes papier cartonné',\n",
       " 'emballage plastifié',\n",
       " 'boite tetrapack',\n",
       " 'emballage sous gaz protecteur',\n",
       " 'frozen',\n",
       " '8 sachets fraîcheur de 2 madeleines',\n",
       " 'étui plastique',\n",
       " 'esterilizado',\n",
       " 'lata',\n",
       " 'barquettes fraîcheur',\n",
       " 'blister en plstique',\n",
       " 'en:plastic bag',\n",
       " ' sachet',\n",
       " 'pochettes individuelles plastique',\n",
       " 'pochons',\n",
       " 'réfrigéré',\n",
       " 'en:plastic film',\n",
       " 'fr:film',\n",
       " 'fr:papier',\n",
       " 'fr:feuille papier à recycler',\n",
       " 'en:green dot ',\n",
       " 'sachet plastique et clip de fermeture à jeter',\n",
       " 'plastique barquette',\n",
       " 'fras',\n",
       " 'plastique opaque',\n",
       " 'sashet plastique',\n",
       " 'papier avec emballage aluminium',\n",
       " 'papier cuisson',\n",
       " 'carton à recycler',\n",
       " 'emballages individuels plastiques',\n",
       " 'couvercle aluminium',\n",
       " 'pot en verre transparante',\n",
       " 'couvercle en metal',\n",
       " 'terrine',\n",
       " 'terre cuite',\n",
       " 'fermoir',\n",
       " 'gourge',\n",
       " 'sachet plastique à jete',\n",
       " 'boite et opercule métal',\n",
       " 'étui aluminium',\n",
       " 'coupelle aluminium',\n",
       " 'sachet plastique a jeter',\n",
       " 'etui carton a recycler',\n",
       " 'pensez au tri',\n",
       " 'film métal',\n",
       " 'lot de 5 sachets de 3 biscuits',\n",
       " 'sous-vide décongelé',\n",
       " 'étiquette carton',\n",
       " 'attache métal',\n",
       " 'barquette bois',\n",
       " 'pocket',\n",
       " 'schet',\n",
       " 'caton aluminé',\n",
       " 'coque plastique',\n",
       " 'conditionné sous atmosphère protectrice.',\n",
       " 'cloche et plateau plastique',\n",
       " 'cloche & plateau plastique',\n",
       " 'pot - couvercle - opercule à jeter',\n",
       " 'polypropylène',\n",
       " 'étuit carton',\n",
       " 'opercule à recycler',\n",
       " 'pot plastique pp 05',\n",
       " '5 sachets fraîcheur en film transparent',\n",
       " 'boîte plastique 05 (pp)',\n",
       " 'galette',\n",
       " 'boîte en bois',\n",
       " 'film papier ?',\n",
       " '2 sachets dans un carton',\n",
       " 'fr:boîte',\n",
       " 'fr:carton',\n",
       " 'fr:étui carton à recycler',\n",
       " 'fr:barquette',\n",
       " 'fr:etui',\n",
       " 'fr:etui à recycler',\n",
       " 'fr:barquette et film à jeter',\n",
       " 'sachet individuel à jeter',\n",
       " 'barquette plastique filmée',\n",
       " 'verre ?',\n",
       " 'papier alu individuel',\n",
       " 'fr:point vert',\n",
       " 'poche plastique à jeter',\n",
       " 'en:étui carton à recycler',\n",
       " 'en:sacher à jeter',\n",
       " 'intercalaires plastiques',\n",
       " 'etiquette et film papier à recycler',\n",
       " 'plastiqeu',\n",
       " '4 sachets plastiques de 4 biscuits chacun',\n",
       " 'opercule refermable film plastique  x',\n",
       " 'pot et couvercle plastique',\n",
       " 'sachet métalisé',\n",
       " 'plastique métallisé',\n",
       " 'en:carton',\n",
       " 'fr:film plastique à jeter',\n",
       " 'fr:boite carton à recycler',\n",
       " 'fr:triman',\n",
       " 'barquette polystyrène et film',\n",
       " 'per alimenti',\n",
       " '25 sachets fraîcheur',\n",
       " 'barquette aluminium',\n",
       " 'bouteille en alu',\n",
       " 'pot en papier',\n",
       " 'capsule plastique',\n",
       " 'en:étui et barquette à recycler',\n",
       " 'fr:sachet à jeter',\n",
       " 'atmosphere protectrice',\n",
       " 'papier plastifié ?',\n",
       " 'fr:sachet individuel plastique à jeter',\n",
       " 'fsc c014047',\n",
       " 'tidyman recycle',\n",
       " 'brique à recycler',\n",
       " 'étui plastique refermable',\n",
       " 'polyéthylène basse densité',\n",
       " 'pebd',\n",
       " 'flacon verre',\n",
       " 'fr:feuille metal et etui carton à recycler',\n",
       " 'en:tidyman wastebasket',\n",
       " 'vidro',\n",
       " '4 sachets de 5 biscuits',\n",
       " 'conserva',\n",
       " 'surgelet',\n",
       " 'sachets individuels papier',\n",
       " 'protective atmosphere',\n",
       " 'boites métal',\n",
       " 'opercules ouverture rapide en métal',\n",
       " 'entourage film plastique',\n",
       " 'portion',\n",
       " \"papier d'aluminium\",\n",
       " 'boîte plastique frais',\n",
       " 'sachets individuels avec petits moules',\n",
       " 'pot en terre cuite',\n",
       " 'papier individuel',\n",
       " 'en:green bottle',\n",
       " 'en:metal cap',\n",
       " 'en:recycable',\n",
       " 'en:refund',\n",
       " 'boîte et opercule en métal',\n",
       " ...]"
      ]
     },
     "execution_count": 36,
     "metadata": {},
     "output_type": "execute_result"
    }
   ],
   "source": [
    "L_pack_uniques"
   ]
  },
  {
   "cell_type": "code",
   "execution_count": 37,
   "id": "2c19f311",
   "metadata": {},
   "outputs": [
    {
     "data": {
      "text/plain": [
       "False    57246\n",
       "True      1714\n",
       "Name: packaging, dtype: int64"
      ]
     },
     "execution_count": 37,
     "metadata": {},
     "output_type": "execute_result"
    }
   ],
   "source": [
    "# cellule pour explorer le nombre d'occurence de mots-clés\n",
    "df['packaging'].str.contains('brique').value_counts()"
   ]
  },
  {
   "cell_type": "code",
   "execution_count": 38,
   "id": "23a2ec38",
   "metadata": {},
   "outputs": [
    {
     "data": {
      "text/plain": [
       "karton                                                                                                                                     36\n",
       "karton,kunststoff                                                                                                                          11\n",
       "papier,karton                                                                                                                               3\n",
       "kunststoff,karton                                                                                                                           2\n",
       "karton,point vert,triman,étui:carton,21 pap                                                                                                 1\n",
       "paquet,carton,karton,packung                                                                                                                1\n",
       "en:boîte,en:carton,en:boîte,en:pap 21,en:green dot,fr:emballage carton,de:verpackung karton,fr:recyclage carton,de:entsorgung altpapier     1\n",
       "plastic tray,kartonnen doos,groene punt,tidyman wastebasket                                                                                 1\n",
       "karton,glas,aluminium                                                                                                                       1\n",
       "boîte,carton,boite,boîte,paquet,karton,karton(s)                                                                                            1\n",
       "Name: packaging, dtype: int64"
      ]
     },
     "execution_count": 38,
     "metadata": {},
     "output_type": "execute_result"
    }
   ],
   "source": [
    "# cellule pour explorer les différentes catégories d'emballage contenant un mot-clé\n",
    "df['packaging'][df['packaging'].str.contains('karton').fillna(False)].value_counts()[:10]"
   ]
  },
  {
   "cell_type": "code",
   "execution_count": 39,
   "id": "0a5d19bb",
   "metadata": {},
   "outputs": [
    {
     "data": {
      "text/plain": [
       "240388                   Riz Carnaroli\n",
       "190871                  Lait concentré\n",
       "233639                       Flageolet\n",
       "191923              Mousse foie canard\n",
       "195729    Taurine & Ginseng de Sibérie\n",
       "                      ...             \n",
       "231048                     Centrum Men\n",
       "291093                      Ovomaltine\n",
       "253926                     prémichèvre\n",
       "291574                   Nidal Natéa 2\n",
       "253920               Premilait 1er age\n",
       "Name: product_name, Length: 151, dtype: object"
      ]
     },
     "execution_count": 39,
     "metadata": {},
     "output_type": "execute_result"
    }
   ],
   "source": [
    "# cellule pour explorer les noms des produits contenant un mot-clé dans le descriptif de leur emballage\n",
    "# pour mieux en appréhender le matériau\n",
    "df[df['packaging']=='boîte']['product_name']"
   ]
  },
  {
   "cell_type": "code",
   "execution_count": 40,
   "id": "a436b8d8",
   "metadata": {},
   "outputs": [],
   "source": [
    "L_carton = ['carto', 'papie', 'paper', 'bri', 'tetra', 'cartón', 'tétra', 'doypack', 'briquette', 'boîte à œufs', 'karton',\n",
    "            'cellulose', '21', 'caton', 'papel', 'cartão', 'craton', 'cartion', 'doyapck', 'wellpappe', 'carrton',\n",
    "            'boîte à oeufs', 'cardboard']\n",
    "\n",
    "set_plastique = set(['plast', 'film', 'paquet', 'tetra', 'vide', 'protect', 'tétra', 'pet', 'doypack', 'bac', 'cellophane',\n",
    "                     'blister', 'fraîcheur', 'plásti', 'sachet','pp5', 'polyprop', 'пластиковый', 'sélophane', \n",
    "                     'polyéthylène', 'plstique', 'pebd', 'poliprop', 'pvc', 'ldpe', 'pet', 'pp5', 'polystyr' , 'poliestireno',\n",
    "                     'gaz', 'souple', 'céllophane', 'plastqiue', 'plastiqe', 'aérosol', 'pe-hd', '5-pp', 'pp-5', 'plastc',\n",
    "                     'pp 5', '5 pp', 'pastic', 'doyapck', 'pete 1', 'pp', '5 opp','zellophan', 'atmos', 'kunststoff','filet',\n",
    "                     'plasitque', 'platique', 'ficellle', 'barquette','hdpe', 'pastique', 'palstique', 'plasique', \n",
    "                     'plaqtique', 'plasitque'])\n",
    "\n",
    "L_metal = ['alu', 'métal', 'metal', 'acier', 'conserve', 'tetra', 'tétra', 'tin', 'fût', 'can', 'konserve', 'blister',\n",
    "           'fer', '40 fe', 'aérosol', 'torebki foliowej','bidon', 'bombe', 'allu', 'alimunium']\n",
    "\n",
    "L_verre = ['verre', 'bocal', 'glas', 'glass', 'vidrio', 'vetro', 'glaß', 'verrre','vidro', 'szklana']\n",
    "\n",
    "set_non_recyclable = set(['jeter', 'sulfurisé', 'cellophane', 'blister', 'cuisson', 'ldpe', 'non recyclable', 'céllophane',\n",
    "                          'zellophan', 'filet', 'ficelle','barquette'])\n",
    "\n",
    "L_recyclable = ['bois', 'recycle', 'recycla', 'tetra', 'tétra', 'cellulose', 'pp5', 'polyprop', 'pulpe', 'compost',\n",
    "                'biodégra', 'cagette', 'pehd', 'polyéthylène', 'wood', 'pebd', 'polietile', 'pet', 'aérosol', 'pe-hd',\n",
    "                'pet', 'pp', 'hdpe']\n",
    "\n",
    "set_pack_recycl = set(['recyclé', 'consigne'])\n",
    "\n",
    "set_no_pack = set(['sans conditionnement', 'aucun', 'vrac', 'rien', 'sans emballage'])\n",
    "\n",
    "set_better_pack = set(['consign', 'sans suremballage', 'pefc', 'staitiegeld', 'caution', 'statiegeld', 'réutilisable',\n",
    "                       'mehrwegpfand'])\n",
    "\n",
    "set_over_pack =set(['indiv', 'suremballage', 'dose'])\n",
    "\n",
    "L_recyclable.extend(L_carton)\n",
    "L_recyclable.extend(L_metal)\n",
    "L_recyclable.extend(L_verre)\n",
    "\n",
    "set_carton = set(L_carton)\n",
    "set_metal = set(L_metal)\n",
    "set_verre = set(L_verre)\n",
    "set_recyclable = set(L_recyclable)\n",
    "\n",
    "dict_pack = {'carton':set_carton, 'plastique':set_plastique, 'metal':set_metal, 'verre':set_verre, \n",
    "             'non_recyclable':set_non_recyclable, 'recyclable':set_recyclable, 'pack_recycl':set_pack_recycl, \n",
    "             'pas_demballage':set_no_pack, 'emball_intell':set_better_pack, 'suremballage':set_over_pack}"
   ]
  },
  {
   "cell_type": "code",
   "execution_count": 41,
   "id": "17310bde",
   "metadata": {},
   "outputs": [
    {
     "data": {
      "text/plain": [
       "156"
      ]
     },
     "execution_count": 41,
     "metadata": {},
     "output_type": "execute_result"
    }
   ],
   "source": [
    "n = 0\n",
    "for value in dict_pack.values():\n",
    "    n+=len(value)\n",
    "n - len(L_carton)-len(L_metal)-len(L_verre)"
   ]
  },
  {
   "cell_type": "markdown",
   "id": "66b87e36",
   "metadata": {},
   "source": [
    "Nous allons réaliser un tableau disjonctif complet où chaque produit appartiendra à autant de catégories de packaging qu'il ne contient de matières différentes ou porte une mention spécifique ('a jeter', 'recyclable').\n",
    "Nous ne pouvons donc pas utiliser la fonction OneHotEncoder de scikit-learn (qui ne peut attribuer qu'une modalité à chaque individu).\n",
    "Nous allons créer un ensemble de catégories de matière et mentions spécifiques, et créer une colonne pour chacune des catégories, et nous vérifierons pour chaque produit si son packaging comporte les matières ou mentions spécifiques.\n",
    "\n",
    "Le travail préliminaire réalisé ci-avant a permis de passer de 9328 valeurs différentes, à 3251 modalités uniques puis à 156 modalités discriminant 10 catégories d'emballage (division par 61)."
   ]
  },
  {
   "cell_type": "code",
   "execution_count": 42,
   "id": "e81e53e8",
   "metadata": {},
   "outputs": [],
   "source": [
    "# nous définissons la fonction qui nous indiquera si le packaging d'un produit contient appartient à l'une des catégories \n",
    "# définies ci-avant\n",
    "\n",
    "def belong_pack_catg(pack_cat, value):\n",
    "    dict_cat = dict_pack[pack_cat]\n",
    "    for pack in dict_cat:\n",
    "        contains = str(value).__contains__(pack)\n",
    "        if contains:\n",
    "            n = 1\n",
    "            break\n",
    "        else:\n",
    "            n = 0\n",
    "    return n\n",
    "\n",
    "# nous définissons ensuite la fonction qui va créer le tableau injonctif des catégories d'emballage\n",
    "def set_cols_cat_allerg():\n",
    "    k=1\n",
    "    func = lambda value: belong_pack_catg(key, value)\n",
    "    for key in dict_pack.keys():\n",
    "        df.insert(loc=(df.columns.get_loc('packaging')+k), column=key, value=df['packaging'].apply(func)) \n",
    "        k+=1"
   ]
  },
  {
   "cell_type": "code",
   "execution_count": 43,
   "id": "22827ba3",
   "metadata": {},
   "outputs": [],
   "source": [
    "set_cols_cat_allerg()"
   ]
  },
  {
   "cell_type": "code",
   "execution_count": 44,
   "id": "d30bfdf7",
   "metadata": {
    "scrolled": true
   },
   "outputs": [
    {
     "data": {
      "text/html": [
       "<div>\n",
       "<style scoped>\n",
       "    .dataframe tbody tr th:only-of-type {\n",
       "        vertical-align: middle;\n",
       "    }\n",
       "\n",
       "    .dataframe tbody tr th {\n",
       "        vertical-align: top;\n",
       "    }\n",
       "\n",
       "    .dataframe thead th {\n",
       "        text-align: right;\n",
       "    }\n",
       "</style>\n",
       "<table border=\"1\" class=\"dataframe\">\n",
       "  <thead>\n",
       "    <tr style=\"text-align: right;\">\n",
       "      <th></th>\n",
       "      <th>carton</th>\n",
       "      <th>plastique</th>\n",
       "      <th>metal</th>\n",
       "      <th>verre</th>\n",
       "      <th>non_recyclable</th>\n",
       "      <th>recyclable</th>\n",
       "      <th>pack_recycl</th>\n",
       "      <th>pas_demballage</th>\n",
       "      <th>emball_intell</th>\n",
       "      <th>suremballage</th>\n",
       "    </tr>\n",
       "  </thead>\n",
       "  <tbody>\n",
       "    <tr>\n",
       "      <th>275200</th>\n",
       "      <td>0</td>\n",
       "      <td>0</td>\n",
       "      <td>0</td>\n",
       "      <td>0</td>\n",
       "      <td>0</td>\n",
       "      <td>0</td>\n",
       "      <td>0</td>\n",
       "      <td>0</td>\n",
       "      <td>0</td>\n",
       "      <td>0</td>\n",
       "    </tr>\n",
       "    <tr>\n",
       "      <th>283841</th>\n",
       "      <td>0</td>\n",
       "      <td>0</td>\n",
       "      <td>0</td>\n",
       "      <td>0</td>\n",
       "      <td>0</td>\n",
       "      <td>0</td>\n",
       "      <td>0</td>\n",
       "      <td>0</td>\n",
       "      <td>0</td>\n",
       "      <td>0</td>\n",
       "    </tr>\n",
       "    <tr>\n",
       "      <th>298974</th>\n",
       "      <td>0</td>\n",
       "      <td>0</td>\n",
       "      <td>0</td>\n",
       "      <td>0</td>\n",
       "      <td>0</td>\n",
       "      <td>0</td>\n",
       "      <td>0</td>\n",
       "      <td>0</td>\n",
       "      <td>0</td>\n",
       "      <td>0</td>\n",
       "    </tr>\n",
       "    <tr>\n",
       "      <th>175229</th>\n",
       "      <td>0</td>\n",
       "      <td>1</td>\n",
       "      <td>0</td>\n",
       "      <td>0</td>\n",
       "      <td>0</td>\n",
       "      <td>0</td>\n",
       "      <td>0</td>\n",
       "      <td>0</td>\n",
       "      <td>0</td>\n",
       "      <td>0</td>\n",
       "    </tr>\n",
       "    <tr>\n",
       "      <th>306911</th>\n",
       "      <td>0</td>\n",
       "      <td>0</td>\n",
       "      <td>0</td>\n",
       "      <td>0</td>\n",
       "      <td>0</td>\n",
       "      <td>0</td>\n",
       "      <td>0</td>\n",
       "      <td>0</td>\n",
       "      <td>0</td>\n",
       "      <td>0</td>\n",
       "    </tr>\n",
       "    <tr>\n",
       "      <th>...</th>\n",
       "      <td>...</td>\n",
       "      <td>...</td>\n",
       "      <td>...</td>\n",
       "      <td>...</td>\n",
       "      <td>...</td>\n",
       "      <td>...</td>\n",
       "      <td>...</td>\n",
       "      <td>...</td>\n",
       "      <td>...</td>\n",
       "      <td>...</td>\n",
       "    </tr>\n",
       "    <tr>\n",
       "      <th>190582</th>\n",
       "      <td>0</td>\n",
       "      <td>1</td>\n",
       "      <td>0</td>\n",
       "      <td>0</td>\n",
       "      <td>0</td>\n",
       "      <td>0</td>\n",
       "      <td>0</td>\n",
       "      <td>0</td>\n",
       "      <td>0</td>\n",
       "      <td>0</td>\n",
       "    </tr>\n",
       "    <tr>\n",
       "      <th>190664</th>\n",
       "      <td>0</td>\n",
       "      <td>1</td>\n",
       "      <td>0</td>\n",
       "      <td>0</td>\n",
       "      <td>0</td>\n",
       "      <td>0</td>\n",
       "      <td>0</td>\n",
       "      <td>0</td>\n",
       "      <td>0</td>\n",
       "      <td>0</td>\n",
       "    </tr>\n",
       "    <tr>\n",
       "      <th>253925</th>\n",
       "      <td>0</td>\n",
       "      <td>0</td>\n",
       "      <td>1</td>\n",
       "      <td>0</td>\n",
       "      <td>0</td>\n",
       "      <td>1</td>\n",
       "      <td>0</td>\n",
       "      <td>0</td>\n",
       "      <td>0</td>\n",
       "      <td>0</td>\n",
       "    </tr>\n",
       "    <tr>\n",
       "      <th>197594</th>\n",
       "      <td>1</td>\n",
       "      <td>0</td>\n",
       "      <td>0</td>\n",
       "      <td>0</td>\n",
       "      <td>0</td>\n",
       "      <td>1</td>\n",
       "      <td>0</td>\n",
       "      <td>0</td>\n",
       "      <td>0</td>\n",
       "      <td>0</td>\n",
       "    </tr>\n",
       "    <tr>\n",
       "      <th>190797</th>\n",
       "      <td>0</td>\n",
       "      <td>1</td>\n",
       "      <td>1</td>\n",
       "      <td>0</td>\n",
       "      <td>0</td>\n",
       "      <td>1</td>\n",
       "      <td>0</td>\n",
       "      <td>0</td>\n",
       "      <td>0</td>\n",
       "      <td>0</td>\n",
       "    </tr>\n",
       "  </tbody>\n",
       "</table>\n",
       "<p>58960 rows × 10 columns</p>\n",
       "</div>"
      ],
      "text/plain": [
       "        carton  plastique  metal  verre  non_recyclable  recyclable  \\\n",
       "275200       0          0      0      0               0           0   \n",
       "283841       0          0      0      0               0           0   \n",
       "298974       0          0      0      0               0           0   \n",
       "175229       0          1      0      0               0           0   \n",
       "306911       0          0      0      0               0           0   \n",
       "...        ...        ...    ...    ...             ...         ...   \n",
       "190582       0          1      0      0               0           0   \n",
       "190664       0          1      0      0               0           0   \n",
       "253925       0          0      1      0               0           1   \n",
       "197594       1          0      0      0               0           1   \n",
       "190797       0          1      1      0               0           1   \n",
       "\n",
       "        pack_recycl  pas_demballage  emball_intell  suremballage  \n",
       "275200            0               0              0             0  \n",
       "283841            0               0              0             0  \n",
       "298974            0               0              0             0  \n",
       "175229            0               0              0             0  \n",
       "306911            0               0              0             0  \n",
       "...             ...             ...            ...           ...  \n",
       "190582            0               0              0             0  \n",
       "190664            0               0              0             0  \n",
       "253925            0               0              0             0  \n",
       "197594            0               0              0             0  \n",
       "190797            0               0              0             0  \n",
       "\n",
       "[58960 rows x 10 columns]"
      ]
     },
     "execution_count": 44,
     "metadata": {},
     "output_type": "execute_result"
    }
   ],
   "source": [
    "df[df['packaging'].notna()].loc[:,'carton':'suremballage']"
   ]
  },
  {
   "cell_type": "code",
   "execution_count": 48,
   "id": "f3b9c936",
   "metadata": {},
   "outputs": [
    {
     "data": {
      "text/plain": [
       "False    0.951509\n",
       "True     0.048491\n",
       "dtype: float64"
      ]
     },
     "execution_count": 48,
     "metadata": {},
     "output_type": "execute_result"
    }
   ],
   "source": [
    "(df[df['packaging'].notna()].loc[:,'carton':'suremballage'].sum(axis=1) == 0).value_counts()/df[df['packaging'].notna()].shape[0]"
   ]
  },
  {
   "cell_type": "code",
   "execution_count": 46,
   "id": "85b2faa9",
   "metadata": {},
   "outputs": [
    {
     "data": {
      "text/plain": [
       "bouteille      393\n",
       "surgelé        284\n",
       "artikel        283\n",
       "produit        256\n",
       "frais          170\n",
       "boîte          151\n",
       "pot            148\n",
       "stück          124\n",
       "boite           87\n",
       "flasche         66\n",
       "packung         60\n",
       "flacon          49\n",
       "emballage       31\n",
       "tube            28\n",
       "tablette        27\n",
       "packung(en)     26\n",
       "pots            26\n",
       "box             22\n",
       "bottle          18\n",
       "tüte            14\n",
       "Name: packaging, dtype: int64"
      ]
     },
     "execution_count": 46,
     "metadata": {},
     "output_type": "execute_result"
    }
   ],
   "source": [
    "df[df['packaging'].notna()].loc[:,'packaging'][df[df['packaging'].notna()].loc[:,'carton':'suremballage'].sum(axis=1) == 0].value_counts()[:20]"
   ]
  },
  {
   "cell_type": "markdown",
   "id": "ccc6ce28",
   "metadata": {},
   "source": [
    "On s'aperçoit qu'avec notre tableau disjonctif, nous récupérons légèrement plus de 95% de l'information contenue dans la colonne 'packaging', le reste n'étant pas exploitable en l'état sans faire la correspondance avec le nom du produit, qui peut lui-même nous renseigner sur l'emballage utilisé.\n",
    "\n",
    "Par ailleurs, grâce à ce dernier travail, nous pourrons facilement extraire de la valeur pour constituer la métrique de notre application."
   ]
  },
  {
   "cell_type": "markdown",
   "id": "9423308f",
   "metadata": {},
   "source": [
    "Nous n'avons désormais plus besoin de la colonne 'packaging' :"
   ]
  },
  {
   "cell_type": "code",
   "execution_count": 49,
   "id": "0f753bf1",
   "metadata": {},
   "outputs": [],
   "source": [
    "df.drop('packaging', axis=1, inplace=True)"
   ]
  },
  {
   "cell_type": "markdown",
   "id": "8f56d107",
   "metadata": {},
   "source": [
    "Nous allons maintenant travailler sur la colonne 'categories_fr'.\n",
    "- Nous allons tâcher de synthétiser les catégories tout en ne perdant pas trop de granularité car nous nous appuierons sur les catégories de produits pour faire des recommandations dans notre application\n",
    "- Nous mettrons en évidence la présence de 'viande' et de 'porc' pour les spécificités des certains régimes, la présence de 'poisson', 'fruits de mer', 'oeuf' et 'gluten' sera traitée dans la prochaine partie avec les allergènes."
   ]
  },
  {
   "cell_type": "code",
   "execution_count": null,
   "id": "36b1373f",
   "metadata": {},
   "outputs": [],
   "source": [
    "plt.figure(figsize=(15,8))\n",
    "df['categories_fr'].value_counts()[:50].plot.bar()"
   ]
  },
  {
   "cell_type": "code",
   "execution_count": null,
   "id": "74126cdd",
   "metadata": {},
   "outputs": [],
   "source": [
    "# pour faciliter le travail sur les chaînes de caractères, on les passe toutes en minuscule\n",
    "df['categories_fr'] = df['categories_fr'].str.lower()"
   ]
  },
  {
   "cell_type": "code",
   "execution_count": null,
   "id": "9e83f4da",
   "metadata": {},
   "outputs": [],
   "source": [
    "df['categories_fr'].notna().sum()"
   ]
  },
  {
   "cell_type": "code",
   "execution_count": null,
   "id": "91282859",
   "metadata": {},
   "outputs": [],
   "source": [
    "df['categories_fr'].nunique()"
   ]
  },
  {
   "cell_type": "code",
   "execution_count": null,
   "id": "500f11b9",
   "metadata": {},
   "outputs": [],
   "source": [
    "# on crée un dictionnaire nous renseignant sur le nombre d'occurences de chaque 'sous-catégorie' \n",
    "# parmi les différentes catégories\n",
    "def dict_subcateg(col_name):\n",
    "    dict_tmp = {}\n",
    "    L_split_subcateg = df[col_name].value_counts().index.str.split(',').tolist()\n",
    "    for liste in L_split_subcateg:\n",
    "        for element in liste:\n",
    "            if element not in dict_tmp.keys():\n",
    "                dict_tmp[element]=1\n",
    "            else:\n",
    "                dict_tmp[element]+=1\n",
    "\n",
    "    dict_subcateg = {}\n",
    "    sorted_keys = sorted(dict_tmp, key=dict_tmp.get, reverse=True)\n",
    "\n",
    "    for w in sorted_keys:\n",
    "        dict_subcateg[w] = dict_tmp[w]\n",
    "\n",
    "    return dict_subcateg\n",
    "\n",
    "dict_subcateg('categories_fr')"
   ]
  },
  {
   "cell_type": "markdown",
   "id": "c405ee42",
   "metadata": {},
   "source": [
    "Les sous-catégories suivantes sont trop générales :\n",
    "- 'aliments et boissons à base de végétaux'\n",
    "- \"aliments d'origine végétale\"\n",
    "- 'aliments à base de fruits et de légumes'\n",
    "- 'boissons'\n",
    "\n",
    "Nous décidons de catégoriser les produits sans elles, en créant une nouvelle colonne en retirant leur présence, et en ne sélectionnant qu'un nombre réduit de catégories pour décrire chaque produit :"
   ]
  },
  {
   "cell_type": "code",
   "execution_count": null,
   "id": "b775e218",
   "metadata": {},
   "outputs": [],
   "source": [
    "list_cat_to_del = ['aliments et boissons à base de végétaux', \"aliments d'origine végétale\",\n",
    "                   'aliments à base de fruits et de légumes', 'boissons']"
   ]
  },
  {
   "cell_type": "code",
   "execution_count": null,
   "id": "84b478aa",
   "metadata": {},
   "outputs": [],
   "source": [
    "# fonction renvoyant la chaîne de caractère 'value' raccourcie dont on a gardé les 'n_synth' premiers éléments \n",
    "# séparés par des virgules, en retirant les catégories passées en argument\n",
    "def synthetize_value(value, n_synth, list_cat_to_del=list_cat_to_del):\n",
    "    split_value = str(value).split(',')\n",
    "    for cat in list_cat_to_del:\n",
    "        split_value = [value for value in split_value if value != cat]\n",
    "    synth_value = ''\n",
    "    n = len(split_value)\n",
    "    if n!=0:\n",
    "        for i in range(np.min([n,n_synth])-1):\n",
    "            synth_value += (str(split_value[i])+', ')\n",
    "        synth_value += str(split_value[(np.min([n,n_synth])-1)])\n",
    "    return synth_value"
   ]
  },
  {
   "cell_type": "markdown",
   "id": "fd3e8563",
   "metadata": {},
   "source": [
    "Pour avoir une idée de l'effet de notre catégorisation synthétique, on peut regarder combien de nouvelles modalités différentes il nous faut garder pour décrirer tous nos produits :"
   ]
  },
  {
   "cell_type": "code",
   "execution_count": null,
   "id": "7c82bd35",
   "metadata": {},
   "outputs": [],
   "source": [
    "# on trace pour chaque nombre de sous-catégories que l'on garde pour décrire un produit, l'évolution \n",
    "def display_categ_repart(n_synth, n_newmodality):\n",
    "    L_plot = []\n",
    "    plt.figure(figsize=(12,6))\n",
    "    for i in range(n_synth+1):\n",
    "        L_tmp = []\n",
    "        Serie_synth_categ = df[df['categories_fr'].notna()].apply(lambda x: synthetize_value(x['categories_fr'],i), axis=1)\n",
    "        for j in range(1,(n_newmodality+1)):\n",
    "            L_tmp.append(Serie_synth_categ.value_counts()[:j].sum()/len(Serie_synth_categ))\n",
    "        plt.plot(list(range(1,(n_newmodality+1))), L_tmp, label=f'n_synth={i}')\n",
    "   \n",
    "    plt.legend(bbox_to_anchor=(1,1))\n",
    "    plt.grid(visible=True)\n",
    "    plt.show()"
   ]
  },
  {
   "cell_type": "code",
   "execution_count": null,
   "id": "c85a4b91",
   "metadata": {
    "scrolled": false
   },
   "outputs": [],
   "source": [
    "display_categ_repart(3,100)"
   ]
  },
  {
   "cell_type": "markdown",
   "id": "3ab7e472",
   "metadata": {},
   "source": [
    "On constate sans surprise, qu'en ne gardant qu'une sous-catégorie pour décrire un produit, avec seulement 20 nouvelles modalités, nous décrvions plus de 90% des produits, mais on obtient alors des catégories trop larges pour que la recommandation d'un produit appartenant à la même catégorie puisse toujours être pertinente. Il suffit de comparer les modalités les plus présentes dans le jeu de données pour 'n_synth' = 1, 2 puis 3 pour s'en apercevoir :"
   ]
  },
  {
   "cell_type": "code",
   "execution_count": null,
   "id": "922a286b",
   "metadata": {},
   "outputs": [],
   "source": [
    "# fonction créant la colonne catégorielle synthétique associée à la valeur de n_synth et contenant les n_synth premières\n",
    "# sous-catégories de la colonne 'categories_fr' du produit\n",
    "def set_col_categ_synth(n_synth):\n",
    "    if 'categories_synth' in df.columns:\n",
    "        df.drop('categories_synth', axis=1, inplace=True)\n",
    "    Serie_categ_synth = df.apply(lambda x: synthetize_value(x['categories_fr'],n_synth), axis=1)\n",
    "    df.insert(loc=(df.columns.get_loc('categories_fr')+1), column='categories_synth', value=Serie_categ_synth)"
   ]
  },
  {
   "cell_type": "code",
   "execution_count": null,
   "id": "7d617c3a",
   "metadata": {},
   "outputs": [],
   "source": [
    "set_col_categ_synth(1)\n",
    "df['categories_synth'].value_counts()[:10]"
   ]
  },
  {
   "cell_type": "code",
   "execution_count": null,
   "id": "9282841c",
   "metadata": {
    "scrolled": false
   },
   "outputs": [],
   "source": [
    "set_col_categ_synth(2)\n",
    "df['categories_synth'].value_counts()[:10]"
   ]
  },
  {
   "cell_type": "code",
   "execution_count": null,
   "id": "d5646e15",
   "metadata": {},
   "outputs": [],
   "source": [
    "set_col_categ_synth(3)\n",
    "df['categories_synth'].value_counts()[:20]"
   ]
  },
  {
   "cell_type": "markdown",
   "id": "07f00bf1",
   "metadata": {},
   "source": [
    "Pour la suite de l'étude nous allons garder les colonnes obtenues pour n_synth = 2 et 3, ainsi, si nous ne trouvons pas de produits à recommander dans la catégorie d'un produit associée à n_synth = 3, nous pourrons proposer un élargissement de recommandation à la catégorie de ce produit associée à n_synth = 2 à défaut."
   ]
  },
  {
   "cell_type": "markdown",
   "id": "9909a0b2",
   "metadata": {},
   "source": [
    "Pour la suite de l'étude nous allons créer 3 colonnes catégorielles chacune comportant la valeur de la sous-catégorie de niveau 0, 1 et 2 (ie. n_synth = 1, 2 et 3). Il sera alors facile de proposer des produits similaires à leur recherche nos utilisateurs finaux, et à défaut, de proposer un élargissement de recherche en proposant des produits de la même catégorie parent, ainsi de suite.. \n",
    "\n",
    "Par ailleurs, il sera possible d'encoder chacune des colonnes pour faciliter le traitement les traitements numériques de notre jeu de données ultérieurement !\n",
    "\n",
    "Pour cela, nous allons modifier nos fonctions 'synthetize_value' et 'set_col_categ_synth' :"
   ]
  },
  {
   "cell_type": "code",
   "execution_count": null,
   "id": "84d69ce1",
   "metadata": {},
   "outputs": [],
   "source": [
    "# fonction retournant une liste des n_synth_max premières catégories d'un produit, en mettant la valeur 'x' si le produit\n",
    "# n'est pas décrit par n_synth_max catégories\n",
    "def list_synth_value(value, n_synth_max, list_cat_to_del=list_cat_to_del):\n",
    "    split_value = str(value).split(',')\n",
    "    for cat in list_cat_to_del:\n",
    "        split_value = [value for value in split_value if value != cat]\n",
    "    list_synth = []\n",
    "    n=len(split_value)\n",
    "    for i in range(n_synth_max):\n",
    "        if i < n:\n",
    "            if split_value[i] == 'nan':\n",
    "                list_synth.append('x')\n",
    "            else:\n",
    "                list_synth.append(split_value[i])\n",
    "        else:\n",
    "            list_synth.append('x')\n",
    "    return list_synth"
   ]
  },
  {
   "cell_type": "code",
   "execution_count": null,
   "id": "13d2ea7d",
   "metadata": {},
   "outputs": [],
   "source": [
    "list_synth_value(df.loc[df[df[\"categories_fr\"].notna()].head(1).index[0]]['categories_fr'],3)"
   ]
  },
  {
   "cell_type": "code",
   "execution_count": null,
   "id": "3577ce95",
   "metadata": {},
   "outputs": [],
   "source": [
    "list_synth_value(df.loc[df[df[\"categories_fr\"].isna()].head(1).index[0]]['categories_fr'],3)"
   ]
  },
  {
   "cell_type": "code",
   "execution_count": null,
   "id": "7be5614a",
   "metadata": {},
   "outputs": [],
   "source": [
    "# fonction créant les colonnes catégorielles hiérarchiques des produits, de la catégorie la plus générale (n_synth=1) à la \n",
    "# catégorie la plus particulière (n_synth=n_synth_max)\n",
    "def set_cols_categ_synth(n_synth_max):\n",
    "    for i in range (n_synth_max):\n",
    "        col_name = 'categories_synth{}'.format((i+1))\n",
    "        if col_name in df.columns:\n",
    "            df.drop(col_name, axis=1, inplace=True)\n",
    "        Serie_categ_synth = df.apply(lambda x: list_synth_value(x['categories_fr'],n_synth_max)[i], axis=1)\n",
    "        df.insert(loc=(df.columns.get_loc('categories_fr')+(i+1)), column=col_name, value=Serie_categ_synth)"
   ]
  },
  {
   "cell_type": "code",
   "execution_count": null,
   "id": "3b47fb34",
   "metadata": {},
   "outputs": [],
   "source": [
    "set_cols_categ_synth(3)"
   ]
  },
  {
   "cell_type": "code",
   "execution_count": null,
   "id": "2acbbaa6",
   "metadata": {},
   "outputs": [],
   "source": [
    "df[df['categories_fr'].notna()].iloc[:, df.columns.get_loc('categories_fr'):df.columns.get_loc('categories_fr')+4]"
   ]
  },
  {
   "cell_type": "markdown",
   "id": "88497a70",
   "metadata": {},
   "source": [
    "Créons maintenant les colonnes nous permettant de savoir si un produit contient de la viande (pour les végétariens, végétaliens, et flexitariens) et du porc (pour ceux qui n'en consomment pas quelque soit la raison)."
   ]
  },
  {
   "cell_type": "code",
   "execution_count": null,
   "id": "a9669004",
   "metadata": {},
   "outputs": [],
   "source": [
    "df.insert(loc=(df.columns.get_loc('categories_synth3')+1), column='viande', value=df['categories_fr'].apply(lambda x: 1 if str(x).__contains__('viande') else 0))\n",
    "df.insert(loc=(df.columns.get_loc('categories_synth3')+2), column='porc', value=df['categories_fr'].apply(lambda x: 1 if str(x).__contains__('porc') else 0))"
   ]
  },
  {
   "cell_type": "code",
   "execution_count": null,
   "id": "22c8ad9b",
   "metadata": {},
   "outputs": [],
   "source": [
    "df[df['porc']==1]['viande'].value_counts()"
   ]
  },
  {
   "cell_type": "code",
   "execution_count": null,
   "id": "457d79fc",
   "metadata": {
    "scrolled": true
   },
   "outputs": [],
   "source": [
    "df.loc[df['porc']==1, 'viande']=1"
   ]
  },
  {
   "cell_type": "markdown",
   "id": "ac9f1f06",
   "metadata": {},
   "source": [
    "Nous n'avons dès lors plus besoin de la colonne 'categories_fr' ni 'categories_synth'."
   ]
  },
  {
   "cell_type": "code",
   "execution_count": null,
   "id": "9c49d47d",
   "metadata": {},
   "outputs": [],
   "source": [
    "df.drop(columns=['categories_fr','categories_synth'], axis=1, inplace=True)"
   ]
  },
  {
   "cell_type": "code",
   "execution_count": null,
   "id": "86ca33d9",
   "metadata": {},
   "outputs": [],
   "source": [
    "df_2 = df.copy()"
   ]
  },
  {
   "cell_type": "markdown",
   "id": "d80403f1",
   "metadata": {},
   "source": [
    "### RAF partie 2 :\n",
    "- vérifier les données aberrantes des colonnes"
   ]
  },
  {
   "cell_type": "markdown",
   "id": "6e3f2146",
   "metadata": {},
   "source": [
    "#### 3. Partie 'constitution du produit'"
   ]
  },
  {
   "cell_type": "code",
   "execution_count": null,
   "id": "b374768f",
   "metadata": {},
   "outputs": [],
   "source": [
    "df = df_2.copy()"
   ]
  },
  {
   "cell_type": "code",
   "execution_count": null,
   "id": "f363bb3e",
   "metadata": {},
   "outputs": [],
   "source": [
    "col3 = list(df.columns[df.columns.get_loc('ingredients_text'):df.columns.get_loc('serving_size')])\n",
    "col3"
   ]
  },
  {
   "cell_type": "code",
   "execution_count": null,
   "id": "07f08317",
   "metadata": {},
   "outputs": [],
   "source": [
    "df[col3]"
   ]
  },
  {
   "cell_type": "code",
   "execution_count": null,
   "id": "6331e592",
   "metadata": {
    "scrolled": true
   },
   "outputs": [],
   "source": [
    "df[col3].isna().mean()"
   ]
  },
  {
   "cell_type": "code",
   "execution_count": null,
   "id": "eecc402e",
   "metadata": {},
   "outputs": [],
   "source": [
    "df[col3].nunique()"
   ]
  },
  {
   "cell_type": "markdown",
   "id": "b5334db2",
   "metadata": {},
   "source": [
    "A ce stade nous savons que nous allons supprimer la colonne 'allergens_fr', 'traces_tags' qui nous fournit une information similaire à celle de 'traces_fr' mais en anglais et dans une mise en forme moins lisible et 'traces' qui nous fournit une information moins synthétique que 'traces_fr' (plus de valeurs uniques pour le même taux de remplissage).\n",
    "\n",
    "Notons que les colonnes 'allergens' et 'traces_fr' contiennent le même type d'information : la présence de substances pouvant provoquer une allergie.\n",
    "\n",
    "- Nous combinerons donc ces 2 colonnes en espérant ainsi obtenir une information plus complète."
   ]
  },
  {
   "cell_type": "code",
   "execution_count": null,
   "id": "768ba8e4",
   "metadata": {},
   "outputs": [],
   "source": [
    "df.drop(['allergens_fr','traces_tags','traces'], axis=1, inplace=True)"
   ]
  },
  {
   "cell_type": "code",
   "execution_count": null,
   "id": "4a294f06",
   "metadata": {},
   "outputs": [],
   "source": [
    "col3 = list(df.columns[df.columns.get_loc('ingredients_text'):df.columns.get_loc('serving_size')])\n",
    "df[col3].isna().mean()"
   ]
  },
  {
   "cell_type": "code",
   "execution_count": null,
   "id": "5aa21def",
   "metadata": {},
   "outputs": [],
   "source": [
    "# pour faciliter le travail sur les chaînes de caractères, on les passe toutes en minuscule\n",
    "df['traces_fr'] = df['traces_fr'].str.lower()\n",
    "df['allergens'] = df['allergens'].str.lower()"
   ]
  },
  {
   "cell_type": "code",
   "execution_count": null,
   "id": "6a0c936b",
   "metadata": {},
   "outputs": [],
   "source": [
    "L_traces = get_list_splits_str('traces_fr')\n",
    "len(L_traces)"
   ]
  },
  {
   "cell_type": "code",
   "execution_count": null,
   "id": "a45eab32",
   "metadata": {},
   "outputs": [],
   "source": [
    "L_traces"
   ]
  },
  {
   "cell_type": "code",
   "execution_count": null,
   "id": "ec3a8e9d",
   "metadata": {},
   "outputs": [],
   "source": [
    "L_allergens = get_list_splits_str('allergens')\n",
    "len(L_allergens)"
   ]
  },
  {
   "cell_type": "code",
   "execution_count": null,
   "id": "2fb015b2",
   "metadata": {},
   "outputs": [],
   "source": [
    "L_valeurs_allerg = df['traces_fr'].value_counts().index.tolist()+df['allergens'].value_counts().index.tolist()\n",
    "ens_valeurs_allerg = set(L_valeurs_allerg)\n",
    "len(ens_valeurs_allerg)"
   ]
  },
  {
   "cell_type": "code",
   "execution_count": null,
   "id": "a10f8562",
   "metadata": {},
   "outputs": [],
   "source": [
    "L_traces_uniques = get_list_uniques_splits_str('traces_fr')\n",
    "len(L_traces_uniques)"
   ]
  },
  {
   "cell_type": "code",
   "execution_count": null,
   "id": "307c60f8",
   "metadata": {},
   "outputs": [],
   "source": [
    "L_traces_uniques"
   ]
  },
  {
   "cell_type": "code",
   "execution_count": null,
   "id": "a0c0f5ff",
   "metadata": {},
   "outputs": [],
   "source": [
    "L_traces_reduit = ['blé', 'wheat','gluten', 'orge','cereales', 'epautre', 'cereals', 'glurent', \n",
    "                   \n",
    "                   'céléri','celeria', 'czeleri', 'selleri', 'celerie', \n",
    "                   \n",
    "                   'oeuf', 'œufs', 'egg', 'eggs',\n",
    "                   \n",
    "                   'coque', 'pistache', 'amande', 'noisette', 'noix','guscio', 'nusse', 'pistachio', 'haselnuss', 'secos', \n",
    "                   'nut', 'cashewnusse', 'pekannusse', 'amendoa', 'casca',\n",
    "                   \n",
    "                   'lupin', 'lupino',\n",
    "                   \n",
    "                   'lait','lactiques','lactosérum', 'milk', 'lactose', 'creme', 'beurre', 'laitier', 'laiit','lactoserum',\n",
    "                   \n",
    "                   'moutarde', 'mustard', 'mouarde', 'moutrde', \n",
    "                   \n",
    "                   'poisson', 'fish','sardines','thon', 'crevettes','fisch', 'pesce', \n",
    "                   \n",
    "                   'crustacés,', 'crustaces', 'surimi', 'crabe', 'crustacei', 'curstaces', 'crustacee', \n",
    "                   'crustacees', 'drustace',\n",
    "                   \n",
    "                   'mollusques', 'molluschi', 'jacques',\n",
    "                   \n",
    "                   'disulfite','sulfites', 'sulfates', 'sulfureux',\n",
    "                   \n",
    "                   'arachide', 'arachides', 'cacahuètes', 'cacahetes',\n",
    "                   \n",
    "                   'sesame', 'sésame', 'susam','cesame', 'sesamo',\n",
    "                   \n",
    "                   'soja', 'sija'\n",
    "                    ]\n",
    "len(L_traces_reduit)"
   ]
  },
  {
   "cell_type": "code",
   "execution_count": null,
   "id": "ce298878",
   "metadata": {},
   "outputs": [],
   "source": [
    "L_allerg_uniques = get_list_uniques_splits_str('allergens')\n",
    "len(L_allerg_uniques)"
   ]
  },
  {
   "cell_type": "code",
   "execution_count": null,
   "id": "613982b2",
   "metadata": {
    "scrolled": true
   },
   "outputs": [],
   "source": [
    "L_allerg_uniques"
   ]
  },
  {
   "cell_type": "code",
   "execution_count": null,
   "id": "01f82156",
   "metadata": {},
   "outputs": [],
   "source": [
    "L_allerg_reduit = ['comté', 'milch', 'vollmilchpulver', 'butterreinfett', 'magermilchpulver', 'fromage', 'emmental', 'lctosa',\n",
    "                   'laitière', 'roquefort', 'creme', 'pecorino', 'parmigiano', 'milchzucker', 'milcheiweißhydrolysat', 'gouda',\n",
    "                   'edam', 'actosérum', 'mozzarella', 'raclette', 'ricotta', 'tome', 'cheddar', 'milchschokolade', 'crème',\n",
    "                   'molkenpulver', 'parmesan', 'maroilles', 'sahnepulver', 'butter', 'magermilchjoghurtpulver', \n",
    "                   'vollmilchpulver', 'leite', 'iactose', 'beaufort','yaourt', 'magermilch', 'yaourts' ,'sahnepulver', 'édam',\n",
    "                   'présure', 'mascarpone', 'latte', 'feta', 'mimolette', 'laktose', 'iait', 'fromage', 'milchserum',\n",
    "                   'reblochon', 'eiweißpulver', 'magermilchjoghurtpulver', 'milcheiweiß', 'magermilchkonzentrat',\n",
    "                   'milchserumkonzentrat', 'whey', 'cantal', 'leche', 'lactosa', 'mantequilla', 'kuhmilch', 'weichkäse',\n",
    "                   'süßmlkenpulver', 'molke', 'magermllchpulver', 'gorgonzola', 'crème', 'laitiers', 'iactosèrum', \n",
    "                   'emmenthal', 'cream', 'lactate', 'beure', 'magemilchpulver', 'bleu', 'kondensmagermilch', 'caséinate', \n",
    "                   'gouda', 'écrémé', 'schlagsahne', 'milcheiweißpulver', 'vollfett-frischkäse', 'schlagsahne', 'reblochon',\n",
    "                   'ziegenmilch', 'tomme', 'laitiére', 'laitiéres', 'ialt', 'lactique', 'iactoserum', 'pecorino', 'ferments',\n",
    "                   'ferment', 'lacto', 'caséinates', 'maroilles', \n",
    "                   \n",
    "                   'avoine','seigle', 'épeautre', 'son', 'glutn', 'barley','gerstenmalzextrakt', 'froment', 'weizenmehl',\n",
    "                   'weizenstärke', 'weizen-reis-extrudat', 'weizen-reis-extrudat', 'weizenvollkornmehl', 'segale', 'orzo',\n",
    "                   'avena', 'weizeneiweiß', 'frumento', 'vollkornhaferflocken', 'volkornweizenflocken',\n",
    "                   'vollkorngerstenflocken', 'cebada', 'gerste', 'weichweizenmehl', 'hartweizengrieß', \n",
    "                   'roggenmehl', 'trigo', 'gerstenflocken', 'weizen', 'gerstenmalz', 'weizenflocken', 'couscous', \n",
    "                   'gerstenmalzmehl', 'weizenmalzmehl', 'blés', 'boulghour', 'gerstenvollkornmehl', 'gerstenvollkornmehl',\n",
    "                   'hafervollkornmehl', 'dinkelvollkornmehl', 'roggenvollkornmehl', 'hafervollkornflocken', \n",
    "                   'weizenvollkornflocken', 'weizenkleber', 'hartweizengrieß', 'millet', 'siegle', 'peanuts', 'malté', \n",
    "                   'weizengluten', 'amidon', 'glúten', \n",
    "                   \n",
    "                   'cajou', 'pécan','pin','pignon', 'mandeln', 'pecan', 'haselnüsse', 'amandons', 'haselnussmasse', 'haselnüsse',\n",
    "                   'noisettes', 'haselnuskern', 'haselnussmark', 'mandeln', 'cashewkerne', 'almendras', 'almonds', 'hazelnut',\n",
    "                   'avelãs', 'cashews', 'amendes', 'nuts'\n",
    "                   \n",
    "                   \n",
    "                   'cabillaud', 'saumon', 'maquereau', 'colin', 'brochet', 'écrevisses', 'limande','poissons', 'truite', 'lieu',\n",
    "                   'anchois', 'homard', 'maquereaux', 'langoustines', 'morue', 'esturgeon', 'mer', 'merlu', 'gambas', 'merlan',\n",
    "                   'bar', 'rouget', 'barbet', 'langoustine', 'harengs', 'hareng', 'sardine', \n",
    "                   \n",
    "                   'huitre', 'clams', 'coquillages', 'huître', 'tourteau', 'crustace', 'moule', 'bulots', \n",
    "                   \n",
    "                   'pulpe', 'poulpe', 'encornet', 'calamars', 'calmars', 'seiche', 'encornets', 'seiches', \n",
    "                   \n",
    "                   'soybeans', 'lécithine', 'lecithin', 'sojalecithin', 'sojakerne', 'sojalecithine', 'soia', \n",
    "                   'lécithine de soja', 'sojasoßenpulver', 'sojabohnen', 'tofu', 'mungo', 'soya', 'soy',\n",
    "                   \n",
    "                   'hühnerei-trockeneiweiß','uovo', 'hühnervolleipulver', 'hühnerei', 'eigelb', 'huevo',\n",
    "                   \n",
    "                   'sesamöl',\n",
    "                   \n",
    "                   'senf', 'moutard', \n",
    "                   \n",
    "                   'schwefeldioxid', 'sulfates','sulfito',\n",
    "                   \n",
    "                   'cacahouètes', 'erdnüsse', 'cacahuète', \n",
    "                   \n",
    "                   'céleris', 'țelină'\n",
    "                  ]\n",
    "len(L_allerg_reduit)"
   ]
  },
  {
   "cell_type": "code",
   "execution_count": null,
   "id": "a4cc0e07",
   "metadata": {},
   "outputs": [],
   "source": [
    "ens_allerg_uniques = set(L_traces_uniques)\n",
    "for element in L_allerg_uniques:\n",
    "    ens_allerg_uniques.add(element)\n",
    "len(ens_allerg_uniques)"
   ]
  },
  {
   "cell_type": "code",
   "execution_count": null,
   "id": "6200478f",
   "metadata": {},
   "outputs": [],
   "source": [
    "ens_allerg_reduit = set(L_traces_reduit)\n",
    "for element in L_allerg_reduit:\n",
    "    ens_allerg_reduit.add(element)\n",
    "len(ens_allerg_reduit)"
   ]
  },
  {
   "cell_type": "markdown",
   "id": "23380534",
   "metadata": {},
   "source": [
    "Nous allons réaliser un tableau disjonctif complet où chaque produit appartiendra à autant de catégories d'allergènes qu'il en contient. Nous ne pouvons donc pas utiliser la fonction OneHotEncoder de scikit-learn (qui ne peut attribuer qu'une modalité à chaque individu).\n",
    "Nous allons créer un ensemble de susbstances allergènes par catégorie (14 en tout), et créer une colonne pour chacune des catégories, et nous vérifierons pour chaque produit la présence de substances de la catégorie dans son champ 'allergens' et 'traces_fr'.\n",
    "\n",
    "Le travail préliminaire réalisé ci-avant a permis de passer de 11788 valeurs différentes, à 1879 modalités uniques puis à 309 modalités discriminant 14 catégories de substances allergènes (division par 38).\n",
    "\n",
    "NB : le tri des \"mots-clés\" des listes de modalités uniques pour obtenir les listes réduites a été réalisé à la main, et bien que l'opération ait été réalisée minutieusement, il y aura des manques que nous considérons comme étant des erreurs de perte d'information inhérentes au processus de transformation que nous avons choisi.\n",
    "- Une autre manière de procéder aurait été de lister l'ensemble des substances les plus courantes appartenant aux 14 catégories d'allergènes qu'il est obligatoire de mentionner sur l'emballage d'un produit, et de les traduire dans toutes les langues de l'union européenne, mais cela aurait donné un tableau trop volumineux et nous n'aurions pas pu capter les mots-clés relevant de fautes d'orthographes, les variations de mots avec ou sans accent, ainsi que les mots au pluriel comme nous avons pu le faire ici."
   ]
  },
  {
   "cell_type": "code",
   "execution_count": null,
   "id": "7882b6e5",
   "metadata": {},
   "outputs": [],
   "source": [
    "set_gluten = set(['gluten', 'glurent', 'glutn', 'glúten'\n",
    "    \n",
    "])\n",
    "\n",
    "set_oeuf = set(['hühnerei-trockeneiweiß','uovo', 'hühnervolleipulver', 'hühnerei', 'eigelb', 'huevo', 'oeuf', 'œufs', 'egg',\n",
    "                'eggs'])\n",
    "\n",
    "set_fruits_coque = set(['coque', 'pistache', 'amande', 'noisette', 'noix','guscio', 'nusse', 'pistachio', 'haselnuss', 'secos', \n",
    "                   'nut', 'cashewnusse', 'pekannusse', 'amendoa', 'casca', 'cajou', 'pécan','pin','pignon', 'mandeln', 'pecan', \n",
    "                   'haselnüsse', 'amandons', 'haselnussmasse', 'haselnüsse','noisettes', 'haselnuskern', 'haselnussmark',\n",
    "                   'mandeln', 'cashewkerne', 'almendras', 'almonds', 'hazelnut', 'avelãs', 'cashews', 'amendes', 'nuts'])\n",
    "\n",
    "set_lupin = set(['lupin', 'lupino'])\n",
    "\n",
    "set_lait = set(['lait','lactiques','lactosérum', 'milk', 'lactose', 'creme', 'beurre', 'laitier', 'laiit','lactoserum',\n",
    "                'comté', 'milch', 'vollmilchpulver', 'butterreinfett', 'magermilchpulver', 'fromage', 'emmental', 'lctosa',\n",
    "                'laitière', 'roquefort', 'creme', 'pecorino', 'parmigiano', 'milchzucker', 'milcheiweißhydrolysat', 'gouda',\n",
    "                'edam', 'actosérum', 'mozzarella', 'raclette', 'ricotta', 'tome', 'cheddar', 'milchschokolade', 'crème',\n",
    "                'molkenpulver', 'parmesan', 'maroilles', 'sahnepulver', 'butter', 'magermilchjoghurtpulver', \n",
    "                'vollmilchpulver', 'leite', 'iactose', 'beaufort','yaourt', 'magermilch', 'yaourts' ,'sahnepulver', 'édam',\n",
    "                'présure', 'mascarpone', 'latte', 'feta', 'mimolette', 'laktose', 'iait', 'fromage', 'milchserum',\n",
    "                'reblochon', 'eiweißpulver', 'magermilchjoghurtpulver', 'milcheiweiß', 'magermilchkonzentrat',\n",
    "                'milchserumkonzentrat', 'whey', 'cantal', 'leche', 'lactosa', 'mantequilla', 'kuhmilch', 'weichkäse',\n",
    "                'süßmlkenpulver', 'molke', 'magermllchpulver', 'gorgonzola', 'crème', 'laitiers', 'iactosèrum', \n",
    "                'emmenthal', 'cream', 'lactate', 'beure', 'magemilchpulver', 'bleu', 'kondensmagermilch', 'caséinate', \n",
    "                'gouda', 'écrémé', 'schlagsahne', 'milcheiweißpulver', 'vollfett-frischkäse', 'schlagsahne', 'reblochon',\n",
    "                'ziegenmilch', 'tomme', 'laitiére', 'laitiéres', 'ialt', 'lactique', 'iactoserum', 'pecorino', 'ferments',\n",
    "                'ferment', 'lacto', 'caséinates', 'maroilles'])\n",
    "\n",
    "set_sulfites = set(['schwefeldioxid', 'sulfates','sulfito', 'disulfite','sulfites', 'sulfates', 'sulfureux'])\n",
    "\n",
    "set_poissons = set(['poisson', 'fish','sardines','thon', 'crevettes','fisch', 'pesce','cabillaud', 'saumon', 'maquereau', \n",
    "                    'colin', 'brochet', 'écrevisses', 'limande','poissons', 'truite', 'lieu', 'anchois', 'homard',\n",
    "                    'maquereaux', 'langoustines', 'morue', 'esturgeon', 'mer', 'merlu', 'gambas', 'merlan', 'bar', 'rouget',\n",
    "                    'barbet', 'langoustine', 'harengs', 'hareng', 'sardine'])\n",
    "\n",
    "set_mollusques = set(['mollusques', 'molluschi', 'jacques','pulpe', 'poulpe', 'encornet', 'calamars', 'calmars', 'seiche', \n",
    "                      'encornets', 'seiches'])\n",
    "\n",
    "set_crustaces = set(['crustacés,', 'crustaces', 'surimi', 'crabe', 'crustacei', 'curstaces', 'crustacee', \n",
    "                     'crustacees', 'drustace','huitre', 'clams', 'coquillages', 'huître', 'tourteau', 'crustace',\n",
    "                     'moule', 'bulots'])\n",
    "\n",
    "set_soja = set(['soybeans', 'lécithine', 'lecithin', 'sojalecithin', 'sojakerne', 'sojalecithine', 'soia', 'lécithine de soja',\n",
    "                'sojasoßenpulver', 'sojabohnen', 'tofu', 'mungo', 'soya', 'soy','soja', 'sija'])\n",
    "\n",
    "set_cereales = set(['blé', 'wheat','gluten', 'orge','cereales', 'epautre', 'cereals', 'glurent', 'avoine','seigle', \n",
    "                    'épeautre', 'son', 'glutn', 'barley','gerstenmalzextrakt', 'froment', 'weizenmehl', 'weizenstärke',\n",
    "                    'weizen-reis-extrudat', 'weizen-reis-extrudat', 'weizenvollkornmehl', 'segale', 'orzo', 'avena', \n",
    "                    'weizeneiweiß', 'frumento', 'vollkornhaferflocken', 'volkornweizenflocken', 'vollkorngerstenflocken',\n",
    "                    'cebada', 'gerste', 'weichweizenmehl', 'hartweizengrieß', 'roggenmehl', 'trigo', 'gerstenflocken',\n",
    "                    'weizen', 'gerstenmalz', 'weizenflocken', 'couscous', 'gerstenmalzmehl', 'weizenmalzmehl', 'blés',\n",
    "                    'boulghour', 'gerstenvollkornmehl', 'gerstenvollkornmehl', 'hafervollkornmehl', 'dinkelvollkornmehl',\n",
    "                    'roggenvollkornmehl', 'hafervollkornflocken', 'weizenvollkornflocken', 'weizenkleber', 'hartweizengrieß',\n",
    "                    'millet', 'siegle', 'malté', 'weizengluten', 'amidon', 'glúten'])\n",
    "\n",
    "set_arachides = set(['arachide', 'arachides', 'cacahuètes', 'cacahetes','cacahouètes', 'erdnüsse', 'cacahuète', 'peanuts'])\n",
    "\n",
    "set_celeri = set(['céléri','celeria', 'czeleri', 'selleri', 'celerie', 'céleris', 'țelină'])\n",
    "\n",
    "set_sesame = set(['sesame', 'sésame', 'susam','cesame', 'sesamo', 'sesamöl'])\n",
    "\n",
    "set_moutarde = set(['moutarde', 'mustard', 'mouarde', 'moutrde','senf', 'moutard'])\n",
    "\n",
    "dict_allerg = {'gluten': set_gluten, 'oeuf':set_oeuf, 'fruits_coque':set_fruits_coque, 'lupin':set_lupin, 'lait':set_lait, \n",
    "               'sulfites':set_sulfites, 'poissons':set_poissons, 'mollusques':set_mollusques, 'crustaces':set_crustaces, \n",
    "               'soja':set_soja, 'cereales':set_cereales, 'arachides':set_arachides, 'celeri':set_celeri, 'sesame':set_sesame, \n",
    "               'moutarde':set_moutarde}"
   ]
  },
  {
   "cell_type": "code",
   "execution_count": null,
   "id": "12e92041",
   "metadata": {},
   "outputs": [],
   "source": [
    "for key in dict_allerg.keys():\n",
    "    print(key)"
   ]
  },
  {
   "cell_type": "code",
   "execution_count": null,
   "id": "54f2f32e",
   "metadata": {},
   "outputs": [],
   "source": [
    "len(dict_allerg.keys())"
   ]
  },
  {
   "cell_type": "code",
   "execution_count": null,
   "id": "84929f78",
   "metadata": {},
   "outputs": [],
   "source": [
    "for substance in dict_allerg['oeuf']:\n",
    "    print(substance)"
   ]
  },
  {
   "cell_type": "code",
   "execution_count": null,
   "id": "67d3cc79",
   "metadata": {
    "scrolled": true
   },
   "outputs": [],
   "source": [
    "df.insert(loc=(df.columns.get_loc('traces_fr')+1), column='substances_allergenes', value=(df['traces_fr'] + ',' + df['allergens']))"
   ]
  },
  {
   "cell_type": "code",
   "execution_count": null,
   "id": "aa63d709",
   "metadata": {
    "scrolled": true
   },
   "outputs": [],
   "source": [
    "df['substances_allergenes'].fillna('inconnues', inplace=True)"
   ]
  },
  {
   "cell_type": "code",
   "execution_count": null,
   "id": "600fd5d2",
   "metadata": {},
   "outputs": [],
   "source": [
    "df['substances_allergenes']"
   ]
  },
  {
   "cell_type": "code",
   "execution_count": null,
   "id": "8cf91621",
   "metadata": {},
   "outputs": [],
   "source": [
    "df['substances_allergenes'][253925].__contains__('lactose')"
   ]
  },
  {
   "cell_type": "markdown",
   "id": "ae5bb9ad",
   "metadata": {},
   "source": [
    "Nous constatons ici que nous aurions pu travailler sur la colonne issue de la jointure des colonnes 'traces_fr' et 'allergenes' car elle présente un nombre de valeurs uniques plus petit que la jointure des listes de valeurs uniques de ces mêmes colonnes (8367 contre 11788)."
   ]
  },
  {
   "cell_type": "code",
   "execution_count": null,
   "id": "cb0c997a",
   "metadata": {},
   "outputs": [],
   "source": [
    "# nous définissons la fonction qui nous indiquera si un produit contient une substance de la catégorie passée en argument\n",
    "def contains_allerg(cat_allerg, value):\n",
    "    dict_cat = dict_allerg[cat_allerg]\n",
    "    for substance in dict_cat:\n",
    "        contains = value.__contains__(substance)\n",
    "        if contains:\n",
    "            n = 1\n",
    "            break\n",
    "        else:\n",
    "            n = 0\n",
    "    return n"
   ]
  },
  {
   "cell_type": "code",
   "execution_count": null,
   "id": "0d55746d",
   "metadata": {},
   "outputs": [],
   "source": [
    "def set_cols_cat_allerg():\n",
    "    k=1\n",
    "    func = lambda value: contains_allerg(key, value)\n",
    "    for key in dict_allerg.keys():\n",
    "        df.insert(loc=(df.columns.get_loc('traces_fr')+k), column=key, value=df['substances_allergenes'].apply(func)) \n",
    "        k+=1"
   ]
  },
  {
   "cell_type": "code",
   "execution_count": null,
   "id": "5cba7bb1",
   "metadata": {},
   "outputs": [],
   "source": [
    "set_cols_cat_allerg()"
   ]
  },
  {
   "cell_type": "code",
   "execution_count": null,
   "id": "9939fa28",
   "metadata": {},
   "outputs": [],
   "source": [
    "df[df['substances_allergenes'] != 'inconnues'].loc[:,'oeuf':'moutarde']"
   ]
  },
  {
   "cell_type": "code",
   "execution_count": null,
   "id": "d0448d2d",
   "metadata": {},
   "outputs": [],
   "source": [
    "df['soja'].sum()"
   ]
  },
  {
   "cell_type": "code",
   "execution_count": null,
   "id": "aded9d6d",
   "metadata": {},
   "outputs": [],
   "source": [
    "df.shape"
   ]
  },
  {
   "cell_type": "code",
   "execution_count": null,
   "id": "165cfa63",
   "metadata": {},
   "outputs": [],
   "source": [
    "(df[df['substances_allergenes'] != 'inconnues'].loc[:,'oeuf':'moutarde'].sum(axis=1) == 0).value_counts()"
   ]
  },
  {
   "cell_type": "markdown",
   "id": "e40f3578",
   "metadata": {},
   "source": [
    "Nous avons perdu l'information de présence d'allergènes pour uniquement 7 produits sur la totalité (0.06%).\n",
    "Nous traitons ces produits réticents à la main."
   ]
  },
  {
   "cell_type": "code",
   "execution_count": null,
   "id": "34d55cee",
   "metadata": {},
   "outputs": [],
   "source": [
    "df[df['substances_allergenes'] != 'inconnues'][df[df['substances_allergenes'] != 'inconnues'].loc[:,'oeuf':'moutarde'].sum(axis=1) == 0]['substances_allergenes']"
   ]
  },
  {
   "cell_type": "markdown",
   "id": "e65a6881",
   "metadata": {},
   "source": [
    "Nous ajoutons la valeur 'céleri' à notre ensemble 'set_celeri'."
   ]
  },
  {
   "cell_type": "code",
   "execution_count": null,
   "id": "d200220f",
   "metadata": {},
   "outputs": [],
   "source": [
    "set_celeri.clear()\n",
    "set_celeri = set_celeri = set(['céléri','celeria', 'czeleri', 'selleri', 'celerie', 'céleris', 'țelină', 'céleri'])\n",
    "dict_allerg = {'oeuf':set_oeuf, 'fruits_coque':set_fruits_coque, 'lupin':set_lupin, 'lait':set_lait, 'sulfites':set_sulfites,\n",
    "               'poissons':set_poissons, 'mollusques':set_mollusques, 'crustaces':set_crustaces, 'soja':set_soja,\n",
    "               'cereales':set_cereales, 'arachides':set_arachides, 'celeri':set_celeri, 'sesame':set_sesame, \n",
    "               'moutarde':set_moutarde}"
   ]
  },
  {
   "cell_type": "code",
   "execution_count": null,
   "id": "df1c0c4e",
   "metadata": {},
   "outputs": [],
   "source": [
    "df['celeri'] = df['substances_allergenes'].apply(lambda value: contains_allerg('celeri', value))"
   ]
  },
  {
   "cell_type": "code",
   "execution_count": null,
   "id": "f095908d",
   "metadata": {},
   "outputs": [],
   "source": [
    "(df[df['substances_allergenes'] != 'inconnues'].loc[:,'oeuf':'moutarde'].sum(axis=1) == 0).value_counts()"
   ]
  },
  {
   "cell_type": "markdown",
   "id": "10780f1e",
   "metadata": {},
   "source": [
    "On retrouve notre ligne mentionnant du 'réglisse' qui n'est pas une substance allergène à mentionner obligatoirement par le fabricant. Nous n'avons désormais plus besoin des colonnes 'traces_fr' et 'allergens'."
   ]
  },
  {
   "cell_type": "code",
   "execution_count": null,
   "id": "c398d6be",
   "metadata": {},
   "outputs": [],
   "source": [
    "df.drop(['traces_fr','allergens'], axis=1, inplace=True)"
   ]
  },
  {
   "cell_type": "code",
   "execution_count": null,
   "id": "b138722c",
   "metadata": {},
   "outputs": [],
   "source": [
    "df.shape"
   ]
  },
  {
   "cell_type": "code",
   "execution_count": null,
   "id": "0b9f73bb",
   "metadata": {},
   "outputs": [],
   "source": [
    "df_3 = df.copy()"
   ]
  },
  {
   "cell_type": "markdown",
   "id": "77287938",
   "metadata": {},
   "source": [
    "#### 4. Partie 'informations diverses'"
   ]
  },
  {
   "cell_type": "code",
   "execution_count": null,
   "id": "77e39372",
   "metadata": {},
   "outputs": [],
   "source": [
    "col4 = list(df.columns[df.columns.get_loc('serving_size'):df.columns.get_loc('energy_100g')])\n",
    "col4"
   ]
  },
  {
   "cell_type": "code",
   "execution_count": null,
   "id": "6354cdcb",
   "metadata": {},
   "outputs": [],
   "source": [
    "df[col4].isna().mean()"
   ]
  },
  {
   "cell_type": "code",
   "execution_count": null,
   "id": "4b7af066",
   "metadata": {},
   "outputs": [],
   "source": [
    "#cellule utilisée pour explorer les différentes valeurs des colonnes\n",
    "df['no_nutriments'].value_counts()[:15]"
   ]
  },
  {
   "cell_type": "markdown",
   "id": "765f2add",
   "metadata": {},
   "source": [
    "Nous n'allons conserver que les colonnes suivantes :\n",
    "- 'additives_n' : qui nous renseigne sur le nombre d'additifs présents dans le produit\n",
    "- 'additives_fr' : qui nous renseignent sur les additifs présents (pour évaluer leur dangerosité)\n",
    "- 'ingredients_from_palm_oil_n' : qui nous renseigne sur le nombre d'ingrédients issus de l'huile de palme, présents dans le produit\n",
    "- 'ingredients_that_may_be_from_palm_oil_n' : qui nous renseigne sur le nombre d'ingrédients peut-être issus de l'huile de palme, présents dans le produit\n",
    "- 'nutrition_grade_fr' : qui nous renseigne sur le NUTRISCORE du produit\n",
    "- 'image_small_url' : qui nous fournit l'url de l'image du produit que l'on pourra afficher dans notre application\n",
    "\n",
    "Les autres colonnes sont soit vides, soit nous donnent une informations que nous n'allons pas exploiter, ou bien sont moins compréhensible ou synthétique."
   ]
  },
  {
   "cell_type": "code",
   "execution_count": null,
   "id": "50d9cff8",
   "metadata": {},
   "outputs": [],
   "source": [
    "col_part4_to_drop = col4\n",
    "col_part4_to_drop.remove('additives_n')\n",
    "col_part4_to_drop.remove('additives_fr')\n",
    "col_part4_to_drop.remove('ingredients_from_palm_oil_n')\n",
    "col_part4_to_drop.remove('ingredients_that_may_be_from_palm_oil_n')\n",
    "col_part4_to_drop.remove('nutrition_grade_fr')\n",
    "col_part4_to_drop.remove('image_small_url')\n",
    "df.drop(columns=col_part4_to_drop, inplace=True)"
   ]
  },
  {
   "cell_type": "code",
   "execution_count": null,
   "id": "2bd91f63",
   "metadata": {},
   "outputs": [],
   "source": [
    "col4 = list(df.columns[df.columns.get_loc('additives_n'):df.columns.get_loc('energy_100g')])\n",
    "df[col4].head()"
   ]
  },
  {
   "cell_type": "code",
   "execution_count": null,
   "id": "59975e7f",
   "metadata": {},
   "outputs": [],
   "source": [
    "df[col4].isna().mean()"
   ]
  },
  {
   "cell_type": "code",
   "execution_count": null,
   "id": "0fd9c229",
   "metadata": {},
   "outputs": [],
   "source": [
    "df_4 = df.copy()"
   ]
  },
  {
   "cell_type": "markdown",
   "id": "0cadf553",
   "metadata": {},
   "source": [
    "#### 5. Partie informations nutritionnelles"
   ]
  },
  {
   "cell_type": "code",
   "execution_count": null,
   "id": "bf5d40a6",
   "metadata": {},
   "outputs": [],
   "source": [
    "col5 = list(df.columns[df.columns.get_loc('energy_100g'):])\n",
    "col5"
   ]
  },
  {
   "cell_type": "code",
   "execution_count": null,
   "id": "cc100b28",
   "metadata": {},
   "outputs": [],
   "source": [
    "len(col5)"
   ]
  },
  {
   "cell_type": "code",
   "execution_count": null,
   "id": "c67d33fd",
   "metadata": {
    "scrolled": true
   },
   "outputs": [],
   "source": [
    "msno.bar(df[col5], sort='descending')"
   ]
  },
  {
   "cell_type": "code",
   "execution_count": null,
   "id": "19710d51",
   "metadata": {},
   "outputs": [],
   "source": [
    "nom_produit = 'Gnocchi'\n",
    "df.loc[df['product_name'].str.contains(nom_produit).fillna(False)]"
   ]
  },
  {
   "cell_type": "code",
   "execution_count": null,
   "id": "42bd1401",
   "metadata": {},
   "outputs": [],
   "source": [
    "df.head()"
   ]
  },
  {
   "cell_type": "code",
   "execution_count": null,
   "id": "8a4e2c54",
   "metadata": {},
   "outputs": [],
   "source": [
    "df.iloc[53100][:15]"
   ]
  },
  {
   "cell_type": "code",
   "execution_count": null,
   "id": "20d2b975",
   "metadata": {},
   "outputs": [],
   "source": []
  }
 ],
 "metadata": {
  "kernelspec": {
   "display_name": "Python 3 (ipykernel)",
   "language": "python",
   "name": "python3"
  },
  "language_info": {
   "codemirror_mode": {
    "name": "ipython",
    "version": 3
   },
   "file_extension": ".py",
   "mimetype": "text/x-python",
   "name": "python",
   "nbconvert_exporter": "python",
   "pygments_lexer": "ipython3",
   "version": "3.9.12"
  }
 },
 "nbformat": 4,
 "nbformat_minor": 5
}
