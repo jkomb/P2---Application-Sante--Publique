{
 "cells": [
  {
   "cell_type": "markdown",
   "id": "287b8ba2",
   "metadata": {},
   "source": [
    "# Préparation des données"
   ]
  },
  {
   "cell_type": "markdown",
   "id": "9e49c6e6",
   "metadata": {},
   "source": [
    "### Données obenues auprès de https://world.openfoodfacts.org\n",
    "\n",
    "\n",
    "### Objectif du présent document\n",
    "\n",
    "Préparer le jeu de données en en vue de la réalisation d'une analyse univariée, bivariée et exploratoire des variables pertinentes au regard de notre proposition d'application dans le cadre d'un appel d'offre de \"Santé Publique\".\n",
    "\n",
    "\n",
    "### Contexte de réalisation de l'étude\n",
    "\n",
    "Notre étude du jeu de données devra être simple à comprendre pour un public néophyte. \n",
    "Nous devrons donc être particulièrement attentifs à la lisibilité et aux choix des graphiques pour illustrer notre propos.\n",
    "    \n",
    "### Direction de l'étude\n",
    "\n",
    "Après une analyse univariée et bivariée du jeu de données, nous pourrons réaliser une ACP afin de comprendre les caractéristiques les plus discriminantes de notre ensemble de produits, ainsi qu'un partitionnement afin de plus simplement \n",
    "catégoriser les produits (beaucoups de catégories présentes dans le jeu).\n",
    "\n",
    "Aussi nous pourrons effectuer quelques régressions pour étudier par exemple la correspondance entre nutriscore et nombre d'ingrédients dans un produit, la présence d'additifs ou d'allergènes.\n",
    "\n",
    "Enfin, nous proposerons une métrique rendant compte de la qualité intrinsèque des produits, ainsi que de leur impact sur l'environnement, une métrique qui se voudra plus transparente envers le consommateur sur le bien fondé de la proposition de valeur qu'ils représentent.\n",
    "\n",
    "### Idée d'application\n",
    "\n",
    "Nous proposons un outil permettant au consommateur de mieux apprécier la qualité des produits qu'il consomme, et qui sera principalement basé sur l'appréciation des critères suivants :\n",
    "- Le nustricore (valeur numérique)\n",
    "- Le critère NOVA qui range en 4 catégories les produits en fonction de leur taux de transformation industrielle\n",
    "- La présence d'addifits, d'allergènes, d'ingrédidents issus de l'huile de palme\n",
    "- La disparité entre l'origine du produit, son lieu de transformation et la FRANCE\n",
    "- L'appartenance du produit à un label BIO ou qui s'engage à prendre mieux soin des consommateurs\n",
    "- Le type de packaging utilisé pour conditionner le produit"
   ]
  },
  {
   "cell_type": "markdown",
   "id": "816e0cbe",
   "metadata": {},
   "source": [
    "## Récupération des données"
   ]
  },
  {
   "cell_type": "code",
   "execution_count": 1,
   "id": "c8b74c00",
   "metadata": {},
   "outputs": [],
   "source": [
    "import numpy as np\n",
    "import pandas as pd\n",
    "\n",
    "import matplotlib.pyplot as plt\n",
    "import seaborn as sns\n",
    "%matplotlib inline\n",
    "\n",
    "import missingno as msno\n",
    "import FETCH_LOAD_DATAS"
   ]
  },
  {
   "cell_type": "code",
   "execution_count": 2,
   "id": "3535af77",
   "metadata": {},
   "outputs": [
    {
     "name": "stdout",
     "output_type": "stream",
     "text": [
      "Help on module FETCH_LOAD_DATAS:\n",
      "\n",
      "NAME\n",
      "    FETCH_LOAD_DATAS\n",
      "\n",
      "DESCRIPTION\n",
      "    Ce module contient la définition des variables de chemins de destination ainsi que l'importation des librairies nécessaires à la définition des 2 fonctions suivantes:\n",
      "    - fetch_food_data() : qui sert à télécharger dans un sous-dossier du dossier de travail, 'datasets', le fichier .csv contenant  le jeu de données complet issu de https://fr.openfoodfacts.org/data\n",
      "    - load_food_data() : qui sert à charger ce jeu de données dans un DataFrame\n",
      "\n",
      "FUNCTIONS\n",
      "    fetch_food_data(food_path='datasets', dwnld_url='https://s3-eu-west-1.amazonaws.com/static.oc-static.com/prod/courses/files/parcours-data-scientist/P2/fr.openfoodfacts.org.products.csv.zip', zip_path='datasets\\\\fr.openfoodfacts.org.products.csv.zip', file_name='fr.openfoodfacts.org.products.csv')\n",
      "        fonction d'extraction des données depuis https://world.openfoodfacts.org/data\n",
      "    \n",
      "    load_food_data(file_path='datasets\\\\fr.openfoodfacts.org.products.csv')\n",
      "        fonction de chargement des données extraites dans un dataframe\n",
      "\n",
      "DATA\n",
      "    DOWNLOAD_URL = 'https://s3-eu-west-1.amazonaws.com/static.oc-sta...cie...\n",
      "    FILE_NAME = 'fr.openfoodfacts.org.products.csv'\n",
      "    FILE_PATH = r'datasets\\fr.openfoodfacts.org.products.csv'\n",
      "    FOOD_PATH = 'datasets'\n",
      "    ZIP_NAME = 'fr.openfoodfacts.org.products.csv.zip'\n",
      "    ZIP_PATH = r'datasets\\fr.openfoodfacts.org.products.csv.zip'\n",
      "\n",
      "FILE\n",
      "    c:\\users\\jkomb\\desktop\\notebooks ia\\+2. projet application santé publique\\fetch_load_datas.py\n",
      "\n",
      "\n"
     ]
    }
   ],
   "source": [
    "help(FETCH_LOAD_DATAS)"
   ]
  },
  {
   "cell_type": "markdown",
   "id": "76481b57",
   "metadata": {},
   "source": [
    "## Découverte du jeu de données"
   ]
  },
  {
   "cell_type": "code",
   "execution_count": null,
   "id": "aff5a592",
   "metadata": {},
   "outputs": [],
   "source": [
    "df_food = FETCH_LOAD_DATAS.load_food_data()"
   ]
  },
  {
   "cell_type": "code",
   "execution_count": null,
   "id": "3390887f",
   "metadata": {},
   "outputs": [],
   "source": [
    "df = df_food.copy()"
   ]
  },
  {
   "cell_type": "code",
   "execution_count": null,
   "id": "5eb653ca",
   "metadata": {},
   "outputs": [],
   "source": [
    "df.shape"
   ]
  },
  {
   "cell_type": "code",
   "execution_count": null,
   "id": "b3e28271",
   "metadata": {},
   "outputs": [],
   "source": [
    "df.head()"
   ]
  },
  {
   "cell_type": "code",
   "execution_count": null,
   "id": "2cd845d2",
   "metadata": {},
   "outputs": [],
   "source": [
    "df.isna().mean().mean()"
   ]
  },
  {
   "cell_type": "code",
   "execution_count": null,
   "id": "e9b29e60",
   "metadata": {
    "scrolled": true
   },
   "outputs": [],
   "source": [
    "#trier par valeur de taux de remplissage\n",
    "msno.bar(df, sort='ascending')"
   ]
  },
  {
   "cell_type": "code",
   "execution_count": null,
   "id": "0c255d97",
   "metadata": {
    "scrolled": false
   },
   "outputs": [],
   "source": [
    "#cellule utilisée pour naviguer à traver les colonnes pour se faire une idée des valeurs qu'elles contiennent\n",
    "df['traces_tags'].value_counts()[20:]"
   ]
  },
  {
   "cell_type": "code",
   "execution_count": null,
   "id": "cb9cd81e",
   "metadata": {
    "scrolled": false
   },
   "outputs": [],
   "source": [
    "#cellule utilisée pour naviguer dans le jeu de données pour observer les taux de remplissage par bloc\n",
    "msno.matrix(df.iloc[:1000,58:])"
   ]
  },
  {
   "cell_type": "code",
   "execution_count": null,
   "id": "caed7733",
   "metadata": {},
   "outputs": [],
   "source": [
    "df.isna().mean(axis=1).hist(bins=100)"
   ]
  },
  {
   "cell_type": "code",
   "execution_count": null,
   "id": "99367ecd",
   "metadata": {},
   "outputs": [],
   "source": [
    "df.isna().mean(axis=1)[df.isna().mean(axis=1) > 0.75]"
   ]
  },
  {
   "cell_type": "code",
   "execution_count": null,
   "id": "b85a9a0a",
   "metadata": {
    "scrolled": true
   },
   "outputs": [],
   "source": [
    "df.isna().mean().hist(bins=100)"
   ]
  },
  {
   "cell_type": "code",
   "execution_count": null,
   "id": "b258afce",
   "metadata": {},
   "outputs": [],
   "source": [
    "df.isna().mean()[df.isna().mean() > 0.90]"
   ]
  },
  {
   "cell_type": "markdown",
   "id": "1ef8baa8",
   "metadata": {},
   "source": [
    "### Description du jeu de données\n",
    "\n",
    "Le jeu de données est un ensemble de 320772 lignes et 160 colonnes qui présente un certain nombre de caractéristiques de produits alimentaires : \n",
    "- <b>générales</b> (origine, site de transformation, packaging, ingrédients, etc.)\n",
    "- <b>particulières</b> (présence d'additifs, présence d'allergènes, appartenance à un label bio ou autre, etc.)\n",
    "- <b>nutritionnelles</b> (taux de protéines, fibres, graisses monosaturées, vitamine b6, etc.)\n",
    "\n",
    "Les caractéristiques de chaque produit sont réparties en <u>5 parties significatives</u> :\n",
    "1. Une partie générale relative à la base de données du site https://world.openfoodfacts.org/data\n",
    "2. Une partie informative contenant des métadonnées du produit (packaging, origine, lieu de transformation, etc.)\n",
    "3. Une partie 'constitution du produit' avec les ingrédients, allergènes et traces d'autres produits qu'il peut contenir\n",
    "4. Une partie présentant des informations diverses telles que la présence d'additifs, d'huile de palme et notamment sur le NUTRISCORE** du produit\n",
    "5. Une partie nutritionnelle où l'on retrouve toutes les informations typiques d'énergie pour 100g de produit consommé, la teneur en 96 nutriments différents pour 100 g de produits ainsi que le nutriscore** du produit.\n",
    "\n",
    "** On fait ici la différence entre le NUTRISCORE (A,B,C,D,E) et le nutriscore qui est la valeur numérique avant transformation en catégorie (A,B,C,D,E). Cette distinction sera faite dans toute la suite de notre étude.\n",
    "\n",
    "Le jeu de données présente un taux de valeurs manquantes de <b>76%</b> :\n",
    "- Près de la moitié des colonnes présentent un taux de valeurs manquantes supérieur à <b>99%</b>, mode de la distribution des  taux de valeurs manquantes des colonnes (74 colonnes)\n",
    "- Plus de 60% des colonnes présentent un taux de valeurs manquantes supérieur à <b>90%</b> (100 colonnes)\n",
    "- Plus de 2/3 des lignes (71%) présentent un taux de valeurs manquantes supérieur à <b>75%</b>, mode de la distribution des taux de valeurs manquantes des lignes (229030 lignes)"
   ]
  },
  {
   "cell_type": "markdown",
   "id": "26608da2",
   "metadata": {},
   "source": [
    "### Sélection des variables utiles\n",
    "\n",
    "Pour la suite de notre étude du jeu de données, nous allons, partie par partie décortiquer les variables que nous allons garder, et selon ces colonnes, les individus dont nous allons nous séparer.\n",
    "\n",
    "Comme il y a significativement plus valeurs pour les colonnes du début du tableau, que pour les colonnes du milieu vers la fin du tableau (à l'exception du nutriscore), nous considérons que nous pourrons épurer celui-ci de gauche à droite, de partie en partie, à quelques exceptions près de variables peut-être."
   ]
  },
  {
   "cell_type": "markdown",
   "id": "705ba50e",
   "metadata": {},
   "source": [
    "#### 1. Partie générale relative à la base de données des produits"
   ]
  },
  {
   "cell_type": "code",
   "execution_count": null,
   "id": "9374f6f9",
   "metadata": {},
   "outputs": [],
   "source": [
    "col1 = list(df.columns[:df.columns.get_loc('packaging')])\n",
    "col1"
   ]
  },
  {
   "cell_type": "markdown",
   "id": "d0156807",
   "metadata": {},
   "source": [
    "Nous n'allons conserver que les colonnes 'code', 'url', 'last_modified_datetime' et 'product_name'.\n",
    "- Nous espérons à ce stade utiliser la colonne 'code' comme identifiant unique pour chaque produit.\n",
    "- La colonne 'url' renvoie à la page produit sur le site \"openfoodfacts\"\n",
    "- La colonne 'last_modified_datetime' pourra nous prévenir de l'ajout d'information sur un produit que nous pourrons alors peut être mieux analyser\n",
    "- La colonne 'product_name' pour permettre à l'utilisateur de notre application de réaliser une recherche textuelle simple\n"
   ]
  },
  {
   "cell_type": "code",
   "execution_count": null,
   "id": "406a25ee",
   "metadata": {},
   "outputs": [],
   "source": [
    "col_part1_to_drop = [x for x in col1 if x not in ['code','url','last_modified_datetime','product_name' ]]\n",
    "df.drop(columns=col_part1_to_drop, inplace=True)"
   ]
  },
  {
   "cell_type": "code",
   "execution_count": null,
   "id": "4beec99b",
   "metadata": {},
   "outputs": [],
   "source": [
    "df.dropna(subset=['code'],inplace=True, axis=0)"
   ]
  },
  {
   "cell_type": "code",
   "execution_count": null,
   "id": "abaeaf45",
   "metadata": {},
   "outputs": [],
   "source": [
    "df[df['code'].duplicated(keep=False)].sort_values('code', ascending=True).head()"
   ]
  },
  {
   "cell_type": "markdown",
   "id": "2659b398",
   "metadata": {},
   "source": [
    "Pour les doublons, à ce stade, nous n'allons garder que l'occurence présentant le plus faible taux de valeurs manquantes."
   ]
  },
  {
   "cell_type": "code",
   "execution_count": null,
   "id": "799d8686",
   "metadata": {},
   "outputs": [],
   "source": [
    "df['taux_Nan'] = df.isna().mean(axis=1)\n",
    "df.sort_values('taux_Nan', ascending=False, inplace=True)\n",
    "df.drop_duplicates(subset=['code'], keep='first', inplace=True)\n",
    "df.drop('taux_Nan', axis=1, inplace=True)"
   ]
  },
  {
   "cell_type": "code",
   "execution_count": null,
   "id": "35543093",
   "metadata": {},
   "outputs": [],
   "source": [
    "df.shape"
   ]
  },
  {
   "cell_type": "code",
   "execution_count": null,
   "id": "f67b93d3",
   "metadata": {},
   "outputs": [],
   "source": [
    "df['code'].isna().mean()"
   ]
  },
  {
   "cell_type": "code",
   "execution_count": null,
   "id": "4235e4ad",
   "metadata": {},
   "outputs": [],
   "source": [
    "df['code'].nunique()/df['code'].shape[0]"
   ]
  },
  {
   "cell_type": "code",
   "execution_count": null,
   "id": "eeadb1c8",
   "metadata": {},
   "outputs": [],
   "source": [
    "df_1 = df.copy()"
   ]
  },
  {
   "cell_type": "code",
   "execution_count": null,
   "id": "ec916002",
   "metadata": {},
   "outputs": [],
   "source": [
    "df['url'].str.startswith('http').sum()"
   ]
  },
  {
   "cell_type": "markdown",
   "id": "8bf263c8",
   "metadata": {},
   "source": [
    "La colonne 'code' peut désormais être considérée comme notre colonne identifiante pour nos données.\n",
    "Le travail sur le jeu de données vis-à-vis de la partie 1 est terminée."
   ]
  },
  {
   "cell_type": "markdown",
   "id": "9f290715",
   "metadata": {},
   "source": [
    "### RAF partie 1 :\n",
    "- vérifier la validité des 'url' (https://www.moonbooks.org/Articles/Vérifier-si-une-adresse-url-existe-avec-python/)\n",
    "- vérifier la validité des dates de la colonne 'last_modified_datetime'"
   ]
  },
  {
   "cell_type": "markdown",
   "id": "43c06bc0",
   "metadata": {},
   "source": [
    "#### 2. Partie informative contenant des métadonnées du produit"
   ]
  },
  {
   "cell_type": "code",
   "execution_count": null,
   "id": "906d8723",
   "metadata": {},
   "outputs": [],
   "source": [
    "col2 = list(df.columns[df.columns.get_loc('packaging'):(df.columns.get_loc('countries_fr')+1)])"
   ]
  },
  {
   "cell_type": "code",
   "execution_count": null,
   "id": "3c794db9",
   "metadata": {},
   "outputs": [],
   "source": [
    "df[col2].isna().mean()"
   ]
  },
  {
   "cell_type": "code",
   "execution_count": null,
   "id": "7308f7d1",
   "metadata": {
    "scrolled": true
   },
   "outputs": [],
   "source": [
    "# cellule utilisée pour explorer les différents nombres de valeurs uniques\n",
    "df['categories_fr'].value_counts()"
   ]
  },
  {
   "cell_type": "markdown",
   "id": "c989a683",
   "metadata": {},
   "source": [
    "- Dans un premier temps, nous n'allons garder que les produits distribués en France en effectuant un tri sur la colonne 'countries_fr', puis nous allons supprimer toutes les colonnes 'countries_x'\n",
    "\n",
    "\n",
    "- Ensuite, nous allons supprimer toutes les colonnes \"_tags\" car elles comportent les mêmes données que les colonnes auxquelles elles sont associées, mais avec une mise en forme qui les rend plus difficilement lisibles.\n",
    "    \n",
    "\n",
    "- Nous allons également supprimer les colonnes 'cities', 'cities_tags' ainsi que 'purchase_places' car nous considérons que les produits sont disponibles partout en France, ainsi que la colonne 'categories' qui est redondante avec la colonne 'categories_fr' et moins synthétique (moins de valeurs uniques pour un taux de remplissage identique).\n",
    "\n"
   ]
  },
  {
   "cell_type": "code",
   "execution_count": null,
   "id": "6dfd9602",
   "metadata": {},
   "outputs": [],
   "source": [
    "df = df_1.copy()"
   ]
  },
  {
   "cell_type": "code",
   "execution_count": null,
   "id": "131ad514",
   "metadata": {
    "scrolled": false
   },
   "outputs": [],
   "source": [
    "df = df[df['countries_fr'].str.contains('France', regex=False).fillna(False)]"
   ]
  },
  {
   "cell_type": "code",
   "execution_count": null,
   "id": "66356a6b",
   "metadata": {},
   "outputs": [],
   "source": [
    "L_split = [col.split('_') for col in col2]\n",
    "L_tags = ['tags' in x for x in L_split]\n",
    "col_part2_to_drop = [x for x,y in zip(col2, L_tags) if y]\n",
    "col_part2_to_drop.append('countries')\n",
    "col_part2_to_drop.append('countries_fr')\n",
    "col_part2_to_drop.append('purchase_places')\n",
    "col_part2_to_drop.append('cities')\n",
    "col_part2_to_drop.append('categories')\n",
    "df.drop(columns=col_part2_to_drop, inplace=True)"
   ]
  },
  {
   "cell_type": "markdown",
   "id": "8f56d107",
   "metadata": {},
   "source": [
    "Nous allons maintenant travailler sur la colonne 'categories_fr'.\n",
    "- Nous allons tâcher de synthétiser les catégories tout en ne perdant pas trop de granularité car nous nous appuierons sur les catégories de produits pour faire des recommandations dans notre application\n",
    "- Nous mettrons en évidence la présence de 'viande' et de 'porc' pour les spécificités des certains régimes, la présence de 'poisson', 'fruits de mer', 'oeuf' et 'gluten' sera traitée dans la prochaine partie avec les allergènes."
   ]
  },
  {
   "cell_type": "code",
   "execution_count": null,
   "id": "36b1373f",
   "metadata": {},
   "outputs": [],
   "source": [
    "plt.figure(figsize=(15,8))\n",
    "df['categories_fr'].value_counts()[:50].plot.bar()"
   ]
  },
  {
   "cell_type": "code",
   "execution_count": null,
   "id": "74126cdd",
   "metadata": {},
   "outputs": [],
   "source": [
    "# pour faciliter le travail sur les chaînes de caractères, on les passe toutes en minuscule\n",
    "df['categories_fr'] = df['categories_fr'].str.lower()"
   ]
  },
  {
   "cell_type": "code",
   "execution_count": null,
   "id": "9e83f4da",
   "metadata": {},
   "outputs": [],
   "source": [
    "df['categories_fr'].notna().sum()"
   ]
  },
  {
   "cell_type": "code",
   "execution_count": null,
   "id": "91282859",
   "metadata": {},
   "outputs": [],
   "source": [
    "df['categories_fr'].nunique()"
   ]
  },
  {
   "cell_type": "code",
   "execution_count": null,
   "id": "500f11b9",
   "metadata": {},
   "outputs": [],
   "source": [
    "# on crée un dictionnaire nous renseignant sur le nombre d'occurences de chaque 'sous-catégorie' \n",
    "# parmi les différentes catégories\n",
    "def dict_subcateg(col_name):\n",
    "    dict_tmp = {}\n",
    "    L_split_subcateg = df[col_name].value_counts().index.str.split(',').tolist()\n",
    "    for liste in L_split_subcateg:\n",
    "        for element in liste:\n",
    "            if element not in dict_tmp.keys():\n",
    "                dict_tmp[element]=1\n",
    "            else:\n",
    "                dict_tmp[element]+=1\n",
    "\n",
    "    dict_subcateg = {}\n",
    "    sorted_keys = sorted(dict_tmp, key=dict_tmp.get, reverse=True)\n",
    "\n",
    "    for w in sorted_keys:\n",
    "        dict_subcateg[w] = dict_tmp[w]\n",
    "\n",
    "    return dict_subcateg\n",
    "\n",
    "dict_subcateg('categories_fr')"
   ]
  },
  {
   "cell_type": "markdown",
   "id": "c405ee42",
   "metadata": {},
   "source": [
    "Les sous-catégories suivantes sont trop générales :\n",
    "- 'aliments et boissons à base de végétaux'\n",
    "- \"aliments d'origine végétale\"\n",
    "- 'aliments à base de fruits et de légumes'\n",
    "- 'boissons'\n",
    "\n",
    "Nous décidons de catégoriser les produits sans elles, en créant une nouvelle colonne en retirant leur présence, et en ne sélectionnant qu'un nombre réduit de catégories pour décrire chaque produit :"
   ]
  },
  {
   "cell_type": "code",
   "execution_count": null,
   "id": "81c17f53",
   "metadata": {},
   "outputs": [],
   "source": [
    "list_cat_to_del = ['aliments et boissons à base de végétaux', \"aliments d'origine végétale\",\n",
    "                   'aliments à base de fruits et de légumes', 'boissons']"
   ]
  },
  {
   "cell_type": "code",
   "execution_count": null,
   "id": "84b478aa",
   "metadata": {},
   "outputs": [],
   "source": [
    "# fonction renvoyant la chaîne de caractère 'value' raccourcie dont on a gardé les 'n_synth' premiers éléments \n",
    "# séparés par des virgules, en retirant les catégories passées en argument\n",
    "def synthetize_value(value, n_synth, list_cat_to_del=list_cat_to_del):\n",
    "    split_value = str(value).split(',')\n",
    "    for cat in list_cat_to_del:\n",
    "        split_value = [value for value in split_value if value != cat]\n",
    "    synth_value = ''\n",
    "    n = len(split_value)\n",
    "    if n!=0:\n",
    "        for i in range(np.min([n,n_synth])-1):\n",
    "            synth_value += (str(split_value[i])+', ')\n",
    "        synth_value += str(split_value[(np.min([n,n_synth])-1)])\n",
    "    return synth_value"
   ]
  },
  {
   "cell_type": "markdown",
   "id": "fd3e8563",
   "metadata": {},
   "source": [
    "Pour avoir une idée de l'effet de notre catégorisation synthétique, on peut regarder combien de nouvelles modalités différentes il nous faut garder pour décrirer tous nos produits :"
   ]
  },
  {
   "cell_type": "code",
   "execution_count": null,
   "id": "7c82bd35",
   "metadata": {},
   "outputs": [],
   "source": [
    "# on trace pour chaque nombre de sous-catégories que l'on garde pour décrire un produit, l'évolution \n",
    "def display_categ_repart(n_synth, n_newmodality):\n",
    "    L_plot = []\n",
    "    plt.figure(figsize=(12,6))\n",
    "    for i in range(n_synth+1):\n",
    "        L_tmp = []\n",
    "        Serie_synth_categ = df[df['categories_fr'].notna()].apply(lambda x: synthetize_value(x['categories_fr'],i), axis=1)\n",
    "        for j in range(1,(n_newmodality+1)):\n",
    "            L_tmp.append(Serie_synth_categ.value_counts()[:j].sum()/len(Serie_synth_categ))\n",
    "        plt.plot(list(range(1,(n_newmodality+1))), L_tmp, label=f'n_synth={i}')\n",
    "   \n",
    "    plt.legend(bbox_to_anchor=(1,1))\n",
    "    plt.grid(visible=True)\n",
    "    plt.show()"
   ]
  },
  {
   "cell_type": "code",
   "execution_count": null,
   "id": "c85a4b91",
   "metadata": {
    "scrolled": false
   },
   "outputs": [],
   "source": [
    "display_categ_repart(3,100)"
   ]
  },
  {
   "cell_type": "markdown",
   "id": "3ab7e472",
   "metadata": {},
   "source": [
    "On constate sans surprise, qu'en ne gardant qu'une sous-catégorie pour décrire un produit, avec seulement 20 nouvelles modalités, nous décrvions plus de 90% des produits, mais on obtient alors des catégories trop larges pour que la recommandation d'un produit appartenant à la même catégorie puisse toujours être pertinente. Il suffit de comparer les modalités les plus présentes dans le jeu de données pour 'n_synth' = 1, 2 puis 3 pour s'en apercevoir :"
   ]
  },
  {
   "cell_type": "code",
   "execution_count": null,
   "id": "922a286b",
   "metadata": {},
   "outputs": [],
   "source": [
    "# fonction créant la colonne catégorielle synthétique associée à la valeur de n_synth et contenant les n_synth premières\n",
    "# sous-catégories de la colonne 'categories_fr' du produit\n",
    "def set_col_categ_synth(n_synth):\n",
    "    if 'categories_synth' in df.columns:\n",
    "        df.drop('categories_synth', axis=1, inplace=True)\n",
    "    Serie_categ_synth = df.apply(lambda x: synthetize_value(x['categories_fr'],n_synth), axis=1)\n",
    "    df.insert(loc=(df.columns.get_loc('categories_fr')+1), column='categories_synth', value=Serie_categ_synth)"
   ]
  },
  {
   "cell_type": "code",
   "execution_count": null,
   "id": "7d617c3a",
   "metadata": {},
   "outputs": [],
   "source": [
    "set_col_categ_synth(1)\n",
    "df['categories_synth'].value_counts()[:10]"
   ]
  },
  {
   "cell_type": "code",
   "execution_count": null,
   "id": "9282841c",
   "metadata": {
    "scrolled": false
   },
   "outputs": [],
   "source": [
    "set_col_categ_synth(2)\n",
    "df['categories_synth'].value_counts()[:10]"
   ]
  },
  {
   "cell_type": "code",
   "execution_count": null,
   "id": "d5646e15",
   "metadata": {},
   "outputs": [],
   "source": [
    "set_col_categ_synth(3)\n",
    "df['categories_synth'].value_counts()[:20]"
   ]
  },
  {
   "cell_type": "markdown",
   "id": "07f00bf1",
   "metadata": {},
   "source": [
    "Pour la suite de l'étude nous allons garder les colonnes obtenues pour n_synth = 2 et 3, ainsi, si nous ne trouvons pas de produits à recommander dans la catégorie d'un produit associée à n_synth = 3, nous pourrons proposer un élargissement de recommandation à la catégorie de ce produit associée à n_synth = 2 à défaut."
   ]
  },
  {
   "cell_type": "markdown",
   "id": "9909a0b2",
   "metadata": {},
   "source": [
    "Pour la suite de l'étude nous allons créer 3 colonnes catégorielles chacune comportant la valeur de la sous-catégorie de niveau 0, 1 et 2 (ie. n_synth = 1, 2 et 3). Il sera alors facile de proposer des produits similaires à leur recherche nos utilisateurs finaux, et à défaut, de proposer un élargissement de recherche en proposant des produits de la même catégorie parent, ainsi de suite.. \n",
    "\n",
    "Par ailleurs, il sera possible d'encoder chacune des colonnes pour faciliter le traitement les traitements numériques de notre jeu de données ultérieurement !\n",
    "\n",
    "Pour cela, nous allons modifier nos fonctions 'synthetize_value' et 'set_col_categ_synth' :"
   ]
  },
  {
   "cell_type": "code",
   "execution_count": null,
   "id": "84d69ce1",
   "metadata": {},
   "outputs": [],
   "source": [
    "# fonction retournant une liste des n_synth_max premières catégories d'un produit, en mettant la valeur 'x' si le produit\n",
    "# n'est pas décrit par n_synth_max catégories\n",
    "def list_synth_value(value, n_synth_max, list_cat_to_del=list_cat_to_del):\n",
    "    split_value = str(value).split(',')\n",
    "    for cat in list_cat_to_del:\n",
    "        split_value = [value for value in split_value if value != cat]\n",
    "    list_synth = []\n",
    "    n=len(split_value)\n",
    "    for i in range(n_synth_max):\n",
    "        if i < n:\n",
    "            list_synth.append(split_value[i])\n",
    "        else:\n",
    "            list_synth.append('x')\n",
    "    return list_synth"
   ]
  },
  {
   "cell_type": "code",
   "execution_count": null,
   "id": "cf82c436",
   "metadata": {},
   "outputs": [],
   "source": [
    "list_synth_value(df.loc[df[df[\"categories_fr\"].notna()].head(1).index[0]]['categories_fr'],3)"
   ]
  },
  {
   "cell_type": "code",
   "execution_count": null,
   "id": "36583421",
   "metadata": {},
   "outputs": [],
   "source": [
    "list_synth_value(df.loc[df[df[\"categories_fr\"].isna()].head(1).index[0]]['categories_fr'],3)"
   ]
  },
  {
   "cell_type": "code",
   "execution_count": null,
   "id": "b5b3c7cf",
   "metadata": {},
   "outputs": [],
   "source": [
    "# fonction créant les colonnes catégorielles hiérarchiques des produits, de la catégorie la plus générale (n_synth=1) à la \n",
    "# catégorie la plus particulière (n_synth=n_synth_max)\n",
    "def set_cols_categ_synth(n_synth_max):\n",
    "    for i in range (n_synth_max):\n",
    "        col_name = 'categories_synth{}'.format((i+1))\n",
    "        if col_name in df.columns:\n",
    "            df.drop(col_name, axis=1, inplace=True)\n",
    "        Serie_categ_synth = df.apply(lambda x: list_synth_value(x['categories_fr'],n_synth_max)[i], axis=1)\n",
    "        df.insert(loc=(df.columns.get_loc('categories_fr')+(i+1)), column=col_name, value=Serie_categ_synth)"
   ]
  },
  {
   "cell_type": "code",
   "execution_count": null,
   "id": "ae72c7fe",
   "metadata": {},
   "outputs": [],
   "source": [
    "set_cols_categ_synth(3)"
   ]
  },
  {
   "cell_type": "code",
   "execution_count": null,
   "id": "88d1deed",
   "metadata": {},
   "outputs": [],
   "source": [
    "df[df['categories_fr'].notna()].iloc[:, df.columns.get_loc('categories_fr'):df.columns.get_loc('categories_fr')+4]"
   ]
  },
  {
   "cell_type": "markdown",
   "id": "88497a70",
   "metadata": {},
   "source": [
    "Créons maintenant les colonnes nous permettant de savoir si un produit contient de la viande (pour les végétariens, végétaliens, et flexitariens) et du porc (pour ceux qui n'en consomment pas quelque soit la raison)."
   ]
  },
  {
   "cell_type": "code",
   "execution_count": null,
   "id": "a9669004",
   "metadata": {},
   "outputs": [],
   "source": [
    "df.insert(loc=(df.columns.get_loc('categories_synth3')+1), column='viande', value=df['categories_fr'].apply(lambda x: 1 if str(x).__contains__('viande') else 0))\n",
    "df.insert(loc=(df.columns.get_loc('categories_synth3')+2), column='porc', value=df['categories_fr'].apply(lambda x: 1 if str(x).__contains__('porc') else 0))"
   ]
  },
  {
   "cell_type": "code",
   "execution_count": null,
   "id": "22c8ad9b",
   "metadata": {},
   "outputs": [],
   "source": [
    "df[df['porc']==1]['viande'].value_counts()"
   ]
  },
  {
   "cell_type": "code",
   "execution_count": null,
   "id": "457d79fc",
   "metadata": {
    "scrolled": true
   },
   "outputs": [],
   "source": [
    "df.loc[df['porc']==1, 'viande']=1"
   ]
  },
  {
   "cell_type": "markdown",
   "id": "ba94e8aa",
   "metadata": {},
   "source": [
    "Nous n'avons dès lors plus besoin de la colonne 'categories_fr'."
   ]
  },
  {
   "cell_type": "code",
   "execution_count": null,
   "id": "72f367ed",
   "metadata": {},
   "outputs": [],
   "source": [
    "df.drop('categories_fr', axis=1, inplace=True)"
   ]
  },
  {
   "cell_type": "code",
   "execution_count": null,
   "id": "86ca33d9",
   "metadata": {},
   "outputs": [],
   "source": [
    "df_2 = df.copy()"
   ]
  },
  {
   "cell_type": "markdown",
   "id": "d80403f1",
   "metadata": {},
   "source": [
    "### RAF partie 2 :\n",
    "- vérifier les données aberrantes des colonnes"
   ]
  },
  {
   "cell_type": "markdown",
   "id": "6e3f2146",
   "metadata": {},
   "source": [
    "#### 3. Partie 'constitution du produit'\n",
    "\n"
   ]
  },
  {
   "cell_type": "code",
   "execution_count": null,
   "id": "b374768f",
   "metadata": {},
   "outputs": [],
   "source": [
    "df = df_2.copy()"
   ]
  },
  {
   "cell_type": "code",
   "execution_count": null,
   "id": "f363bb3e",
   "metadata": {},
   "outputs": [],
   "source": [
    "col3 = list(df.columns[df.columns.get_loc('ingredients_text'):df.columns.get_loc('serving_size')])\n",
    "col3"
   ]
  },
  {
   "cell_type": "code",
   "execution_count": null,
   "id": "07f08317",
   "metadata": {},
   "outputs": [],
   "source": [
    "df[col3]"
   ]
  },
  {
   "cell_type": "code",
   "execution_count": null,
   "id": "6331e592",
   "metadata": {
    "scrolled": true
   },
   "outputs": [],
   "source": [
    "df[col3].isna().mean()"
   ]
  },
  {
   "cell_type": "code",
   "execution_count": null,
   "id": "eecc402e",
   "metadata": {},
   "outputs": [],
   "source": [
    "df[col3].nunique()"
   ]
  },
  {
   "cell_type": "markdown",
   "id": "b5334db2",
   "metadata": {},
   "source": [
    "A ce stade nous savons que nous allons supprimer la colonne 'allergens_fr', 'traces_tags' qui nous fournit une information similaire à celle de 'traces_fr' mais en anglais et dans une mise en forme moins lisible et 'traces' qui nous fournit une information moins synthétique que 'traces_fr' (plus de valeurs uniques pour le même taux de remplissage).\n",
    "\n",
    "Notons que les colonnes 'allergens' et 'traces_fr' contiennent le même type d'information : la présence de substances pouvant provoquer une allergie.\n",
    "\n",
    "- Nous combinerons donc ces 2 colonnes en espérant ainsi obtenir une information plus complète."
   ]
  },
  {
   "cell_type": "code",
   "execution_count": null,
   "id": "768ba8e4",
   "metadata": {},
   "outputs": [],
   "source": [
    "df.drop(['allergens_fr','traces_tags','traces'], axis=1, inplace=True)"
   ]
  },
  {
   "cell_type": "code",
   "execution_count": null,
   "id": "4a294f06",
   "metadata": {},
   "outputs": [],
   "source": [
    "col3 = list(df.columns[df.columns.get_loc('ingredients_text'):df.columns.get_loc('serving_size')])\n",
    "df[col3].isna().mean()"
   ]
  },
  {
   "cell_type": "code",
   "execution_count": null,
   "id": "5aa21def",
   "metadata": {},
   "outputs": [],
   "source": [
    "# pour faciliter le travail sur les chaînes de caractères, on les passe toutes en minuscule\n",
    "df['traces_fr'] = df['traces_fr'].str.lower()\n",
    "df['allergens'] = df['allergens'].str.lower()"
   ]
  },
  {
   "cell_type": "code",
   "execution_count": null,
   "id": "843c2043",
   "metadata": {},
   "outputs": [],
   "source": [
    "def get_list_split_str(col_name):\n",
    "    return df[col_name].value_counts().index.str.split(',').tolist()"
   ]
  },
  {
   "cell_type": "code",
   "execution_count": null,
   "id": "6a0c936b",
   "metadata": {},
   "outputs": [],
   "source": [
    "L_traces = get_list_split_str('traces_fr')\n",
    "len(L_traces)"
   ]
  },
  {
   "cell_type": "code",
   "execution_count": null,
   "id": "a45eab32",
   "metadata": {},
   "outputs": [],
   "source": [
    "L_traces"
   ]
  },
  {
   "cell_type": "code",
   "execution_count": null,
   "id": "ec3a8e9d",
   "metadata": {},
   "outputs": [],
   "source": [
    "L_allergens = get_list_split_str('allergens')\n",
    "len(L_allergens)"
   ]
  },
  {
   "cell_type": "code",
   "execution_count": null,
   "id": "2fb015b2",
   "metadata": {},
   "outputs": [],
   "source": [
    "L_valeurs_allerg = df['traces_fr'].value_counts().index.tolist()+df['allergens'].value_counts().index.tolist()\n",
    "ens_valeurs_allerg = set(L_valeurs_allerg)\n",
    "len(ens_valeurs_allerg)"
   ]
  },
  {
   "cell_type": "code",
   "execution_count": null,
   "id": "214e45e0",
   "metadata": {},
   "outputs": [],
   "source": [
    "def get_list_uniques_splits_str(col_name):\n",
    "    list_tmp = []\n",
    "    list_splits = get_list_split_str(col_name)\n",
    "    for i in range(len(list_splits)):\n",
    "        element = list_splits[i]\n",
    "        for j in range(len(element)):\n",
    "            if element[j] not in list_tmp:\n",
    "                list_tmp.append(element[j])\n",
    "    return list_tmp"
   ]
  },
  {
   "cell_type": "code",
   "execution_count": null,
   "id": "a10f8562",
   "metadata": {},
   "outputs": [],
   "source": [
    "L_traces_uniques = get_list_uniques_splits_str('traces_fr')\n",
    "len(L_traces_uniques)"
   ]
  },
  {
   "cell_type": "code",
   "execution_count": null,
   "id": "307c60f8",
   "metadata": {},
   "outputs": [],
   "source": [
    "L_traces_uniques"
   ]
  },
  {
   "cell_type": "code",
   "execution_count": null,
   "id": "a0c0f5ff",
   "metadata": {},
   "outputs": [],
   "source": [
    "L_traces_reduit = ['blé', 'wheat','gluten', 'orge','cereales', 'epautre', 'cereals', 'glurent', \n",
    "                   \n",
    "                   'céléri','celeria', 'czeleri', 'selleri', 'celerie', \n",
    "                   \n",
    "                   'oeuf', 'œufs', 'egg', 'eggs',\n",
    "                   \n",
    "                   'coque', 'pistache', 'amande', 'noisette', 'noix','guscio', 'nusse', 'pistachio', 'haselnuss', 'secos', \n",
    "                   'nut', 'cashewnusse', 'pekannusse', 'amendoa', 'casca',\n",
    "                   \n",
    "                   'lupin', 'lupino',\n",
    "                   \n",
    "                   'lait','lactiques','lactosérum', 'milk', 'lactose', 'creme', 'beurre', 'laitier', 'laiit','lactoserum',\n",
    "                   \n",
    "                   'moutarde', 'mustard', 'mouarde', 'moutrde', \n",
    "                   \n",
    "                   'poisson', 'fish','sardines','thon', 'crevettes','fisch', 'pesce', \n",
    "                   \n",
    "                   'crustacés,', 'crustaces', 'surimi', 'crabe', 'crustacei', 'curstaces', 'crustacee', \n",
    "                   'crustacees', 'drustace',\n",
    "                   \n",
    "                   'mollusques', 'molluschi', 'jacques',\n",
    "                   \n",
    "                   'disulfite','sulfites', 'sulfates', 'sulfureux',\n",
    "                   \n",
    "                   'arachide', 'arachides', 'cacahuètes', 'cacahetes',\n",
    "                   \n",
    "                   'sesame', 'sésame', 'susam','cesame', 'sesamo',\n",
    "                   \n",
    "                   'soja', 'sija'\n",
    "                    ]\n",
    "len(L_traces_reduit)"
   ]
  },
  {
   "cell_type": "code",
   "execution_count": null,
   "id": "ce298878",
   "metadata": {},
   "outputs": [],
   "source": [
    "L_allerg_uniques = get_list_uniques_splits_str('allergens')\n",
    "len(L_allerg_uniques)"
   ]
  },
  {
   "cell_type": "code",
   "execution_count": null,
   "id": "8eea4f61",
   "metadata": {
    "scrolled": true
   },
   "outputs": [],
   "source": [
    "L_allerg_uniques"
   ]
  },
  {
   "cell_type": "code",
   "execution_count": null,
   "id": "01f82156",
   "metadata": {},
   "outputs": [],
   "source": [
    "L_allerg_reduit = ['comté', 'milch', 'vollmilchpulver', 'butterreinfett', 'magermilchpulver', 'fromage', 'emmental', 'lctosa',\n",
    "                   'laitière', 'roquefort', 'creme', 'pecorino', 'parmigiano', 'milchzucker', 'milcheiweißhydrolysat', 'gouda',\n",
    "                   'edam', 'actosérum', 'mozzarella', 'raclette', 'ricotta', 'tome', 'cheddar', 'milchschokolade', 'crème',\n",
    "                   'molkenpulver', 'parmesan', 'maroilles', 'sahnepulver', 'butter', 'magermilchjoghurtpulver', \n",
    "                   'vollmilchpulver', 'leite', 'iactose', 'beaufort','yaourt', 'magermilch', 'yaourts' ,'sahnepulver', 'édam',\n",
    "                   'présure', 'mascarpone', 'latte', 'feta', 'mimolette', 'laktose', 'iait', 'fromage', 'milchserum',\n",
    "                   'reblochon', 'eiweißpulver', 'magermilchjoghurtpulver', 'milcheiweiß', 'magermilchkonzentrat',\n",
    "                   'milchserumkonzentrat', 'whey', 'cantal', 'leche', 'lactosa', 'mantequilla', 'kuhmilch', 'weichkäse',\n",
    "                   'süßmlkenpulver', 'molke', 'magermllchpulver', 'gorgonzola', 'crème', 'laitiers', 'iactosèrum', \n",
    "                   'emmenthal', 'cream', 'lactate', 'beure', 'magemilchpulver', 'bleu', 'kondensmagermilch', 'caséinate', \n",
    "                   'gouda', 'écrémé', 'schlagsahne', 'milcheiweißpulver', 'vollfett-frischkäse', 'schlagsahne', 'reblochon',\n",
    "                   'ziegenmilch', 'tomme', 'laitiére', 'laitiéres', 'ialt', 'lactique', 'iactoserum', 'pecorino', 'ferments',\n",
    "                   'ferment', 'lacto', 'caséinates', 'maroilles', \n",
    "                   \n",
    "                   'avoine','seigle', 'épeautre', 'son', 'glutn', 'barley','gerstenmalzextrakt', 'froment', 'weizenmehl',\n",
    "                   'weizenstärke', 'weizen-reis-extrudat', 'weizen-reis-extrudat', 'weizenvollkornmehl', 'segale', 'orzo',\n",
    "                   'avena', 'weizeneiweiß', 'frumento', 'vollkornhaferflocken', 'volkornweizenflocken',\n",
    "                   'vollkorngerstenflocken', 'cebada', 'gerste', 'weichweizenmehl', 'hartweizengrieß', \n",
    "                   'roggenmehl', 'trigo', 'gerstenflocken', 'weizen', 'gerstenmalz', 'weizenflocken', 'couscous', \n",
    "                   'gerstenmalzmehl', 'weizenmalzmehl', 'blés', 'boulghour', 'gerstenvollkornmehl', 'gerstenvollkornmehl',\n",
    "                   'hafervollkornmehl', 'dinkelvollkornmehl', 'roggenvollkornmehl', 'hafervollkornflocken', \n",
    "                   'weizenvollkornflocken', 'weizenkleber', 'hartweizengrieß', 'millet', 'siegle', 'peanuts', 'malté', \n",
    "                   'weizengluten', 'amidon', 'glúten', \n",
    "                   \n",
    "                   'cajou', 'pécan','pin','pignon', 'mandeln', 'pecan', 'haselnüsse', 'amandons', 'haselnussmasse', 'haselnüsse',\n",
    "                   'noisettes', 'haselnuskern', 'haselnussmark', 'mandeln', 'cashewkerne', 'almendras', 'almonds', 'hazelnut',\n",
    "                   'avelãs', 'cashews', 'amendes', 'nuts'\n",
    "                   \n",
    "                   \n",
    "                   'cabillaud', 'saumon', 'maquereau', 'colin', 'brochet', 'écrevisses', 'limande','poissons', 'truite', 'lieu',\n",
    "                   'anchois', 'homard', 'maquereaux', 'langoustines', 'morue', 'esturgeon', 'mer', 'merlu', 'gambas', 'merlan',\n",
    "                   'bar', 'rouget', 'barbet', 'langoustine', 'harengs', 'hareng', 'sardine', \n",
    "                   \n",
    "                   'huitre', 'clams', 'coquillages', 'huître', 'tourteau', 'crustace', 'moule', 'bulots', \n",
    "                   \n",
    "                   'pulpe', 'poulpe', 'encornet', 'calamars', 'calmars', 'seiche', 'encornets', 'seiches', \n",
    "                   \n",
    "                   'soybeans', 'lécithine', 'lecithin', 'sojalecithin', 'sojakerne', 'sojalecithine', 'soia', \n",
    "                   'lécithine de soja', 'sojasoßenpulver', 'sojabohnen', 'tofu', 'mungo', 'soya', 'soy',\n",
    "                   \n",
    "                   'hühnerei-trockeneiweiß','uovo', 'hühnervolleipulver', 'hühnerei', 'eigelb', 'huevo',\n",
    "                   \n",
    "                   'sesamöl',\n",
    "                   \n",
    "                   'senf', 'moutard', \n",
    "                   \n",
    "                   'schwefeldioxid', 'sulfates','sulfito',\n",
    "                   \n",
    "                   'cacahouètes', 'erdnüsse', 'cacahuète', \n",
    "                   \n",
    "                   'céleris', 'țelină'\n",
    "                  ]\n",
    "len(L_allerg_reduit)"
   ]
  },
  {
   "cell_type": "code",
   "execution_count": null,
   "id": "a4cc0e07",
   "metadata": {},
   "outputs": [],
   "source": [
    "ens_allerg_uniques = set(L_traces_uniques)\n",
    "for element in L_allerg_uniques:\n",
    "    ens_allerg_uniques.add(element)\n",
    "len(ens_allerg_uniques)"
   ]
  },
  {
   "cell_type": "code",
   "execution_count": null,
   "id": "6200478f",
   "metadata": {},
   "outputs": [],
   "source": [
    "ens_allerg_reduit = set(L_traces_reduit)\n",
    "for element in L_allerg_reduit:\n",
    "    ens_allerg_reduit.add(element)\n",
    "len(ens_allerg_reduit)"
   ]
  },
  {
   "cell_type": "markdown",
   "id": "23380534",
   "metadata": {},
   "source": [
    "Nous allons réaliser un tableau disjonctif complet où chaque produit appartiendra à autant de catégories d'allergènes qu'il en contient. Nous ne pouvons donc pas utiliser la fonction OneHotEncoder de scikit-learn (qui ne peut attribuer qu'une modalité à chaque individu).\n",
    "Nous allons créer un ensemble de susbstances allergènes par catégorie (14 en tout), et créer une colonne pour chacune des catégories, et nous vérifierons pour chaque produit la présence de substances de la catégorie dans son champ 'allergens' et 'traces_fr'.\n",
    "\n",
    "Le travail préliminaire réalisé ci-avant a permis de passer de 11788 valeurs différentes, à 1879 modalités uniques puis à 309 modalités discriminant 14 catégories de substances allergènes (division par 38).\n",
    "\n",
    "NB : le tri des \"mots-clés\" des listes de modalités uniques pour obtenir les listes réduites a été réalisé à la main, et bien que l'opération ait été réalisée minutieusement, il y aura des manques que nous considérons comme étant des erreurs de perte d'information inhérentes au processus de transformation que nous avons choisi.\n",
    "- Une autre manière de procéder aurait été de lister l'ensemble des substances les plus courantes appartenant aux 14 catégories d'allergènes qu'il est obligatoire de mentionner sur l'emballage d'un produit, et de les traduire dans toutes les langues de l'union européenne, mais cela aurait donné un tableau trop volumineux et nous n'aurions pas pu capter les mots-clés relevant de fautes d'orthographes, les variations de mots avec ou sans accent, ainsi que les mots au pluriel comme nous avons pu le faire ici."
   ]
  },
  {
   "cell_type": "code",
   "execution_count": null,
   "id": "7882b6e5",
   "metadata": {},
   "outputs": [],
   "source": [
    "set_gluten = set(['gluten', 'glurent', 'glutn', 'glúten'\n",
    "    \n",
    "])\n",
    "\n",
    "set_oeuf = set(['hühnerei-trockeneiweiß','uovo', 'hühnervolleipulver', 'hühnerei', 'eigelb', 'huevo', 'oeuf', 'œufs', 'egg',\n",
    "                'eggs'])\n",
    "\n",
    "set_fruits_coque = set(['coque', 'pistache', 'amande', 'noisette', 'noix','guscio', 'nusse', 'pistachio', 'haselnuss', 'secos', \n",
    "                   'nut', 'cashewnusse', 'pekannusse', 'amendoa', 'casca', 'cajou', 'pécan','pin','pignon', 'mandeln', 'pecan', \n",
    "                   'haselnüsse', 'amandons', 'haselnussmasse', 'haselnüsse','noisettes', 'haselnuskern', 'haselnussmark',\n",
    "                   'mandeln', 'cashewkerne', 'almendras', 'almonds', 'hazelnut', 'avelãs', 'cashews', 'amendes', 'nuts'])\n",
    "\n",
    "set_lupin = set(['lupin', 'lupino'])\n",
    "\n",
    "set_lait = set(['lait','lactiques','lactosérum', 'milk', 'lactose', 'creme', 'beurre', 'laitier', 'laiit','lactoserum',\n",
    "                'comté', 'milch', 'vollmilchpulver', 'butterreinfett', 'magermilchpulver', 'fromage', 'emmental', 'lctosa',\n",
    "                'laitière', 'roquefort', 'creme', 'pecorino', 'parmigiano', 'milchzucker', 'milcheiweißhydrolysat', 'gouda',\n",
    "                'edam', 'actosérum', 'mozzarella', 'raclette', 'ricotta', 'tome', 'cheddar', 'milchschokolade', 'crème',\n",
    "                'molkenpulver', 'parmesan', 'maroilles', 'sahnepulver', 'butter', 'magermilchjoghurtpulver', \n",
    "                'vollmilchpulver', 'leite', 'iactose', 'beaufort','yaourt', 'magermilch', 'yaourts' ,'sahnepulver', 'édam',\n",
    "                'présure', 'mascarpone', 'latte', 'feta', 'mimolette', 'laktose', 'iait', 'fromage', 'milchserum',\n",
    "                'reblochon', 'eiweißpulver', 'magermilchjoghurtpulver', 'milcheiweiß', 'magermilchkonzentrat',\n",
    "                'milchserumkonzentrat', 'whey', 'cantal', 'leche', 'lactosa', 'mantequilla', 'kuhmilch', 'weichkäse',\n",
    "                'süßmlkenpulver', 'molke', 'magermllchpulver', 'gorgonzola', 'crème', 'laitiers', 'iactosèrum', \n",
    "                'emmenthal', 'cream', 'lactate', 'beure', 'magemilchpulver', 'bleu', 'kondensmagermilch', 'caséinate', \n",
    "                'gouda', 'écrémé', 'schlagsahne', 'milcheiweißpulver', 'vollfett-frischkäse', 'schlagsahne', 'reblochon',\n",
    "                'ziegenmilch', 'tomme', 'laitiére', 'laitiéres', 'ialt', 'lactique', 'iactoserum', 'pecorino', 'ferments',\n",
    "                'ferment', 'lacto', 'caséinates', 'maroilles'])\n",
    "\n",
    "set_sulfites = set(['schwefeldioxid', 'sulfates','sulfito', 'disulfite','sulfites', 'sulfates', 'sulfureux'])\n",
    "\n",
    "set_poissons = set(['poisson', 'fish','sardines','thon', 'crevettes','fisch', 'pesce','cabillaud', 'saumon', 'maquereau', \n",
    "                    'colin', 'brochet', 'écrevisses', 'limande','poissons', 'truite', 'lieu', 'anchois', 'homard',\n",
    "                    'maquereaux', 'langoustines', 'morue', 'esturgeon', 'mer', 'merlu', 'gambas', 'merlan', 'bar', 'rouget',\n",
    "                    'barbet', 'langoustine', 'harengs', 'hareng', 'sardine'])\n",
    "\n",
    "set_mollusques = set(['mollusques', 'molluschi', 'jacques','pulpe', 'poulpe', 'encornet', 'calamars', 'calmars', 'seiche', \n",
    "                      'encornets', 'seiches'])\n",
    "\n",
    "set_crustaces = set(['crustacés,', 'crustaces', 'surimi', 'crabe', 'crustacei', 'curstaces', 'crustacee', \n",
    "                     'crustacees', 'drustace','huitre', 'clams', 'coquillages', 'huître', 'tourteau', 'crustace',\n",
    "                     'moule', 'bulots'])\n",
    "\n",
    "set_soja = set(['soybeans', 'lécithine', 'lecithin', 'sojalecithin', 'sojakerne', 'sojalecithine', 'soia', 'lécithine de soja',\n",
    "                'sojasoßenpulver', 'sojabohnen', 'tofu', 'mungo', 'soya', 'soy','soja', 'sija'])\n",
    "\n",
    "set_cereales = set(['blé', 'wheat','gluten', 'orge','cereales', 'epautre', 'cereals', 'glurent', 'avoine','seigle', \n",
    "                    'épeautre', 'son', 'glutn', 'barley','gerstenmalzextrakt', 'froment', 'weizenmehl', 'weizenstärke',\n",
    "                    'weizen-reis-extrudat', 'weizen-reis-extrudat', 'weizenvollkornmehl', 'segale', 'orzo', 'avena', \n",
    "                    'weizeneiweiß', 'frumento', 'vollkornhaferflocken', 'volkornweizenflocken', 'vollkorngerstenflocken',\n",
    "                    'cebada', 'gerste', 'weichweizenmehl', 'hartweizengrieß', 'roggenmehl', 'trigo', 'gerstenflocken',\n",
    "                    'weizen', 'gerstenmalz', 'weizenflocken', 'couscous', 'gerstenmalzmehl', 'weizenmalzmehl', 'blés',\n",
    "                    'boulghour', 'gerstenvollkornmehl', 'gerstenvollkornmehl', 'hafervollkornmehl', 'dinkelvollkornmehl',\n",
    "                    'roggenvollkornmehl', 'hafervollkornflocken', 'weizenvollkornflocken', 'weizenkleber', 'hartweizengrieß',\n",
    "                    'millet', 'siegle', 'malté', 'weizengluten', 'amidon', 'glúten'])\n",
    "\n",
    "set_arachides = set(['arachide', 'arachides', 'cacahuètes', 'cacahetes','cacahouètes', 'erdnüsse', 'cacahuète', 'peanuts'])\n",
    "\n",
    "set_celeri = set(['céléri','celeria', 'czeleri', 'selleri', 'celerie', 'céleris', 'țelină'])\n",
    "\n",
    "set_sesame = set(['sesame', 'sésame', 'susam','cesame', 'sesamo', 'sesamöl'])\n",
    "\n",
    "set_moutarde = set(['moutarde', 'mustard', 'mouarde', 'moutrde','senf', 'moutard'])\n",
    "\n",
    "dict_allerg = {'gluten': set_gluten, 'oeuf':set_oeuf, 'fruits_coque':set_fruits_coque, 'lupin':set_lupin, 'lait':set_lait, \n",
    "               'sulfites':set_sulfites, 'poissons':set_poissons, 'mollusques':set_mollusques, 'crustaces':set_crustaces, \n",
    "               'soja':set_soja, 'cereales':set_cereales, 'arachides':set_arachides, 'celeri':set_celeri, 'sesame':set_sesame, \n",
    "               'moutarde':set_moutarde}"
   ]
  },
  {
   "cell_type": "code",
   "execution_count": null,
   "id": "12e92041",
   "metadata": {},
   "outputs": [],
   "source": [
    "for key in dict_allerg.keys():\n",
    "    print(key)"
   ]
  },
  {
   "cell_type": "code",
   "execution_count": null,
   "id": "54f2f32e",
   "metadata": {},
   "outputs": [],
   "source": [
    "len(dict_allerg.keys())"
   ]
  },
  {
   "cell_type": "code",
   "execution_count": null,
   "id": "84929f78",
   "metadata": {},
   "outputs": [],
   "source": [
    "for substance in dict_allerg['oeuf']:\n",
    "    print(substance)"
   ]
  },
  {
   "cell_type": "code",
   "execution_count": null,
   "id": "67d3cc79",
   "metadata": {
    "scrolled": true
   },
   "outputs": [],
   "source": [
    "df.insert(loc=(df.columns.get_loc('traces_fr')+1), column='substances_allergenes', value=(df['traces_fr'] + ',' + df['allergens']))"
   ]
  },
  {
   "cell_type": "code",
   "execution_count": null,
   "id": "aa63d709",
   "metadata": {
    "scrolled": true
   },
   "outputs": [],
   "source": [
    "df['substances_allergenes'].fillna('inconnues', inplace=True)"
   ]
  },
  {
   "cell_type": "code",
   "execution_count": null,
   "id": "600fd5d2",
   "metadata": {},
   "outputs": [],
   "source": [
    "df['substances_allergenes']"
   ]
  },
  {
   "cell_type": "code",
   "execution_count": null,
   "id": "8cf91621",
   "metadata": {},
   "outputs": [],
   "source": [
    "df['substances_allergenes'][253925].__contains__('lactose')"
   ]
  },
  {
   "cell_type": "markdown",
   "id": "ae5bb9ad",
   "metadata": {},
   "source": [
    "Nous constatons ici que nous aurions pu travailler sur la colonne issue de la jointure des colonnes 'traces_fr' et 'allergenes' car elle présente un nombre de valeurs uniques plus petit que la jointure des listes de valeurs uniques de ces mêmes colonnes (8367 contre 11788)."
   ]
  },
  {
   "cell_type": "code",
   "execution_count": null,
   "id": "44dc664b",
   "metadata": {},
   "outputs": [],
   "source": [
    "# nous définissons la fonction qui nous indiquera si un produit contient une substance de la catégorie passée en argument\n",
    "def contains_allerg(cat_allerg, value):\n",
    "    dict_cat = dict_allerg[cat_allerg]\n",
    "    for substance in dict_cat:\n",
    "        contains = value.__contains__(substance)\n",
    "        if contains:\n",
    "            n = 1\n",
    "            break\n",
    "        else:\n",
    "            n = 0\n",
    "    return n"
   ]
  },
  {
   "cell_type": "code",
   "execution_count": null,
   "id": "0d55746d",
   "metadata": {},
   "outputs": [],
   "source": [
    "def set_cols_cat_allerg():\n",
    "    k=1\n",
    "    func = lambda value: contains_allerg(key, value)\n",
    "    for key in dict_allerg.keys():\n",
    "        df.insert(loc=(df.columns.get_loc('traces_fr')+k), column=key, value=df['substances_allergenes'].apply(func)) \n",
    "        k+=1"
   ]
  },
  {
   "cell_type": "code",
   "execution_count": null,
   "id": "5cba7bb1",
   "metadata": {},
   "outputs": [],
   "source": [
    "set_cols_cat_allerg()"
   ]
  },
  {
   "cell_type": "code",
   "execution_count": null,
   "id": "9939fa28",
   "metadata": {},
   "outputs": [],
   "source": [
    "df[df['substances_allergenes'] != 'inconnues'].loc[:,'oeuf':'moutarde']"
   ]
  },
  {
   "cell_type": "code",
   "execution_count": null,
   "id": "d0448d2d",
   "metadata": {},
   "outputs": [],
   "source": [
    "df['soja'].sum()"
   ]
  },
  {
   "cell_type": "code",
   "execution_count": null,
   "id": "aded9d6d",
   "metadata": {},
   "outputs": [],
   "source": [
    "df.shape"
   ]
  },
  {
   "cell_type": "code",
   "execution_count": null,
   "id": "165cfa63",
   "metadata": {},
   "outputs": [],
   "source": [
    "(df[df['substances_allergenes'] != 'inconnues'].loc[:,'oeuf':'moutarde'].sum(axis=1) == 0).value_counts()"
   ]
  },
  {
   "cell_type": "markdown",
   "id": "e40f3578",
   "metadata": {},
   "source": [
    "Nous avons perdu l'information de présence d'allergènes pour uniquement 7 produits sur la totalité (0.06%).\n",
    "Nous traitons ces produits réticents à la main."
   ]
  },
  {
   "cell_type": "code",
   "execution_count": null,
   "id": "34d55cee",
   "metadata": {},
   "outputs": [],
   "source": [
    "df[df['substances_allergenes'] != 'inconnues'][df[df['substances_allergenes'] != 'inconnues'].loc[:,'oeuf':'moutarde'].sum(axis=1) == 0]['substances_allergenes']"
   ]
  },
  {
   "cell_type": "markdown",
   "id": "e65a6881",
   "metadata": {},
   "source": [
    "Nous ajoutons la valeur 'céleri' à notre ensemble 'set_celeri'."
   ]
  },
  {
   "cell_type": "code",
   "execution_count": null,
   "id": "d200220f",
   "metadata": {},
   "outputs": [],
   "source": [
    "set_celeri.clear()\n",
    "set_celeri = set_celeri = set(['céléri','celeria', 'czeleri', 'selleri', 'celerie', 'céleris', 'țelină', 'céleri'])\n",
    "dict_allerg = {'oeuf':set_oeuf, 'fruits_coque':set_fruits_coque, 'lupin':set_lupin, 'lait':set_lait, 'sulfites':set_sulfites,\n",
    "               'poissons':set_poissons, 'mollusques':set_mollusques, 'crustaces':set_crustaces, 'soja':set_soja,\n",
    "               'cereales':set_cereales, 'arachides':set_arachides, 'celeri':set_celeri, 'sesame':set_sesame, \n",
    "               'moutarde':set_moutarde}"
   ]
  },
  {
   "cell_type": "code",
   "execution_count": null,
   "id": "df1c0c4e",
   "metadata": {},
   "outputs": [],
   "source": [
    "df['celeri'] = df['substances_allergenes'].apply(lambda value: contains_allerg('celeri', value))"
   ]
  },
  {
   "cell_type": "code",
   "execution_count": null,
   "id": "f095908d",
   "metadata": {},
   "outputs": [],
   "source": [
    "(df[df['substances_allergenes'] != 'inconnues'].loc[:,'oeuf':'moutarde'].sum(axis=1) == 0).value_counts()"
   ]
  },
  {
   "cell_type": "markdown",
   "id": "10780f1e",
   "metadata": {},
   "source": [
    "On retrouve notre ligne mentionnant du 'réglisse' qui n'est pas une substance allergène à mentionner obligatoirement par le fabricant. Nous n'avons désormais plus besoin des colonnes 'traces_fr' et 'allergens'."
   ]
  },
  {
   "cell_type": "code",
   "execution_count": null,
   "id": "c398d6be",
   "metadata": {},
   "outputs": [],
   "source": [
    "df.drop(['traces_fr','allergens'], axis=1, inplace=True)"
   ]
  },
  {
   "cell_type": "code",
   "execution_count": null,
   "id": "b138722c",
   "metadata": {},
   "outputs": [],
   "source": [
    "df.shape"
   ]
  },
  {
   "cell_type": "code",
   "execution_count": null,
   "id": "0b9f73bb",
   "metadata": {},
   "outputs": [],
   "source": [
    "df_3 = df.copy()"
   ]
  }
 ],
 "metadata": {
  "kernelspec": {
   "display_name": "Python 3 (ipykernel)",
   "language": "python",
   "name": "python3"
  },
  "language_info": {
   "codemirror_mode": {
    "name": "ipython",
    "version": 3
   },
   "file_extension": ".py",
   "mimetype": "text/x-python",
   "name": "python",
   "nbconvert_exporter": "python",
   "pygments_lexer": "ipython3",
   "version": "3.9.12"
  }
 },
 "nbformat": 4,
 "nbformat_minor": 5
}
